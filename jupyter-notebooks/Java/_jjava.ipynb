{
 "cells": [
  {
   "cell_type": "markdown",
   "metadata": {},
   "source": [
    "# jjava\n",
    "* https://github.com/dflib/jjava\n",
    "\n",
    "Kernel file:\n",
    "* windows: C:\\Users\\zhouj\\AppData\\Roaming\\jupyter\\kernels\\java\\kernel.json"
   ]
  },
  {
   "cell_type": "code",
   "execution_count": 1,
   "metadata": {},
   "outputs": [
    {
     "name": "stdout",
     "output_type": "stream",
     "text": [
      "Hello jjava.\n"
     ]
    }
   ],
   "source": [
    "System.out.println(\"Hello jjava.\");"
   ]
  },
  {
   "cell_type": "code",
   "execution_count": 2,
   "metadata": {},
   "outputs": [
    {
     "data": {
      "text/plain": [
       "[A, B]"
      ]
     },
     "execution_count": 2,
     "metadata": {},
     "output_type": "execute_result"
    }
   ],
   "source": [
    "%maven com.google.guava:guava:33.4.0-jre\n",
    "\n",
    "import com.google.common.collect.*;\n",
    "\n",
    "Lists.newArrayList(\"A\", \"B\")"
   ]
  }
 ],
 "metadata": {
  "kernelspec": {
   "display_name": "Java (jjava)",
   "language": "java",
   "name": "java"
  },
  "language_info": {
   "codemirror_mode": "java",
   "file_extension": ".jshell",
   "mimetype": "text/x-java-source",
   "name": "java",
   "pygments_lexer": "java",
   "version": "17.0.9+9"
  }
 },
 "nbformat": 4,
 "nbformat_minor": 2
}
