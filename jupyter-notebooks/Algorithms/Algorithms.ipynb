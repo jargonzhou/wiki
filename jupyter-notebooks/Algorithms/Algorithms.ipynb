{
 "cells": [
  {
   "cell_type": "markdown",
   "metadata": {},
   "source": [
    "# Algorithms\n",
    "* Sedgewick, R. & Wayne, K. Algorithhms. Pearson, 2011. - Java\n",
    "\n",
    "More:\n",
    "- [Sorting.ipynb](./Sorting.ipynb)\n",
    "- [Searching.ipynb](./Searching.ipynb)\n",
    "- [Graph.ipynb](./Graph.ipynb)\n",
    "- [String.ipynb](./String.ipynb)"
   ]
  },
  {
   "cell_type": "markdown",
   "metadata": {},
   "source": [
    "# Consistent Hashing"
   ]
  },
  {
   "cell_type": "markdown",
   "metadata": {},
   "source": [
    "# Timing Wheel"
   ]
  },
  {
   "cell_type": "markdown",
   "metadata": {},
   "source": [
    "# Distributed Algorithms\n",
    "* [Distributed Transaction](./Distributed Transaction.ipynb)\n",
    "* [Consensus](./Consensus/Consensus.ipynb)"
   ]
  }
 ],
 "metadata": {
  "language_info": {
   "name": "python"
  }
 },
 "nbformat": 4,
 "nbformat_minor": 2
}
