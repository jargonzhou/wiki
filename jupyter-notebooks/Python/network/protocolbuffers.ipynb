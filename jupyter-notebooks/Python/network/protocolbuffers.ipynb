{
 "cells": [
  {
   "cell_type": "markdown",
   "metadata": {},
   "source": [
    "# Protocol Buffer Basics: Python\n",
    "- https://protobuf.dev/getting-started/pythontutorial/"
   ]
  },
  {
   "cell_type": "code",
   "execution_count": 1,
   "metadata": {},
   "outputs": [
    {
     "name": "stdout",
     "output_type": "stream",
     "text": [
      "Requirement already satisfied: protobuf in d:\\software\\miniconda3\\lib\\site-packages (5.28.3)\n"
     ]
    }
   ],
   "source": [
    "!pip install protobuf"
   ]
  },
  {
   "cell_type": "code",
   "execution_count": 4,
   "metadata": {},
   "outputs": [],
   "source": [
    "!protoc --proto_path=D:\\GoogleDrive\\code\\jupyter-notebooks\\Python\\network\\pb --python_out=pb_gen D:\\GoogleDrive\\code\\jupyter-notebooks\\Python\\network\\pb\\addressbook.proto"
   ]
  },
  {
   "cell_type": "code",
   "execution_count": 6,
   "metadata": {},
   "outputs": [
    {
     "data": {
      "text/plain": [
       "name: \"John Doe\"\n",
       "id: 1234\n",
       "email: \"jdoe@example.com\"\n",
       "phones {\n",
       "  number: \"555-4321\"\n",
       "  type: PHONE_TYPE_HOME\n",
       "}"
      ]
     },
     "execution_count": 6,
     "metadata": {},
     "output_type": "execute_result"
    }
   ],
   "source": [
    "from pb_gen import addressbook_pb2\n",
    "person = addressbook_pb2.Person()\n",
    "person.id = 1234\n",
    "person.name = \"John Doe\"\n",
    "person.email = \"jdoe@example.com\"\n",
    "phone = person.phones.add()\n",
    "phone.number = \"555-4321\"\n",
    "phone.type = addressbook_pb2.Person.PHONE_TYPE_HOME\n",
    "\n",
    "person"
   ]
  },
  {
   "cell_type": "code",
   "execution_count": null,
   "metadata": {},
   "outputs": [
    {
     "ename": "AttributeError",
     "evalue": "Protocol message Person has no \"no_such_field\" field.",
     "output_type": "error",
     "traceback": [
      "\u001b[1;31m---------------------------------------------------------------------------\u001b[0m",
      "\u001b[1;31mAttributeError\u001b[0m                            Traceback (most recent call last)",
      "Cell \u001b[1;32mIn[7], line 1\u001b[0m\n\u001b[1;32m----> 1\u001b[0m \u001b[43mperson\u001b[49m\u001b[38;5;241;43m.\u001b[39;49m\u001b[43mno_such_field\u001b[49m \u001b[38;5;241m=\u001b[39m \u001b[38;5;241m1\u001b[39m  \u001b[38;5;66;03m# raises AttributeError\u001b[39;00m\n\u001b[0;32m      2\u001b[0m person\u001b[38;5;241m.\u001b[39mid \u001b[38;5;241m=\u001b[39m \u001b[38;5;124m\"\u001b[39m\u001b[38;5;124m1234\u001b[39m\u001b[38;5;124m\"\u001b[39m        \u001b[38;5;66;03m# raises TypeError\u001b[39;00m\n",
      "\u001b[1;31mAttributeError\u001b[0m: Protocol message Person has no \"no_such_field\" field."
     ]
    }
   ],
   "source": [
    "# person.no_such_field = 1  # raises AttributeError\n",
    "# person.id = \"1234\"        # raises TypeError"
   ]
  },
  {
   "cell_type": "markdown",
   "metadata": {},
   "source": [
    "# Write a Message"
   ]
  },
  {
   "cell_type": "code",
   "execution_count": 9,
   "metadata": {},
   "outputs": [
    {
     "data": {
      "text/plain": [
       "people {\n",
       "  name: \"John Doe\"\n",
       "  id: 1234\n",
       "  email: \"jdoe@example.com\"\n",
       "  phones {\n",
       "    number: \"555-4321\"\n",
       "    type: PHONE_TYPE_HOME\n",
       "  }\n",
       "}"
      ]
     },
     "execution_count": 9,
     "metadata": {},
     "output_type": "execute_result"
    }
   ],
   "source": [
    "address_book = addressbook_pb2.AddressBook()\n",
    "\n",
    "person = address_book.people.add()\n",
    "person.id = 1234\n",
    "person.name = \"John Doe\"\n",
    "person.email = \"jdoe@example.com\"\n",
    "phone = person.phones.add()\n",
    "phone.number = \"555-4321\"\n",
    "phone.type = addressbook_pb2.Person.PHONE_TYPE_HOME\n",
    "\n",
    "address_book"
   ]
  },
  {
   "cell_type": "code",
   "execution_count": 10,
   "metadata": {},
   "outputs": [
    {
     "data": {
      "text/plain": [
       "b'\\n-\\n\\x08John Doe\\x10\\xd2\\t\\x1a\\x10jdoe@example.com\"\\x0c\\n\\x08555-4321\\x10\\x02'"
      ]
     },
     "execution_count": 10,
     "metadata": {},
     "output_type": "execute_result"
    }
   ],
   "source": [
    "address_book.SerializeToString()"
   ]
  },
  {
   "cell_type": "markdown",
   "metadata": {},
   "source": [
    "# Reading a Message"
   ]
  },
  {
   "cell_type": "code",
   "execution_count": 14,
   "metadata": {},
   "outputs": [
    {
     "data": {
      "text/plain": [
       "people {\n",
       "  name: \"John Doe\"\n",
       "  id: 1234\n",
       "  email: \"jdoe@example.com\"\n",
       "  phones {\n",
       "    number: \"555-4321\"\n",
       "    type: PHONE_TYPE_HOME\n",
       "  }\n",
       "}"
      ]
     },
     "execution_count": 14,
     "metadata": {},
     "output_type": "execute_result"
    }
   ],
   "source": [
    "address_book_2 = addressbook_pb2.AddressBook()\n",
    "address_book_2.ParseFromString(address_book.SerializeToString())\n",
    "\n",
    "address_book_2"
   ]
  }
 ],
 "metadata": {
  "kernelspec": {
   "display_name": "base",
   "language": "python",
   "name": "python3"
  },
  "language_info": {
   "codemirror_mode": {
    "name": "ipython",
    "version": 3
   },
   "file_extension": ".py",
   "mimetype": "text/x-python",
   "name": "python",
   "nbconvert_exporter": "python",
   "pygments_lexer": "ipython3",
   "version": "3.12.3"
  }
 },
 "nbformat": 4,
 "nbformat_minor": 2
}
