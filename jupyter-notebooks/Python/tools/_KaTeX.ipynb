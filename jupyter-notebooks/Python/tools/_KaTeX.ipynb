{
 "cells": [
  {
   "cell_type": "markdown",
   "metadata": {},
   "source": [
    "# KaTeX\n",
    "* https://katex.org/\n",
    "* Supported Functions: https://katex.org/docs/supported"
   ]
  },
  {
   "cell_type": "markdown",
   "metadata": {},
   "source": [
    "$n$\n",
    "\n",
    "$$\n",
    "Y = f(X) + \\epsilon\n",
    "$$"
   ]
  }
 ],
 "metadata": {
  "kernelspec": {
   "display_name": "base",
   "language": "python",
   "name": "python3"
  },
  "language_info": {
   "name": "python",
   "version": "3.12.3"
  }
 },
 "nbformat": 4,
 "nbformat_minor": 2
}
