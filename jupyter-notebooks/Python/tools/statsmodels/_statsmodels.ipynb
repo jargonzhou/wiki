{
 "cells": [
  {
   "cell_type": "markdown",
   "metadata": {},
   "source": [
    "# statsmodels\n",
    "* http://www.statsmodels.org/stable/index.html\n",
    "\n",
    "* Regression models: Linear regression, generalized linear models, robust linear models, linear mixed effects models, etc.\n",
    "* Analysis of variance (ANOVA)\n",
    "* Time series analysis: AR, ARMA, ARIMA, VAR, and other models\n",
    "* Nonparametric methods: Kernel density estimation, kernel regression\n",
    "* Visualization of statistical model results"
   ]
  }
 ],
 "metadata": {
  "kernelspec": {
   "display_name": "Python 3",
   "language": "python",
   "name": "python3"
  },
  "language_info": {
   "name": "python",
   "version": "3.11.3"
  }
 },
 "nbformat": 4,
 "nbformat_minor": 2
}
