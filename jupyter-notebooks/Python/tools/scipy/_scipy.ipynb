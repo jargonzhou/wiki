{
 "cells": [
  {
   "cell_type": "markdown",
   "metadata": {},
   "source": [
    "# SciPy\n",
    "* https://scipy.org/\n",
    "\n",
    "a collection of packages addressing a number of different standard problem domains in scientific computing\n",
    "\n",
    "\n",
    "* scipy.integrate 数值积分程序, 微分方程求解\n",
    "> Numerical integration routines and differential equation solvers\n",
    "* scipy.linalg 线性代数程序, 矩阵分解\n",
    "> Linear algebra routines and matrix decompositions extending beyond those provided in numpy.linalg\n",
    "* scipy.optimize 函数优化, 根求值算法\n",
    "> Function optimizers (minimizers) and root finding algorithms\n",
    "* scipy.signal 信号处理工具\n",
    "> Signal processing tools\n",
    "* scipy.sparse 稀疏矩阵, 稀疏线性系统求解\n",
    "> Sparse matrices and sparse linear system solvers\n",
    "* scipy.special Fortran库SPECFUN的包装器\n",
    "> Wrapper around SPECFUN, a Fortran library implementing many common mathematical functions, such as the gamma function\n",
    "* scipy.stats 标准连续和离散概览分布, 统计检验\n",
    "> Standard continuous and discrete probability distributions (density functions, samplers, continuous distribution functions), various statistical tests, and more descriptive statistics"
   ]
  }
 ],
 "metadata": {
  "kernelspec": {
   "display_name": "Python 3",
   "language": "python",
   "name": "python3"
  },
  "language_info": {
   "name": "python",
   "version": "3.11.3"
  }
 },
 "nbformat": 4,
 "nbformat_minor": 2
}
