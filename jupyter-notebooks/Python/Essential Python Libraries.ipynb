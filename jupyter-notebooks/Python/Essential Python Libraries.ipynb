{
 "cells": [
  {
   "cell_type": "markdown",
   "metadata": {},
   "source": [
    "# Core Python"
   ]
  },
  {
   "cell_type": "markdown",
   "metadata": {},
   "source": [
    "## Built-in Functions\n",
    "\n",
    "- https://docs.python.org/3/library/functions.html\n",
    "\n",
    "\n",
    "- open()\n",
    "\n",
    "https://docs.python.org/3/library/io.html#io.IOBase\n",
    "\n"
   ]
  },
  {
   "cell_type": "code",
   "execution_count": null,
   "metadata": {},
   "outputs": [],
   "source": []
  },
  {
   "cell_type": "code",
   "execution_count": null,
   "metadata": {},
   "outputs": [],
   "source": []
  },
  {
   "cell_type": "code",
   "execution_count": null,
   "metadata": {},
   "outputs": [],
   "source": []
  },
  {
   "cell_type": "code",
   "execution_count": null,
   "metadata": {},
   "outputs": [],
   "source": []
  },
  {
   "cell_type": "markdown",
   "metadata": {},
   "source": [
    "# NumPy\n",
    "\n",
    "- http://www.numpy.org/"
   ]
  },
  {
   "cell_type": "markdown",
   "metadata": {},
   "source": [
    "Numeric Python\n",
    "\n",
    "## 数据结构和功能\n",
    "\n",
    "- A fast and efficient multidimensional array object ndarray\n",
    "- Functions for performing element-wise computations with arrays or mathematical operations between arrays\n",
    "- Tools for reading and writing array-based datasets to disk\n",
    "- Linear algebra operations, Fourier transform, and random number generation\n",
    "- A mature C API to enable Python extensions and native C or C++ code to access NumPy’s data structures and computational facilities\n",
    "\n",
    "- as a container for data to be passed between algorithms and libraries"
   ]
  },
  {
   "cell_type": "markdown",
   "metadata": {},
   "source": [
    "## Question"
   ]
  },
  {
   "cell_type": "code",
   "execution_count": 1,
   "metadata": {},
   "outputs": [],
   "source": [
    "# np.c_"
   ]
  },
  {
   "cell_type": "code",
   "execution_count": null,
   "metadata": {},
   "outputs": [],
   "source": []
  },
  {
   "cell_type": "markdown",
   "metadata": {},
   "source": [
    "# pandas\n",
    "\n",
    "- https://pandas.pydata.org/"
   ]
  },
  {
   "cell_type": "markdown",
   "metadata": {},
   "source": [
    "provides high-level data structures and functions designed to make working with structured or tabular data fast, easy, and expressive.\n",
    "\n",
    "**The Author** started building pandas in early 2008\n",
    "\n",
    "\n",
    "## 数据结构\n",
    "\n",
    "- DataFrame: column-oriented data structure with both row and column labels\n",
    "- Series: a one-dimensional labeled array object\n",
    "\n",
    "## 功能\n",
    "\n",
    "- Data structures with labeled axes supporting automatic or explicit data alignment —this prevents common errors resulting from misaligned data and working with differently indexed data coming from different sources\n",
    "- Integrated time series functionality\n",
    "- The same data structures handle both time series data and non–time series data\n",
    "- Arithmetic operations and reductions that preserve metadata\n",
    "- Flexible handling of missing data\n",
    "- Merge and other relational operations found in popular databases (SQL-based, for example)\n"
   ]
  },
  {
   "cell_type": "markdown",
   "metadata": {},
   "source": [
    "# matplotlib\n",
    "\n",
    "- https://matplotlib.org/"
   ]
  },
  {
   "cell_type": "markdown",
   "metadata": {},
   "source": [
    "the most popular Python library for producing plots and other twodimensional data visualizations\n",
    "\n",
    "originally created by John D. Hunter"
   ]
  },
  {
   "cell_type": "markdown",
   "metadata": {},
   "source": [
    "# IPython and Jupyter\n",
    "\n",
    "- https://ipython.org/\n",
    "- https://jupyter.org/"
   ]
  },
  {
   "cell_type": "markdown",
   "metadata": {},
   "source": [
    "- IPython project began in 2001 as Fernando Pérez’s side project to make a better interactive Python interpreter\n",
    "\n",
    "- In 2014, Fernando and the IPython team announced the Jupyter project, a broader initiative to design language-agnostic interactive computing tools."
   ]
  },
  {
   "cell_type": "markdown",
   "metadata": {},
   "source": [
    "# SciPy\n",
    "\n",
    "- https://scipy.org/"
   ]
  },
  {
   "cell_type": "markdown",
   "metadata": {},
   "source": [
    "a collection of packages addressing a number of different standard problem domains in scientific computing\n",
    "\n",
    "\n",
    "- scipy.integrate 数值积分程序, 微分方程求解\n",
    "\n",
    "> Numerical integration routines and differential equation solvers\n",
    "\n",
    "- scipy.linalg 线性代数程序, 矩阵分解\n",
    "\n",
    "> Linear algebra routines and matrix decompositions extending beyond those provided in numpy.linalg\n",
    "\n",
    "- scipy.optimize 函数优化, 根求值算法\n",
    "\n",
    "> Function optimizers (minimizers) and root finding algorithms\n",
    "\n",
    "- scipy.signal 信号处理工具\n",
    "\n",
    "> Signal processing tools\n",
    "\n",
    "- scipy.sparse 稀疏矩阵, 稀疏线性系统求解\n",
    "\n",
    "> Sparse matrices and sparse linear system solvers\n",
    "\n",
    "- scipy.special Fortran库SPECFUN的包装器\n",
    "\n",
    "> Wrapper around SPECFUN, a Fortran library implementing many common mathematical functions, such as the gamma function\n",
    "\n",
    "- scipy.stats 标准连续和离散概览分布, 统计检验\n",
    "\n",
    "> Standard continuous and discrete probability distributions (density functions, samplers, continuous distribution functions), various statistical tests, and more descriptive statistics"
   ]
  },
  {
   "cell_type": "markdown",
   "metadata": {},
   "source": [
    "# scikit-learn\n",
    "\n",
    "- https://scikit-learn.org/stable/"
   ]
  },
  {
   "cell_type": "markdown",
   "metadata": {},
   "source": [
    "Since the project’s inception in 2010, scikit-learn has become the premier generalpurpose machine learning toolkit for Python programmers.\n",
    "\n",
    "## 功能\n",
    "\n",
    "- Classification: SVM, nearest neighbors, random forest, logistic regression, etc.\n",
    "- Regression: Lasso, ridge regression, etc.\n",
    "- Clustering: k-means, spectral clustering, etc.\n",
    "- Dimensionality reduction: PCA, feature selection, matrix factorization, etc.\n",
    "- Model selection: Grid search, cross-validation, metrics\n",
    "- Preprocessing: Feature extraction, normalization"
   ]
  },
  {
   "cell_type": "markdown",
   "metadata": {},
   "source": [
    "# statsmodels\n",
    "\n",
    "- http://www.statsmodels.org/stable/index.html"
   ]
  },
  {
   "cell_type": "markdown",
   "metadata": {},
   "source": [
    "Skipper Seabold and Josef Perktold formally created the new statsmodels project in 2010\n",
    "\n",
    "## 功能\n",
    "\n",
    "\n",
    "- Regression models: Linear regression, generalized linear models, robust linear models, linear mixed effects models, etc.\n",
    "- Analysis of variance (ANOVA)\n",
    "- Time series analysis: AR, ARMA, ARIMA, VAR, and other models\n",
    "- Nonparametric methods: Kernel density estimation, kernel regression\n",
    "- Visualization of statistical model results"
   ]
  },
  {
   "cell_type": "code",
   "execution_count": null,
   "metadata": {},
   "outputs": [],
   "source": []
  },
  {
   "cell_type": "code",
   "execution_count": null,
   "metadata": {},
   "outputs": [],
   "source": []
  }
 ],
 "metadata": {
  "kernelspec": {
   "display_name": "Python 3",
   "language": "python",
   "name": "python3"
  },
  "language_info": {
   "codemirror_mode": {
    "name": "ipython",
    "version": 3
   },
   "file_extension": ".py",
   "mimetype": "text/x-python",
   "name": "python",
   "nbconvert_exporter": "python",
   "pygments_lexer": "ipython3",
   "version": "3.7.1"
  },
  "toc": {
   "base_numbering": 1,
   "nav_menu": {},
   "number_sections": true,
   "sideBar": true,
   "skip_h1_title": false,
   "title_cell": "Table of Contents",
   "title_sidebar": "Contents",
   "toc_cell": false,
   "toc_position": {},
   "toc_section_display": true,
   "toc_window_display": true
  }
 },
 "nbformat": 4,
 "nbformat_minor": 2
}
