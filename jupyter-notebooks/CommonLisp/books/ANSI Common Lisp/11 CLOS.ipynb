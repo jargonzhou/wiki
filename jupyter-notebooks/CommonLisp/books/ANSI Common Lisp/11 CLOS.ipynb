{
 "cells": [
  {
   "cell_type": "markdown",
   "metadata": {},
   "source": [
    "# Object-Oriented Programming"
   ]
  },
  {
   "cell_type": "code",
   "execution_count": 1,
   "metadata": {
    "vscode": {
     "languageId": "commonlisp"
    }
   },
   "outputs": [
    {
     "data": {
      "text/plain": [
       "RECTANGLE"
      ]
     },
     "execution_count": 1,
     "metadata": {},
     "output_type": "execute_result"
    },
    {
     "data": {
      "text/plain": [
       "CIRCLE"
      ]
     },
     "execution_count": 1,
     "metadata": {},
     "output_type": "execute_result"
    },
    {
     "data": {
      "text/plain": [
       "AREA"
      ]
     },
     "execution_count": 1,
     "metadata": {},
     "output_type": "execute_result"
    },
    {
     "data": {
      "text/plain": [
       "6"
      ]
     },
     "execution_count": 1,
     "metadata": {},
     "output_type": "execute_result"
    }
   ],
   "source": [
    "; area with structures and a function\n",
    "(defstruct rectangle\n",
    "  height\n",
    "  width)\n",
    "\n",
    "(defstruct circle\n",
    "  radius)\n",
    "\n",
    "(defun area (x)\n",
    "  (cond ((rectangle-p x)\n",
    "          (* (rectangle-height x) (rectangle-width x)))\n",
    "        ((circle-p x)\n",
    "          (* pi (expt (circle-radius x) 2)))))\n",
    "\n",
    "(let ((r (make-rectangle)))\n",
    "  (setf (rectangle-height r) 2\n",
    "    (rectangle-width r) 3)\n",
    "  (area r))"
   ]
  },
  {
   "cell_type": "code",
   "execution_count": 4,
   "metadata": {
    "vscode": {
     "languageId": "commonlisp"
    }
   },
   "outputs": [
    {
     "data": {
      "text/plain": [
       "#<STANDARD-CLASS COMMON-LISP-USER::RECTANGLE-C>"
      ]
     },
     "execution_count": 4,
     "metadata": {},
     "output_type": "execute_result"
    },
    {
     "data": {
      "text/plain": [
       "#<STANDARD-CLASS COMMON-LISP-USER::CIRCLE-C>"
      ]
     },
     "execution_count": 4,
     "metadata": {},
     "output_type": "execute_result"
    },
    {
     "data": {
      "text/plain": [
       "#<STANDARD-METHOD COMMON-LISP-USER::AREA-M (RECTANGLE-C) {1103116313}>"
      ]
     },
     "execution_count": 4,
     "metadata": {},
     "output_type": "execute_result"
    },
    {
     "data": {
      "text/plain": [
       "#<STANDARD-METHOD COMMON-LISP-USER::AREA-M (CIRCLE-C) {110320B7C3}>"
      ]
     },
     "execution_count": 4,
     "metadata": {},
     "output_type": "execute_result"
    },
    {
     "data": {
      "text/plain": [
       "6"
      ]
     },
     "execution_count": 4,
     "metadata": {},
     "output_type": "execute_result"
    }
   ],
   "source": [
    "; use CLOS\n",
    "(defclass rectangle-c ()\n",
    "    (height width))\n",
    "\n",
    "(defclass circle-c ()\n",
    "    (radius))\n",
    "\n",
    "(defmethod area-m ((x rectangle-c))\n",
    "  (* (slot-value x 'height) (slot-value x 'width)))\n",
    "\n",
    "(defmethod area-m ((x circle-c))\n",
    "  (* pi (expt (slot-value x 'radius) 2)))\n",
    "\n",
    "(let ((r (make-instance 'rectangle-c)))\n",
    "  (setf (slot-value r 'height) 2\n",
    "    (slot-value r 'width) 3)\n",
    "  (area-m r))"
   ]
  },
  {
   "cell_type": "code",
   "execution_count": null,
   "metadata": {
    "vscode": {
     "languageId": "commonlisp"
    }
   },
   "outputs": [],
   "source": [
    "(defclass colored ()\n",
    "    (color))\n",
    "\n",
    "; inheritance\n",
    "(defclass colored-circle (circle-c colored)\n",
    "    ())"
   ]
  },
  {
   "cell_type": "markdown",
   "metadata": {},
   "source": [
    "# Classes and Intances"
   ]
  },
  {
   "cell_type": "code",
   "execution_count": 9,
   "metadata": {
    "vscode": {
     "languageId": "commonlisp"
    }
   },
   "outputs": [
    {
     "data": {
      "text/plain": [
       "#<STANDARD-CLASS COMMON-LISP-USER::CIRCLE2>"
      ]
     },
     "execution_count": 9,
     "metadata": {},
     "output_type": "execute_result"
    },
    {
     "data": {
      "text/plain": [
       "#<CIRCLE2 {110366CE93}>"
      ]
     },
     "execution_count": 9,
     "metadata": {},
     "output_type": "execute_result"
    },
    {
     "data": {
      "text/plain": [
       "1"
      ]
     },
     "execution_count": 9,
     "metadata": {},
     "output_type": "execute_result"
    },
    {
     "name": "stdout",
     "output_type": "stream",
     "text": [
      "SIMPLE-WARNING: undefined variable: COMMON-LISP-USER::C\n",
      "SIMPLE-WARNING: undefined variable: COMMON-LISP-USER::C\n"
     ]
    }
   ],
   "source": [
    "(defclass circle2 ()\n",
    "    (radius center))\n",
    "\n",
    "; make-instance\n",
    "(setf c (make-instance 'circle2))\n",
    "; slot-value\n",
    "(setf (slot-value c 'radius) 1)"
   ]
  },
  {
   "cell_type": "markdown",
   "metadata": {},
   "source": [
    "# Slot Properties"
   ]
  },
  {
   "cell_type": "code",
   "execution_count": null,
   "metadata": {
    "vscode": {
     "languageId": "commonlisp"
    }
   },
   "outputs": [
    {
     "data": {
      "text/plain": [
       "#<STANDARD-CLASS COMMON-LISP-USER::CIRCLE2>"
      ]
     },
     "execution_count": 10,
     "metadata": {},
     "output_type": "execute_result"
    },
    {
     "data": {
      "text/plain": [
       "#<CIRCLE2 {110373E663}>"
      ]
     },
     "execution_count": 10,
     "metadata": {},
     "output_type": "execute_result"
    },
    {
     "data": {
      "text/plain": [
       "1"
      ]
     },
     "execution_count": 10,
     "metadata": {},
     "output_type": "execute_result"
    },
    {
     "data": {
      "text/plain": [
       "1"
      ]
     },
     "execution_count": 10,
     "metadata": {},
     "output_type": "execute_result"
    },
    {
     "name": "stdout",
     "output_type": "stream",
     "text": [
      "SIMPLE-WARNING: undefined variable: COMMON-LISP-USER::C\n",
      "SIMPLE-WARNING: undefined variable: COMMON-LISP-USER::C\n",
      "SIMPLE-WARNING: undefined variable: COMMON-LISP-USER::C\n"
     ]
    }
   ],
   "source": [
    "; :accessor\n",
    "; :writer, :reader\n",
    "(defclass circle2 ()\n",
    "    ((radius :accessor circle2-radius)\n",
    "     (center :accessor circle2-center)))\n",
    "\n",
    "(setf c (make-instance 'circle2))\n",
    "(setf (circle2-radius c) 1)\n",
    "(circle2-radius c)"
   ]
  },
  {
   "cell_type": "code",
   "execution_count": 11,
   "metadata": {
    "vscode": {
     "languageId": "commonlisp"
    }
   },
   "outputs": [
    {
     "data": {
      "text/plain": [
       "#<STANDARD-CLASS COMMON-LISP-USER::CIRCLE2>"
      ]
     },
     "execution_count": 11,
     "metadata": {},
     "output_type": "execute_result"
    },
    {
     "data": {
      "text/plain": [
       "#<CIRCLE2 {1103863783}>"
      ]
     },
     "execution_count": 11,
     "metadata": {},
     "output_type": "execute_result"
    },
    {
     "data": {
      "text/plain": [
       "3"
      ]
     },
     "execution_count": 11,
     "metadata": {},
     "output_type": "execute_result"
    },
    {
     "data": {
      "text/plain": [
       "(0 . 0)"
      ]
     },
     "execution_count": 11,
     "metadata": {},
     "output_type": "execute_result"
    },
    {
     "name": "stdout",
     "output_type": "stream",
     "text": [
      "SIMPLE-WARNING: undefined variable: COMMON-LISP-USER::C\n",
      "SIMPLE-WARNING: undefined variable: COMMON-LISP-USER::C\n",
      "SIMPLE-WARNING: undefined variable: COMMON-LISP-USER::C\n"
     ]
    }
   ],
   "source": [
    "; :initform, :initarg\n",
    "(defclass circle2 ()\n",
    "    ((radius :accessor circle2-radius\n",
    "             :initarg :radius\n",
    "             :initform 1)\n",
    "     (center :accessor circle2-center\n",
    "             :initarg :center\n",
    "             :initform (cons 0 0))))\n",
    "\n",
    "(setf c (make-instance 'circle2 :radius 3))\n",
    "(circle2-radius c)\n",
    "(circle2-center c)"
   ]
  },
  {
   "cell_type": "code",
   "execution_count": 14,
   "metadata": {
    "vscode": {
     "languageId": "commonlisp"
    }
   },
   "outputs": [
    {
     "data": {
      "text/plain": [
       "#<STANDARD-CLASS COMMON-LISP-USER::TABLOID>"
      ]
     },
     "execution_count": 14,
     "metadata": {},
     "output_type": "execute_result"
    },
    {
     "data": {
      "text/plain": [
       "#<TABLOID {1103C1E8B3}>"
      ]
     },
     "execution_count": 14,
     "metadata": {},
     "output_type": "execute_result"
    },
    {
     "data": {
      "text/plain": [
       "ADULTERY-OF-SENATOR"
      ]
     },
     "execution_count": 14,
     "metadata": {},
     "output_type": "execute_result"
    },
    {
     "data": {
      "text/plain": [
       "ADULTERY-OF-SENATOR"
      ]
     },
     "execution_count": 14,
     "metadata": {},
     "output_type": "execute_result"
    },
    {
     "name": "stdout",
     "output_type": "stream",
     "text": [
      "SIMPLE-WARNING: undefined variable: COMMON-LISP-USER::DAILY-BLAB\n",
      "SIMPLE-WARNING: undefined variable: COMMON-LISP-USER::UNSOLICITED-MAIL\n",
      "SIMPLE-WARNING: undefined variable: COMMON-LISP-USER::DAILY-BLAB\n",
      "SIMPLE-WARNING: undefined variable: COMMON-LISP-USER::UNSOLICITED-MAIL\n"
     ]
    }
   ],
   "source": [
    "; :allocation :class\n",
    "; :allocation :instance - default\n",
    "(defclass tabloid ()\n",
    "    ((top-story :accessor tabloid-story\n",
    "                :allocation :class)))\n",
    "\n",
    "(setf daily-blab (make-instance 'tabloid)\n",
    "  unsolicited-mail (make-instance 'tabloid))\n",
    "(setf (tabloid-story daily-blab) 'adultery-of-senator)\n",
    "(tabloid-story unsolicited-mail)"
   ]
  },
  {
   "cell_type": "code",
   "execution_count": null,
   "metadata": {
    "vscode": {
     "languageId": "commonlisp"
    }
   },
   "outputs": [],
   "source": [
    "; :documentation\n",
    "; :type"
   ]
  },
  {
   "cell_type": "markdown",
   "metadata": {},
   "source": [
    "# Superclasses"
   ]
  },
  {
   "cell_type": "code",
   "execution_count": 16,
   "metadata": {
    "vscode": {
     "languageId": "commonlisp"
    }
   },
   "outputs": [
    {
     "data": {
      "text/plain": [
       "#<STANDARD-CLASS COMMON-LISP-USER::GRAPHIC>"
      ]
     },
     "execution_count": 16,
     "metadata": {},
     "output_type": "execute_result"
    },
    {
     "data": {
      "text/plain": [
       "#<STANDARD-CLASS COMMON-LISP-USER::SCREEN-CIRCLE>"
      ]
     },
     "execution_count": 16,
     "metadata": {},
     "output_type": "execute_result"
    },
    {
     "data": {
      "text/plain": [
       "RED"
      ]
     },
     "execution_count": 16,
     "metadata": {},
     "output_type": "execute_result"
    },
    {
     "data": {
      "text/plain": [
       "PURPLE"
      ]
     },
     "execution_count": 16,
     "metadata": {},
     "output_type": "execute_result"
    }
   ],
   "source": [
    "(defclass graphic ()\n",
    "    ((color :accessor graphic-color :initarg :color :initform 'purple)\n",
    "     (visible :accessor graphic-visible :initarg :visible :initform t)))\n",
    "\n",
    "(defclass screen-circle (circle2 graphic)\n",
    "    ())\n",
    "\n",
    "(graphic-color (make-instance 'screen-circle :color 'red :radius 3))\n",
    "(graphic-color (make-instance 'screen-circle))\n"
   ]
  },
  {
   "cell_type": "markdown",
   "metadata": {},
   "source": [
    "# Precedence"
   ]
  },
  {
   "cell_type": "code",
   "execution_count": 22,
   "metadata": {
    "vscode": {
     "languageId": "commonlisp"
    }
   },
   "outputs": [
    {
     "data": {
      "text/plain": [
       "#<STANDARD-CLASS COMMON-LISP-USER::SCULPTURE>"
      ]
     },
     "execution_count": 22,
     "metadata": {},
     "output_type": "execute_result"
    },
    {
     "data": {
      "text/plain": [
       "#<STANDARD-CLASS COMMON-LISP-USER::STATUE>"
      ]
     },
     "execution_count": 22,
     "metadata": {},
     "output_type": "execute_result"
    },
    {
     "data": {
      "text/plain": [
       "#<STANDARD-CLASS COMMON-LISP-USER::METALWORK>"
      ]
     },
     "execution_count": 22,
     "metadata": {},
     "output_type": "execute_result"
    },
    {
     "data": {
      "text/plain": [
       "#<STANDARD-CLASS COMMON-LISP-USER::CASTING>"
      ]
     },
     "execution_count": 22,
     "metadata": {},
     "output_type": "execute_result"
    },
    {
     "data": {
      "text/plain": [
       "#<STANDARD-CLASS COMMON-LISP-USER::CAST-STATUE>"
      ]
     },
     "execution_count": 22,
     "metadata": {},
     "output_type": "execute_result"
    },
    {
     "data": {
      "text/plain": [
       "CAST-STATUE"
      ]
     },
     "execution_count": 22,
     "metadata": {},
     "output_type": "execute_result"
    },
    {
     "data": {
      "text/plain": [
       "#<STANDARD-CLASS COMMON-LISP-USER::CAST-STATUE>"
      ]
     },
     "execution_count": 22,
     "metadata": {},
     "output_type": "execute_result"
    },
    {
     "data": {
      "text/plain": [
       "CAST-STATUE"
      ]
     },
     "execution_count": 22,
     "metadata": {},
     "output_type": "execute_result"
    },
    {
     "data": {
      "text/plain": [
       "T"
      ]
     },
     "execution_count": 22,
     "metadata": {},
     "output_type": "execute_result"
    },
    {
     "data": {
      "text/plain": [
       "T"
      ]
     },
     "execution_count": 22,
     "metadata": {},
     "output_type": "execute_result"
    }
   ],
   "source": [
    "(defclass sculpture () (height width depth))\n",
    "(defclass statue (sculpture) (subject))\n",
    "(defclass metalwork () (metal-type))\n",
    "(defclass casting (metalwork) ())\n",
    "(defclass cast-statue (statue casting) ())\n",
    "\n",
    "(type-of (make-instance 'cast-statue))\n",
    "(class-of (make-instance 'cast-statue))\n",
    "(class-name (class-of (make-instance 'cast-statue)))\n",
    "\n",
    "(subtypep 'cast-statue 'statue)"
   ]
  },
  {
   "cell_type": "markdown",
   "metadata": {},
   "source": [
    "# Generic Functions"
   ]
  },
  {
   "cell_type": "code",
   "execution_count": 23,
   "metadata": {
    "vscode": {
     "languageId": "commonlisp"
    }
   },
   "outputs": [
    {
     "data": {
      "text/plain": [
       "#<STANDARD-METHOD COMMON-LISP-USER::COMBINE (T T) {1104CF1143}>"
      ]
     },
     "execution_count": 23,
     "metadata": {},
     "output_type": "execute_result"
    },
    {
     "data": {
      "text/plain": [
       "(A B)"
      ]
     },
     "execution_count": 23,
     "metadata": {},
     "output_type": "execute_result"
    },
    {
     "data": {
      "text/plain": [
       "#<STANDARD-CLASS COMMON-LISP-USER::STUFF>"
      ]
     },
     "execution_count": 23,
     "metadata": {},
     "output_type": "execute_result"
    },
    {
     "data": {
      "text/plain": [
       "#<STANDARD-CLASS COMMON-LISP-USER::ICE-CREAM>"
      ]
     },
     "execution_count": 23,
     "metadata": {},
     "output_type": "execute_result"
    },
    {
     "data": {
      "text/plain": [
       "#<STANDARD-CLASS COMMON-LISP-USER::TOPPING>"
      ]
     },
     "execution_count": 23,
     "metadata": {},
     "output_type": "execute_result"
    },
    {
     "data": {
      "text/plain": [
       "#<STANDARD-METHOD COMMON-LISP-USER::COMBINE (ICE-CREAM TOPPING) {1104DD9483}>"
      ]
     },
     "execution_count": 23,
     "metadata": {},
     "output_type": "execute_result"
    },
    {
     "data": {
      "text/plain": [
       "\"FIG ice-cream with TREACLE topping.\""
      ]
     },
     "execution_count": 23,
     "metadata": {},
     "output_type": "execute_result"
    }
   ],
   "source": [
    "(defmethod combine (x y)\n",
    "  (list x y))\n",
    "\n",
    "(combine 'a 'b)\n",
    "\n",
    "(defclass stuff () ((name :accessor name :initarg :name)))\n",
    "(defclass ice-cream (stuff) ())\n",
    "(defclass topping (stuff) ())\n",
    "\n",
    "(defmethod combine ((ic ice-cream) (top topping))\n",
    "  (format nil \"~A ice-cream with ~A topping.\"\n",
    "    (name ic)\n",
    "    (name top)))\n",
    "\n",
    "(combine (make-instance 'ice-cream :name 'fig)\n",
    "         (make-instance 'topping :name 'treacle))"
   ]
  },
  {
   "cell_type": "code",
   "execution_count": null,
   "metadata": {
    "vscode": {
     "languageId": "commonlisp"
    }
   },
   "outputs": [
    {
     "data": {
      "text/plain": [
       "(23 SKIDDOO)"
      ]
     },
     "execution_count": 24,
     "metadata": {},
     "output_type": "execute_result"
    },
    {
     "data": {
      "text/plain": [
       "#<STANDARD-METHOD COMMON-LISP-USER::COMBINE (ICE-CREAM T) {1104F92C33}>"
      ]
     },
     "execution_count": 24,
     "metadata": {},
     "output_type": "execute_result"
    },
    {
     "data": {
      "text/plain": [
       "\"GRAPE ice-cream with MARSHMALLOW topping.\""
      ]
     },
     "execution_count": 24,
     "metadata": {},
     "output_type": "execute_result"
    },
    {
     "data": {
      "text/plain": [
       "\"CLAM ice-cream with RELUCTANCE.\""
      ]
     },
     "execution_count": 24,
     "metadata": {},
     "output_type": "execute_result"
    }
   ],
   "source": [
    "(combine 23 'skiddoo)\n",
    "\n",
    "(defmethod combine ((ic ice-cream) x)\n",
    "  (format nil \"~A ice-cream with ~A.\"\n",
    "    (name ic)\n",
    "    x))\n",
    "\n",
    "(combine (make-instance 'ice-cream :name 'grape)\n",
    "         (make-instance 'topping :name 'marshmallow))\n",
    "\n",
    "(combine (make-instance 'ice-cream :name 'clam)\n",
    "         'reluctance)"
   ]
  },
  {
   "cell_type": "code",
   "execution_count": 26,
   "metadata": {
    "vscode": {
     "languageId": "commonlisp"
    }
   },
   "outputs": [
    {
     "data": {
      "text/plain": [
       "#<STANDARD-METHOD COMMON-LISP-USER::COMBINE (NUMBER NUMBER) {110520ED83}>"
      ]
     },
     "execution_count": 26,
     "metadata": {},
     "output_type": "execute_result"
    },
    {
     "data": {
      "text/plain": [
       "#<STANDARD-METHOD COMMON-LISP-USER::COMBINE ((EQL POWDER) (EQL SPARK)) {110526B873}>"
      ]
     },
     "execution_count": 26,
     "metadata": {},
     "output_type": "execute_result"
    },
    {
     "data": {
      "text/plain": [
       "#<STANDARD-METHOD COMMON-LISP-USER::COMBINE ((EQL POWDER) (EQL SPARK)) {11052F83A3}>"
      ]
     },
     "execution_count": 26,
     "metadata": {},
     "output_type": "execute_result"
    },
    {
     "name": "stdout",
     "output_type": "stream",
     "text": [
      "SB-KERNEL:REDEFINITION-WITH-DEFMETHOD: redefining COMBINE (#<BUILT-IN-CLASS COMMON-LISP:NUMBER> #<BUILT-IN-CLASS COMMON-LISP:NUMBER>) in DEFMETHOD\n",
      "SB-KERNEL:REDEFINITION-WITH-DEFMETHOD: redefining COMBINE (#<SB-MOP:EQL-SPECIALIZER POWDER> #<SB-MOP:EQL-SPECIALIZER SPARK>) in DEFMETHOD\n"
     ]
    }
   ],
   "source": [
    "(defmethod combine ((x number) (y number))\n",
    "  (+ x y))\n",
    "\n",
    "(defmethod combine ((x (eql 'powder)) (y (eql 'spark)))\n",
    "  'boom)\n",
    "; redefine\n",
    "(defmethod combine ((x (eql 'powder)) (y (eql 'spark)))\n",
    "  'kaboom)"
   ]
  },
  {
   "cell_type": "markdown",
   "metadata": {},
   "source": [
    "# Auxiliary Methods"
   ]
  },
  {
   "cell_type": "code",
   "execution_count": null,
   "metadata": {
    "vscode": {
     "languageId": "commonlisp"
    }
   },
   "outputs": [
    {
     "data": {
      "text/plain": [
       "#<STANDARD-CLASS COMMON-LISP-USER::SPEAKER>"
      ]
     },
     "execution_count": 1,
     "metadata": {},
     "output_type": "execute_result"
    },
    {
     "data": {
      "text/plain": [
       "#<STANDARD-METHOD COMMON-LISP-USER::SPEAK (SPEAKER T) {1102553583}>"
      ]
     },
     "execution_count": 1,
     "metadata": {},
     "output_type": "execute_result"
    },
    {
     "data": {
      "text/plain": [
       "NIL"
      ]
     },
     "execution_count": 1,
     "metadata": {},
     "output_type": "execute_result"
    },
    {
     "data": {
      "text/plain": [
       "#<STANDARD-CLASS COMMON-LISP-USER::INTELLECTUAL>"
      ]
     },
     "execution_count": 1,
     "metadata": {},
     "output_type": "execute_result"
    },
    {
     "data": {
      "text/plain": [
       "#<STANDARD-METHOD COMMON-LISP-USER::SPEAK :BEFORE (INTELLECTUAL T) {11026501D3}>"
      ]
     },
     "execution_count": 1,
     "metadata": {},
     "output_type": "execute_result"
    },
    {
     "data": {
      "text/plain": [
       "#<STANDARD-METHOD COMMON-LISP-USER::SPEAK :AFTER (INTELLECTUAL T) {1102656DB3}>"
      ]
     },
     "execution_count": 1,
     "metadata": {},
     "output_type": "execute_result"
    },
    {
     "data": {
      "text/plain": [
       "NIL"
      ]
     },
     "execution_count": 1,
     "metadata": {},
     "output_type": "execute_result"
    },
    {
     "name": "stdout",
     "output_type": "stream",
     "text": [
      "I'm hungryPerhaps I'm hungry in some sense"
     ]
    }
   ],
   "source": [
    "(defclass speaker () ())\n",
    "(defmethod speak ((s speaker) string)\n",
    "  (format t \"~A\" string))\n",
    "\n",
    "(speak (make-instance 'speaker) \"I'm hungry\")\n",
    "\n",
    "; :before\n",
    "; :after\n",
    "(defclass intellectual (speaker) ())\n",
    "(defmethod speak :before ((i intellectual) string)\n",
    "  (princ \"Perhaps \"))\n",
    "(defmethod speak :after ((i intellectual) string)\n",
    "  (princ \" in some sense\"))\n",
    "(speak (make-instance 'intellectual) \"I'm hungry\")"
   ]
  },
  {
   "cell_type": "code",
   "execution_count": 6,
   "metadata": {
    "vscode": {
     "languageId": "commonlisp"
    }
   },
   "outputs": [
    {
     "data": {
      "text/plain": [
       "#<STANDARD-CLASS COMMON-LISP-USER::COURTIER>"
      ]
     },
     "execution_count": 6,
     "metadata": {},
     "output_type": "execute_result"
    },
    {
     "data": {
      "text/plain": [
       "#<STANDARD-METHOD COMMON-LISP-USER::SPEAK :AROUND (COURTIER T) {11036BB633}>"
      ]
     },
     "execution_count": 6,
     "metadata": {},
     "output_type": "execute_result"
    },
    {
     "name": "stdout",
     "output_type": "stream",
     "text": [
      "SB-KERNEL:REDEFINITION-WITH-DEFMETHOD: redefining SPEAK :AROUND (#<STANDARD-CLASS COMMON-LISP-USER::COURTIER>\n",
      " #<SB-PCL:SYSTEM-CLASS COMMON-LISP:T>) in DEFMETHOD\n",
      "Does the King believe that kings will last? "
     ]
    },
    {
     "data": {
      "text/plain": [
       "BOW"
      ]
     },
     "execution_count": 6,
     "metadata": {},
     "output_type": "execute_result"
    },
    {
     "name": "stdout",
     "output_type": "stream",
     "text": [
      "kings will last"
     ]
    }
   ],
   "source": [
    "; :around\n",
    "; next-method-p\n",
    "; call-next-method\n",
    "(defclass courtier (speaker) ())\n",
    "\n",
    "(defmethod speak :around ((c courtier) string)\n",
    "  (format t \"Does the King believe that ~A? \" string)\n",
    "  (if (eql (read) 'yes)\n",
    "      (if (next-method-p) (call-next-method))\n",
    "      (format t \"Indeed, it is a preposterous idea.~%\"))\n",
    "  'bow)\n",
    "\n",
    "(speak (make-instance 'courtier) \"kings will last\")"
   ]
  },
  {
   "cell_type": "code",
   "execution_count": 7,
   "metadata": {
    "vscode": {
     "languageId": "commonlisp"
    }
   },
   "outputs": [
    {
     "name": "stdout",
     "output_type": "stream",
     "text": [
      "Does the King believe that the world is round? "
     ]
    },
    {
     "data": {
      "text/plain": [
       "BOW"
      ]
     },
     "execution_count": 7,
     "metadata": {},
     "output_type": "execute_result"
    },
    {
     "name": "stdout",
     "output_type": "stream",
     "text": [
      "Indeed, it is a preposterous idea.\n"
     ]
    }
   ],
   "source": [
    "(speak (make-instance 'courtier) \"the world is round\")"
   ]
  },
  {
   "cell_type": "markdown",
   "metadata": {},
   "source": [
    "# Method Combination"
   ]
  },
  {
   "cell_type": "code",
   "execution_count": 2,
   "metadata": {
    "vscode": {
     "languageId": "commonlisp"
    }
   },
   "outputs": [
    {
     "data": {
      "text/plain": [
       "#<STANDARD-GENERIC-FUNCTION COMMON-LISP-USER::PRICE (0)>"
      ]
     },
     "execution_count": 2,
     "metadata": {},
     "output_type": "execute_result"
    },
    {
     "data": {
      "text/plain": [
       "#<STANDARD-CLASS COMMON-LISP-USER::JACKET>"
      ]
     },
     "execution_count": 2,
     "metadata": {},
     "output_type": "execute_result"
    },
    {
     "data": {
      "text/plain": [
       "#<STANDARD-CLASS COMMON-LISP-USER::TROUSERS>"
      ]
     },
     "execution_count": 2,
     "metadata": {},
     "output_type": "execute_result"
    },
    {
     "data": {
      "text/plain": [
       "#<STANDARD-CLASS COMMON-LISP-USER::SUIT>"
      ]
     },
     "execution_count": 2,
     "metadata": {},
     "output_type": "execute_result"
    },
    {
     "data": {
      "text/plain": [
       "#<STANDARD-METHOD COMMON-LISP-USER::PRICE + (JACKET) {1102AFA403}>"
      ]
     },
     "execution_count": 2,
     "metadata": {},
     "output_type": "execute_result"
    },
    {
     "data": {
      "text/plain": [
       "#<STANDARD-METHOD COMMON-LISP-USER::PRICE + (TROUSERS) {1102B90463}>"
      ]
     },
     "execution_count": 2,
     "metadata": {},
     "output_type": "execute_result"
    },
    {
     "data": {
      "text/plain": [
       "550"
      ]
     },
     "execution_count": 2,
     "metadata": {},
     "output_type": "execute_result"
    },
    {
     "name": "stdout",
     "output_type": "stream",
     "text": [
      "SB-KERNEL:REDEFINITION-WITH-DEFGENERIC: redefining COMMON-LISP-USER::PRICE in DEFGENERIC\n"
     ]
    }
   ],
   "source": [
    "; standard method combination\n",
    "\n",
    "; operator method combination\n",
    "; +, and, append, list, max, min, nconc, or, progn\n",
    "(defgeneric price (x)\n",
    "  (:method-combination +))\n",
    "\n",
    "(defclass jacket () ())\n",
    "(defclass trousers () ())\n",
    "(defclass suit (jacket trousers) ())\n",
    "\n",
    "(defmethod price + ((jk jacket)) 350)\n",
    "(defmethod price + ((tr trousers)) 200)\n",
    "\n",
    "(price (make-instance 'suit))"
   ]
  },
  {
   "cell_type": "markdown",
   "metadata": {},
   "source": [
    "# Encapsulation"
   ]
  },
  {
   "cell_type": "code",
   "execution_count": 8,
   "metadata": {
    "vscode": {
     "languageId": "commonlisp"
    }
   },
   "outputs": [
    {
     "data": {
      "text/plain": [
       "#<PACKAGE \"CTR\">"
      ]
     },
     "execution_count": 8,
     "metadata": {},
     "output_type": "execute_result"
    },
    {
     "data": {
      "text/plain": [
       "#<PACKAGE \"CTR\">"
      ]
     },
     "execution_count": 8,
     "metadata": {},
     "output_type": "execute_result"
    },
    {
     "data": {
      "text/plain": [
       "#<STANDARD-CLASS CTR:COUNTER>"
      ]
     },
     "execution_count": 8,
     "metadata": {},
     "output_type": "execute_result"
    },
    {
     "data": {
      "text/plain": [
       "#<STANDARD-METHOD CTR:INCREMENT (COUNTER) {11033E8713}>"
      ]
     },
     "execution_count": 8,
     "metadata": {},
     "output_type": "execute_result"
    },
    {
     "data": {
      "text/plain": [
       "#<STANDARD-METHOD CTR:GET-STATE (COUNTER) {110346AE13}>"
      ]
     },
     "execution_count": 8,
     "metadata": {},
     "output_type": "execute_result"
    },
    {
     "data": {
      "text/plain": [
       "#<STANDARD-METHOD CTR:CLEAR (COUNTER) {11034F4E23}>"
      ]
     },
     "execution_count": 8,
     "metadata": {},
     "output_type": "execute_result"
    },
    {
     "data": {
      "text/plain": [
       "0"
      ]
     },
     "execution_count": 8,
     "metadata": {},
     "output_type": "execute_result"
    },
    {
     "name": "stdout",
     "output_type": "stream",
     "text": [
      "SB-KERNEL:REDEFINITION-WITH-DEFMETHOD: redefining INCREMENT (#<STANDARD-CLASS CTR:COUNTER>) in DEFMETHOD\n",
      "SB-KERNEL:REDEFINITION-WITH-DEFMETHOD: redefining GET-STATE (#<STANDARD-CLASS CTR:COUNTER>) in DEFMETHOD\n",
      "SB-KERNEL:REDEFINITION-WITH-DEFMETHOD: redefining CLEAR (#<STANDARD-CLASS CTR:COUNTER>) in DEFMETHOD\n"
     ]
    }
   ],
   "source": [
    "(defpackage \"CTR\"\n",
    "  (:use \"COMMON-LISP\")\n",
    "  (:export \"COUNTER\" \"INCREMENT\" \"CLEAR\" \"GET-STATE\"))\n",
    "(in-package ctr)\n",
    "\n",
    "(defclass counter () ((state :initform 0)))\n",
    "(defmethod increment ((c counter))\n",
    "  (incf (slot-value c 'state)))\n",
    "(defmethod get-state ((c counter))\n",
    "  (slot-value c 'state))\n",
    "(defmethod clear ((c counter))\n",
    "  (setf (slot-value c 'state) 0))\n",
    "\n",
    "(let ((c (make-instance 'counter)))\n",
    "  (slot-value c 'state))"
   ]
  },
  {
   "cell_type": "code",
   "execution_count": null,
   "metadata": {
    "vscode": {
     "languageId": "commonlisp"
    }
   },
   "outputs": [
    {
     "data": {
      "text/plain": [
       "#<PACKAGE \"COMMON-LISP-USER\">"
      ]
     },
     "execution_count": 10,
     "metadata": {},
     "output_type": "execute_result"
    },
    {
     "data": {
      "text/plain": [
       "0"
      ]
     },
     "execution_count": 10,
     "metadata": {},
     "output_type": "execute_result"
    },
    {
     "name": "stdout",
     "output_type": "stream",
     "text": [
      "\n",
      "0 \n",
      "1 \n",
      "0 "
     ]
    }
   ],
   "source": [
    "; *package*\n",
    "(in-package :cl-user)\n",
    "\n",
    "(let ((c (make-instance 'ctr:counter)))\n",
    "  ; (print (slot-value c 'state)) ; missing slot\n",
    "  (print (ctr:get-state c))\n",
    "  (ctr:increment c)\n",
    "  (print (ctr:get-state c))\n",
    "  (ctr:clear c)\n",
    "  (print (ctr:get-state c)))"
   ]
  },
  {
   "cell_type": "markdown",
   "metadata": {},
   "source": [
    "# Two Models"
   ]
  },
  {
   "cell_type": "code",
   "execution_count": 11,
   "metadata": {
    "vscode": {
     "languageId": "commonlisp"
    }
   },
   "outputs": [],
   "source": [
    "; the message passing model"
   ]
  }
 ],
 "metadata": {
  "kernelspec": {
   "display_name": "Common Lisp",
   "language": "common-lisp",
   "name": "common-lisp"
  },
  "language_info": {
   "codemirror_mode": "text/x-common-lisp",
   "file_extension": ".lisp",
   "mimetype": "text/x-common-lisp",
   "name": "common-lisp",
   "pygments_lexer": "common-lisp",
   "version": "2.4.8"
  }
 },
 "nbformat": 4,
 "nbformat_minor": 2
}
