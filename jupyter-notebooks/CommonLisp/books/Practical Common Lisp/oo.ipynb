{
 "cells": [
  {
   "cell_type": "markdown",
   "metadata": {},
   "source": [
    "# 广义函数(generic function)"
   ]
  },
  {
   "cell_type": "code",
   "execution_count": 1,
   "metadata": {},
   "outputs": [],
   "source": [
    "; CLOS: Common Lisp Object System\n",
    "; T: 根类, 所有其他类的直接或间接基类\n",
    "; Common Lisp支持多重继承\n",
    "; 广义函数: 统一了方法(method)和函数"
   ]
  },
  {
   "cell_type": "markdown",
   "metadata": {},
   "source": [
    "## DEFGENERIC"
   ]
  },
  {
   "cell_type": "code",
   "execution_count": null,
   "metadata": {},
   "outputs": [],
   "source": [
    "; 广义函数定义了抽象操作, 指定了名字和一个参数列表, 但不提供实现\n",
    "; 广义函数的实际实现是由方法提供的, 每个方法提供了广义函数用于特定参数类的实现."
   ]
  },
  {
   "cell_type": "code",
   "execution_count": null,
   "metadata": {},
   "outputs": [],
   "source": [
    "(defgeneric draw (shape)\n",
    "    (:documentation \"Draw the given shape on the screen.\"))"
   ]
  },
  {
   "cell_type": "code",
   "execution_count": null,
   "metadata": {},
   "outputs": [],
   "source": []
  },
  {
   "cell_type": "code",
   "execution_count": null,
   "metadata": {},
   "outputs": [],
   "source": []
  },
  {
   "cell_type": "code",
   "execution_count": null,
   "metadata": {},
   "outputs": [],
   "source": []
  },
  {
   "cell_type": "code",
   "execution_count": null,
   "metadata": {},
   "outputs": [],
   "source": []
  },
  {
   "cell_type": "code",
   "execution_count": null,
   "metadata": {},
   "outputs": [],
   "source": []
  },
  {
   "cell_type": "markdown",
   "metadata": {},
   "source": [
    "# 类"
   ]
  },
  {
   "cell_type": "markdown",
   "metadata": {},
   "source": [
    "## DEFCLASS"
   ]
  },
  {
   "cell_type": "code",
   "execution_count": 2,
   "metadata": {},
   "outputs": [],
   "source": [
    "; DEFCLASS的职责仅仅是将类定义为一种数据类型\n",
    "; 类的名字与函数和变量的名字处在独立的命名空间中\n",
    ";\n",
    "; (defclass name (direct-superclass-name*)\n",
    ";   (slot-specifier*))\n",
    "; 如果没有irect-superclass-name, 则直接成为STANDARD-OBJECT的子类(STANDARD-OBJECT是T的子类) \n",
    ";\n",
    "; MAKE-INSTANCE: 创建用户定义类的新实例"
   ]
  },
  {
   "cell_type": "markdown",
   "metadata": {},
   "source": [
    "## 槽描述符"
   ]
  },
  {
   "cell_type": "code",
   "execution_count": 3,
   "metadata": {},
   "outputs": [],
   "source": [
    "; 实例中的每个槽是一个可以保存值的位置\n",
    "; 该位置可以通过函数SLOT-VALUE来访问, SLOT-VALUE组合SETF来设置槽的值\n",
    "; 一个类可以从它的所有基类中继承槽描述符"
   ]
  },
  {
   "cell_type": "code",
   "execution_count": 4,
   "metadata": {},
   "outputs": [
    {
     "data": {
      "text/plain": [
       "#<STANDARD-CLASS COMMON-LISP-USER::BANK-ACCOUNT>"
      ]
     },
     "execution_count": 4,
     "metadata": {},
     "output_type": "execute_result"
    }
   ],
   "source": [
    "(defclass bank-account ()\n",
    "    (customer-name\n",
    "     balance))"
   ]
  },
  {
   "cell_type": "code",
   "execution_count": 7,
   "metadata": {},
   "outputs": [
    {
     "data": {
      "text/plain": [
       "#<BANK-ACCOUNT {1004424D03}>"
      ]
     },
     "execution_count": 7,
     "metadata": {},
     "output_type": "execute_result"
    }
   ],
   "source": [
    "; 对象的打印形式取决于广义函数PRINT-OBJECT\n",
    "(make-instance 'bank-account)"
   ]
  },
  {
   "cell_type": "code",
   "execution_count": 8,
   "metadata": {},
   "outputs": [
    {
     "data": {
      "text/plain": [
       "*ACCOUNT*"
      ]
     },
     "execution_count": 8,
     "metadata": {},
     "output_type": "execute_result"
    },
    {
     "data": {
      "text/plain": [
       "\"John Doe\""
      ]
     },
     "execution_count": 8,
     "metadata": {},
     "output_type": "execute_result"
    },
    {
     "data": {
      "text/plain": [
       "1000"
      ]
     },
     "execution_count": 8,
     "metadata": {},
     "output_type": "execute_result"
    },
    {
     "data": {
      "text/plain": [
       "\"John Doe\""
      ]
     },
     "execution_count": 8,
     "metadata": {},
     "output_type": "execute_result"
    },
    {
     "data": {
      "text/plain": [
       "1000"
      ]
     },
     "execution_count": 8,
     "metadata": {},
     "output_type": "execute_result"
    }
   ],
   "source": [
    "; 设置和访问槽\n",
    "(defparameter *account* (make-instance 'bank-account))\n",
    "(setf (slot-value *account* 'customer-name) \"John Doe\")\n",
    "(setf (slot-value *account* 'balance) 1000)\n",
    "(slot-value *account* 'customer-name)\n",
    "(slot-value *account* 'balance)"
   ]
  },
  {
   "cell_type": "markdown",
   "metadata": {},
   "source": [
    "## 对象初始化"
   ]
  },
  {
   "cell_type": "code",
   "execution_count": null,
   "metadata": {},
   "outputs": [],
   "source": [
    "; 三种方式控制槽的初始值\n",
    "; (1) :initarg: 指定MAKE-INSTANCE的关键字形参\n",
    "; (2) :initform: 指定在没有:initarg参数时用一个Lisp表达式为该槽计算一个值\n",
    "; (3) 在广义函数INITIALIZE-INSTANCE上定义一个方法, 它将被MAKE-INSTANCE调用"
   ]
  },
  {
   "cell_type": "code",
   "execution_count": 10,
   "metadata": {},
   "outputs": [
    {
     "data": {
      "text/plain": [
       "#<STANDARD-CLASS COMMON-LISP-USER::BANK-ACCOUNT>"
      ]
     },
     "execution_count": 10,
     "metadata": {},
     "output_type": "execute_result"
    }
   ],
   "source": [
    "(defclass bank-account ()\n",
    "    ((customer-name\n",
    "      :initarg :customer-name)\n",
    "     (balance\n",
    "      :initarg :balance\n",
    "      :initform 0)))"
   ]
  },
  {
   "cell_type": "code",
   "execution_count": 11,
   "metadata": {},
   "outputs": [
    {
     "data": {
      "text/plain": [
       "*ACCOUNT*"
      ]
     },
     "execution_count": 11,
     "metadata": {},
     "output_type": "execute_result"
    },
    {
     "data": {
      "text/plain": [
       "\"John Doe\""
      ]
     },
     "execution_count": 11,
     "metadata": {},
     "output_type": "execute_result"
    },
    {
     "data": {
      "text/plain": [
       "1000"
      ]
     },
     "execution_count": 11,
     "metadata": {},
     "output_type": "execute_result"
    }
   ],
   "source": [
    "(defparameter *account*\n",
    "    (make-instance 'bank-account :customer-name \"John Doe\" :balance 1000))\n",
    "(slot-value *account* 'customer-name)\n",
    "(slot-value *account* 'balance)"
   ]
  },
  {
   "cell_type": "code",
   "execution_count": 13,
   "metadata": {},
   "outputs": [
    {
     "data": {
      "text/plain": [
       "0"
      ]
     },
     "execution_count": 13,
     "metadata": {},
     "output_type": "execute_result"
    }
   ],
   "source": [
    "(slot-value (make-instance 'bank-account) 'balance)\n",
    "; The slot COMMON-LISP-USER::CUSTOMER-NAME is unbound in the object\n",
    "; (slot-value (make-instance 'bank-account) 'customer-name)"
   ]
  },
  {
   "cell_type": "code",
   "execution_count": 14,
   "metadata": {},
   "outputs": [
    {
     "data": {
      "text/plain": [
       "*ACCOUNT-NUMBERS*"
      ]
     },
     "execution_count": 14,
     "metadata": {},
     "output_type": "execute_result"
    },
    {
     "data": {
      "text/plain": [
       "#<STANDARD-CLASS COMMON-LISP-USER::BANK-ACCOUNT>"
      ]
     },
     "execution_count": 14,
     "metadata": {},
     "output_type": "execute_result"
    }
   ],
   "source": [
    "(defvar *account-numbers* 0)\n",
    "\n",
    "(defclass bank-account ()\n",
    "    ((customer-name\n",
    "      :initarg :customer-name\n",
    "      :initform (error \"Must supply a customer name\"))\n",
    "     (balance\n",
    "      :initarg :balance\n",
    "      :initform 0)\n",
    "     (account-number\n",
    "      :initform (incf *account-numbers*))))"
   ]
  },
  {
   "cell_type": "code",
   "execution_count": 15,
   "metadata": {},
   "outputs": [],
   "source": [
    "; REQ: 基于一个槽的值来初始化另一个槽"
   ]
  },
  {
   "cell_type": "code",
   "execution_count": 16,
   "metadata": {},
   "outputs": [
    {
     "data": {
      "text/plain": [
       "#<STANDARD-CLASS COMMON-LISP-USER::BANK-ACCOUNT>"
      ]
     },
     "execution_count": 16,
     "metadata": {},
     "output_type": "execute_result"
    },
    {
     "data": {
      "text/plain": [
       "#<STANDARD-METHOD COMMON-LISP:INITIALIZE-INSTANCE :AFTER (BANK-ACCOUNT) {10036D1993}>"
      ]
     },
     "execution_count": 16,
     "metadata": {},
     "output_type": "execute_result"
    },
    {
     "data": {
      "text/plain": [
       ":GOLD"
      ]
     },
     "execution_count": 16,
     "metadata": {},
     "output_type": "execute_result"
    }
   ],
   "source": [
    "(defclass bank-account ()\n",
    "    ((customer-name\n",
    "      :initarg :customer-name\n",
    "      :initform (error \"Must supply a customer name\"))\n",
    "     (balance\n",
    "      :initarg :balance\n",
    "      :initform 0)\n",
    "     (account-number\n",
    "      :initform (incf *account-numbers*))\n",
    "     account-type))\n",
    "\n",
    ";; 根据balance设置account-type\n",
    ";; STANDARD-OBJECT上特化的INITIALIZE-INSTANCE主方法负责槽的初始化工作\n",
    "(defmethod initialize-instance :after ((account bank-account) &key)\n",
    "    (let ((balance (slot-value account 'balance)))\n",
    "         (setf (slot-value account 'account-type)\n",
    "               (cond\n",
    "                   ((>= balance 100000) :gold)\n",
    "                   ((>= balance 50000) :silver)\n",
    "                   (t :bronze)))))\n",
    "\n",
    "(slot-value (make-instance 'bank-account \n",
    "                           :customer-name \"John Doe\"\n",
    "                           :balance 200000) 'account-type)"
   ]
  },
  {
   "cell_type": "code",
   "execution_count": 25,
   "metadata": {},
   "outputs": [
    {
     "data": {
      "text/plain": [
       "#<STANDARD-CLASS COMMON-LISP-USER::BANK-ACCOUNT>"
      ]
     },
     "execution_count": 25,
     "metadata": {},
     "output_type": "execute_result"
    },
    {
     "data": {
      "text/plain": [
       "#<STANDARD-GENERIC-FUNCTION COMMON-LISP:INITIALIZE-INSTANCE (40)>"
      ]
     },
     "execution_count": 25,
     "metadata": {},
     "output_type": "execute_result"
    },
    {
     "data": {
      "text/plain": [
       "#<STANDARD-METHOD COMMON-LISP:INITIALIZE-INSTANCE :AFTER (BANK-ACCOUNT) {1004F17CD3}>"
      ]
     },
     "execution_count": 25,
     "metadata": {},
     "output_type": "execute_result"
    },
    {
     "data": {
      "text/plain": [
       "1050"
      ]
     },
     "execution_count": 25,
     "metadata": {},
     "output_type": "execute_result"
    }
   ],
   "source": [
    "(defclass bank-account ()\n",
    "    ((customer-name\n",
    "      :initarg :customer-name\n",
    "      :initform (error \"Must supply a customer name\"))\n",
    "     (balance\n",
    "      :initarg :balance\n",
    "      :initform 0)\n",
    "     (account-number\n",
    "      :initform (incf *account-numbers*))))\n",
    "\n",
    ";; 移除主方法\n",
    "(remove-method #'initialize-instance\n",
    "               (find-method #'initialize-instance '(:after) (list (find-class 'bank-account))))\n",
    "\n",
    ";; 指定了一个&key参数\n",
    "(defmethod initialize-instance :after ((account bank-account) \n",
    "                                       &key opening-bonus-percentage)\n",
    "    (when opening-bonus-percentage\n",
    "        (incf (slot-value account 'balance)\n",
    "              (* (slot-value account 'balance) (/ opening-bonus-percentage 100)))))\n",
    "\n",
    "(slot-value (make-instance 'bank-account\n",
    "                           :customer-name \"Sally Sue\"\n",
    "                           :balance 1000\n",
    "                           :opening-bonus-percentage 5) 'balance)"
   ]
  },
  {
   "cell_type": "markdown",
   "metadata": {},
   "source": [
    "## 访问函数"
   ]
  },
  {
   "cell_type": "code",
   "execution_count": 26,
   "metadata": {},
   "outputs": [],
   "source": [
    "; TODO(zhoujiagen) SETF函数\n",
    "; \n",
    "; 槽选项: :read, :write, :accessor, :documentation"
   ]
  },
  {
   "cell_type": "code",
   "execution_count": 38,
   "metadata": {},
   "outputs": [
    {
     "data": {
      "text/plain": [
       "#<STANDARD-CLASS COMMON-LISP-USER::BANK-ACCOUNT>"
      ]
     },
     "execution_count": 38,
     "metadata": {},
     "output_type": "execute_result"
    },
    {
     "data": {
      "text/plain": [
       "#<STANDARD-METHOD COMMON-LISP:INITIALIZE-INSTANCE :AFTER (BANK-ACCOUNT) {10042FBE83}>"
      ]
     },
     "execution_count": 38,
     "metadata": {},
     "output_type": "execute_result"
    },
    {
     "data": {
      "text/plain": [
       "*ACCOUNT*"
      ]
     },
     "execution_count": 38,
     "metadata": {},
     "output_type": "execute_result"
    },
    {
     "data": {
      "text/plain": [
       "\"John Doe\""
      ]
     },
     "execution_count": 38,
     "metadata": {},
     "output_type": "execute_result"
    },
    {
     "data": {
      "text/plain": [
       "0"
      ]
     },
     "execution_count": 38,
     "metadata": {},
     "output_type": "execute_result"
    },
    {
     "data": {
      "text/plain": [
       "19"
      ]
     },
     "execution_count": 38,
     "metadata": {},
     "output_type": "execute_result"
    },
    {
     "data": {
      "text/plain": [
       ":BRONZE"
      ]
     },
     "execution_count": 38,
     "metadata": {},
     "output_type": "execute_result"
    },
    {
     "data": {
      "text/plain": [
       "\"John Smith\""
      ]
     },
     "execution_count": 38,
     "metadata": {},
     "output_type": "execute_result"
    },
    {
     "data": {
      "text/plain": [
       "\"John Smith\""
      ]
     },
     "execution_count": 38,
     "metadata": {},
     "output_type": "execute_result"
    },
    {
     "name": "stdout",
     "output_type": "stream",
     "text": [
      "\n",
      "REDEFINITION-WITH-DEFMETHOD: \n",
      "  redefining INITIALIZE-INSTANCE :AFTER (#<STANDARD-CLASS COMMON-LISP-USER::BANK-ACCOUNT>) in DEFMETHOD\n"
     ]
    }
   ],
   "source": [
    "(defclass bank-account ()\n",
    "    ((customer-name\n",
    "      :initarg :customer-name\n",
    "      :initform (error \"Must supply a customer name\")\n",
    "      :accessor customer-name\n",
    "      :documentation \"Customer's name\")\n",
    "      (balance\n",
    "       :initarg :balance\n",
    "       :initform 0\n",
    "       :reader balance\n",
    "       :documentation \"Current account balance\")\n",
    "      (account-number\n",
    "       :initform (incf *account-numbers*)\n",
    "       :reader account-number\n",
    "       :documentation \"Account number, unique within a bank.\")\n",
    "      (account-type\n",
    "       :reader account-type\n",
    "       :documentation \"Type of acount, one of :gold, :silver, or :bronze.\")))\n",
    "\n",
    "(defmethod initialize-instance :after ((account bank-account) &key)\n",
    "    (let ((balance (slot-value account 'balance)))\n",
    "         (setf (slot-value account 'account-type)\n",
    "               (cond\n",
    "                   ((>= balance 100000) :gold)\n",
    "                   ((>= balance 50000) :silver)\n",
    "                   (t :bronze)))))\n",
    "\n",
    "(defparameter *account* (make-instance 'bank-account \n",
    "                                       :customer-name \"John Doe\"))\n",
    "(customer-name *account*)\n",
    "(balance *account*)\n",
    "(account-number *account*)\n",
    "(account-type *account*)\n",
    "\n",
    "(setf (customer-name *account*) \"John Smith\")\n",
    "(customer-name *account*)"
   ]
  },
  {
   "cell_type": "markdown",
   "metadata": {},
   "source": [
    "## WITH-SLOTS, WITH-ACCESSORS\n"
   ]
  },
  {
   "cell_type": "code",
   "execution_count": null,
   "metadata": {},
   "outputs": [],
   "source": []
  },
  {
   "cell_type": "code",
   "execution_count": null,
   "metadata": {},
   "outputs": [],
   "source": []
  }
 ],
 "metadata": {
  "kernelspec": {
   "display_name": "Common Lisp",
   "language": "common-lisp",
   "name": "common-lisp"
  },
  "language_info": {
   "codemirror_mode": "text/x-common-lisp",
   "file_extension": ".lisp",
   "mimetype": "text/x-common-lisp",
   "name": "common-lisp",
   "pygments_lexer": "common-lisp",
   "version": "1.5.5"
  },
  "toc": {
   "base_numbering": 1,
   "nav_menu": {},
   "number_sections": true,
   "sideBar": true,
   "skip_h1_title": false,
   "title_cell": "Table of Contents",
   "title_sidebar": "Contents",
   "toc_cell": false,
   "toc_position": {},
   "toc_section_display": true,
   "toc_window_display": true
  }
 },
 "nbformat": 4,
 "nbformat_minor": 2
}
