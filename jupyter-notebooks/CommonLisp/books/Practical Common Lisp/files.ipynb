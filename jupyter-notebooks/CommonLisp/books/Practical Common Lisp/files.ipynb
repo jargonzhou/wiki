{
 "cells": [
  {
   "cell_type": "markdown",
   "metadata": {},
   "source": [
    "两个抽象:\n",
    "\n",
    "- 流\n",
    "- 路径名(pathname)"
   ]
  },
  {
   "cell_type": "markdown",
   "metadata": {},
   "source": [
    "# 读取文件数据"
   ]
  },
  {
   "cell_type": "code",
   "execution_count": null,
   "metadata": {},
   "outputs": [],
   "source": [
    "; OPEN: 默认返回基于字符的输入流\n",
    "; READ-CHAR: 读取单个字符\n",
    "; READ-LINE: 读取一行文本\n",
    "; READ: 读取一个S-表达式, 并返回一个Lisp对象\n",
    "; CLOSE: 关闭流"
   ]
  },
  {
   "cell_type": "code",
   "execution_count": 1,
   "metadata": {},
   "outputs": [
    {
     "data": {
      "text/plain": [
       "T"
      ]
     },
     "execution_count": 1,
     "metadata": {},
     "output_type": "execute_result"
    },
    {
     "name": "stdout",
     "output_type": "stream",
     "text": [
      "Alice\n"
     ]
    }
   ],
   "source": [
    "; 读取文件第一行\n",
    "(let ((in (open \"data/name.txt\")))\n",
    "     (format t \"~a~%\" (read-line in))\n",
    "     (close in))"
   ]
  },
  {
   "cell_type": "code",
   "execution_count": 2,
   "metadata": {},
   "outputs": [],
   "source": [
    "; :if-does-not-exist: 指定OPEN的行为, 可选值:\n",
    "; :error: 报错(默认)\n",
    "; :create: 创建该文件\n",
    "; NIL: 返回NIL来代替流"
   ]
  },
  {
   "cell_type": "code",
   "execution_count": 4,
   "metadata": {},
   "outputs": [
    {
     "data": {
      "text/plain": [
       "T"
      ]
     },
     "execution_count": 4,
     "metadata": {},
     "output_type": "execute_result"
    },
    {
     "name": "stdout",
     "output_type": "stream",
     "text": [
      "Alice\n",
      "Bob\n",
      "Cartman\n",
      "David\n",
      "Eve\n",
      "Frank\n",
      "Green\n"
     ]
    }
   ],
   "source": [
    "; READ-CHAR, READ-LINE, READ的可选参数: eof-error-p\n",
    "; 默认为真, 指定当函数在文件结尾处被调用时是否报错\n",
    "; 如果eof-error-p为false, 返回eof-value(默认为NIL)\n",
    "\n",
    "(let ((in (open \"data/name.txt\" :if-does-not-exist nil)))\n",
    "     (when in\n",
    "         (loop for line = (read-line in nil)\n",
    "               while line do (format t \"~a~%\" line)))\n",
    "     (close in))"
   ]
  },
  {
   "cell_type": "code",
   "execution_count": 5,
   "metadata": {},
   "outputs": [
    {
     "data": {
      "text/plain": [
       "*S*"
      ]
     },
     "execution_count": 5,
     "metadata": {},
     "output_type": "execute_result"
    }
   ],
   "source": [
    "; READ: 读取S-表达式\n",
    "; see also PRINT\n",
    "(defparameter *s* (open \"data/s-expression.txt\"))"
   ]
  },
  {
   "cell_type": "code",
   "execution_count": 6,
   "metadata": {},
   "outputs": [
    {
     "data": {
      "text/plain": [
       "(1 2 3)"
      ]
     },
     "execution_count": 6,
     "metadata": {},
     "output_type": "execute_result"
    }
   ],
   "source": [
    "(read *s*)"
   ]
  },
  {
   "cell_type": "code",
   "execution_count": 7,
   "metadata": {},
   "outputs": [
    {
     "data": {
      "text/plain": [
       "456"
      ]
     },
     "execution_count": 7,
     "metadata": {},
     "output_type": "execute_result"
    }
   ],
   "source": [
    "(read *s*)"
   ]
  },
  {
   "cell_type": "code",
   "execution_count": 8,
   "metadata": {},
   "outputs": [
    {
     "data": {
      "text/plain": [
       "\"a string\""
      ]
     },
     "execution_count": 8,
     "metadata": {},
     "output_type": "execute_result"
    }
   ],
   "source": [
    "(read *s*)"
   ]
  },
  {
   "cell_type": "code",
   "execution_count": 9,
   "metadata": {},
   "outputs": [
    {
     "data": {
      "text/plain": [
       "((A B) (C D))"
      ]
     },
     "execution_count": 9,
     "metadata": {},
     "output_type": "execute_result"
    }
   ],
   "source": [
    "(read *s*)"
   ]
  },
  {
   "cell_type": "code",
   "execution_count": 10,
   "metadata": {},
   "outputs": [
    {
     "data": {
      "text/plain": [
       "T"
      ]
     },
     "execution_count": 10,
     "metadata": {},
     "output_type": "execute_result"
    }
   ],
   "source": [
    "(close *s*)"
   ]
  },
  {
   "cell_type": "code",
   "execution_count": null,
   "metadata": {},
   "outputs": [],
   "source": []
  },
  {
   "cell_type": "markdown",
   "metadata": {},
   "source": [
    "# 读取二进制数据"
   ]
  },
  {
   "cell_type": "code",
   "execution_count": null,
   "metadata": {},
   "outputs": [],
   "source": [
    "; :element-type '(unsigned-byte 8)\n",
    "; READ-BYTE"
   ]
  },
  {
   "cell_type": "code",
   "execution_count": 21,
   "metadata": {},
   "outputs": [
    {
     "data": {
      "text/plain": [
       "T"
      ]
     },
     "execution_count": 21,
     "metadata": {},
     "output_type": "execute_result"
    }
   ],
   "source": [
    "(let ((bf (open \"data/binary-output\" \n",
    "                :element-type '(unsigned-byte 8))))\n",
    "     (read-byte bf)\n",
    "     (read-byte bf)\n",
    "     (close bf))"
   ]
  },
  {
   "cell_type": "markdown",
   "metadata": {},
   "source": [
    "# 批量读取"
   ]
  },
  {
   "cell_type": "code",
   "execution_count": 25,
   "metadata": {},
   "outputs": [
    {
     "data": {
      "text/plain": [
       "*DATA*"
      ]
     },
     "execution_count": 25,
     "metadata": {},
     "output_type": "execute_result"
    },
    {
     "data": {
      "text/plain": [
       "11"
      ]
     },
     "execution_count": 25,
     "metadata": {},
     "output_type": "execute_result"
    },
    {
     "data": {
      "text/plain": [
       "#(#\\t #\\e #\\s #\\t #\\  #\\s #\\t #\\r #\\i #\\n #\\g NIL NIL NIL NIL)"
      ]
     },
     "execution_count": 25,
     "metadata": {},
     "output_type": "execute_result"
    }
   ],
   "source": [
    "; READ-SEQUENCE\n",
    "; \n",
    "\n",
    "(defvar *data* (make-array 15 :initial-element nil))\n",
    "(values (read-sequence *data* (make-string-input-stream \"test string\")) *data*)"
   ]
  },
  {
   "cell_type": "markdown",
   "metadata": {},
   "source": [
    "# 文件输出"
   ]
  },
  {
   "cell_type": "code",
   "execution_count": null,
   "metadata": {},
   "outputs": [],
   "source": [
    "; direction :output\n",
    "; if-exists :supersede/:append/:overwrite/NIL\n",
    "\n",
    "; WRITE-CHAR\n",
    "; WRITE-LINE\n",
    "; WRITE-STRING\n",
    "; TERPRI\n",
    "; FRESH-LINE\n",
    ";\n",
    "; PRINT\n",
    "; PRIN1\n",
    "; PPRINT\n",
    "; PRINC\n",
    "\n",
    "; WRITE-BYTE\n",
    "; WRITE-SEQUENCE"
   ]
  },
  {
   "cell_type": "code",
   "execution_count": 14,
   "metadata": {},
   "outputs": [
    {
     "data": {
      "text/plain": [
       "T"
      ]
     },
     "execution_count": 14,
     "metadata": {},
     "output_type": "execute_result"
    }
   ],
   "source": [
    "\n",
    "(let ((bf (open \"data/binary-output\" \n",
    "                :direction :output \n",
    "                :if-exists :supersede\n",
    "                :element-type '(unsigned-byte 8))))\n",
    "     (write-byte 100 bf)\n",
    "     (write-byte 200 bf)\n",
    "     (close bf))"
   ]
  },
  {
   "cell_type": "markdown",
   "metadata": {},
   "source": [
    "# 关闭文件"
   ]
  },
  {
   "cell_type": "code",
   "execution_count": null,
   "metadata": {},
   "outputs": [],
   "source": [
    "; WITH-OPEN-FILE宏: 构建在UNWIND-PROTECT特殊操作符"
   ]
  },
  {
   "cell_type": "code",
   "execution_count": 22,
   "metadata": {},
   "outputs": [
    {
     "data": {
      "text/plain": [
       "NIL"
      ]
     },
     "execution_count": 22,
     "metadata": {},
     "output_type": "execute_result"
    },
    {
     "name": "stdout",
     "output_type": "stream",
     "text": [
      "Alice\n"
     ]
    }
   ],
   "source": [
    "(with-open-file (is \"data/name.txt\")\n",
    "    (format t \"~a~%\" (read-line is)))"
   ]
  },
  {
   "cell_type": "code",
   "execution_count": 24,
   "metadata": {},
   "outputs": [
    {
     "data": {
      "text/plain": [
       "201"
      ]
     },
     "execution_count": 24,
     "metadata": {},
     "output_type": "execute_result"
    },
    {
     "data": {
      "text/plain": [
       "NIL"
      ]
     },
     "execution_count": 24,
     "metadata": {},
     "output_type": "execute_result"
    },
    {
     "name": "stdout",
     "output_type": "stream",
     "text": [
      "101\n",
      "201\n"
     ]
    }
   ],
   "source": [
    "(with-open-file (os \"data/binary-output\"\n",
    "                    :direction :output \n",
    "                    :if-exists :supersede\n",
    "                    :element-type '(unsigned-byte 8))\n",
    "    (write-byte 101 os)\n",
    "    (write-byte 201 os))\n",
    "\n",
    "(with-open-file (in \"data/binary-output\"\n",
    "                    :element-type '(unsigned-byte 8))\n",
    "    (format t \"~a~%\" (read-byte in))\n",
    "    (format t \"~a~%\" (read-byte in)))"
   ]
  },
  {
   "cell_type": "markdown",
   "metadata": {},
   "source": [
    "# 路径名"
   ]
  },
  {
   "cell_type": "code",
   "execution_count": 26,
   "metadata": {},
   "outputs": [],
   "source": [
    "; pathname对象: host, device, directory, name, type, version\n",
    "; PATHNAME\n",
    "; PATHNAME-DIRECTORY, PATHNAME-NAME, PATHNAME-TYPE"
   ]
  },
  {
   "cell_type": "code",
   "execution_count": 29,
   "metadata": {},
   "outputs": [
    {
     "data": {
      "text/plain": [
       "#P\"/foo/bar/baz.txt\""
      ]
     },
     "execution_count": 29,
     "metadata": {},
     "output_type": "execute_result"
    }
   ],
   "source": [
    "(pathname \"/foo/bar/baz.txt\")"
   ]
  },
  {
   "cell_type": "code",
   "execution_count": 30,
   "metadata": {},
   "outputs": [
    {
     "data": {
      "text/plain": [
       "#P\"/foo/bar/baz.txt\""
      ]
     },
     "execution_count": 30,
     "metadata": {},
     "output_type": "execute_result"
    }
   ],
   "source": [
    "#p\"/foo/bar/baz.txt\""
   ]
  },
  {
   "cell_type": "code",
   "execution_count": 28,
   "metadata": {},
   "outputs": [
    {
     "data": {
      "text/plain": [
       "\"txt\""
      ]
     },
     "execution_count": 28,
     "metadata": {},
     "output_type": "execute_result"
    },
    {
     "name": "stdout",
     "output_type": "stream",
     "text": [
      "\n",
      "(:ABSOLUTE \"foo\" \"bar\") \n",
      "\"baz\" \n",
      "\"txt\" "
     ]
    }
   ],
   "source": [
    "(let ((pn (pathname \"/foo/bar/baz.txt\")))\n",
    "     (print (pathname-directory pn))\n",
    "     (print (pathname-name pn))\n",
    "     (print (pathname-type pn)))"
   ]
  },
  {
   "cell_type": "code",
   "execution_count": null,
   "metadata": {},
   "outputs": [],
   "source": [
    "; NAEMSTRING\n",
    "; DIRECTORY-NAMESTRING\n",
    "; FILE-NAMESTRING"
   ]
  },
  {
   "cell_type": "code",
   "execution_count": 33,
   "metadata": {},
   "outputs": [
    {
     "data": {
      "text/plain": [
       "\"/foo/bar/baz.txt\""
      ]
     },
     "execution_count": 33,
     "metadata": {},
     "output_type": "execute_result"
    },
    {
     "data": {
      "text/plain": [
       "\"/foo/bar/\""
      ]
     },
     "execution_count": 33,
     "metadata": {},
     "output_type": "execute_result"
    },
    {
     "data": {
      "text/plain": [
       "\"baz.txt\""
      ]
     },
     "execution_count": 33,
     "metadata": {},
     "output_type": "execute_result"
    }
   ],
   "source": [
    "(namestring #p\"/foo/bar/baz.txt\")\n",
    "(directory-namestring #p\"/foo/bar/baz.txt\")\n",
    "(file-namestring #p\"/foo/bar/baz.txt\")"
   ]
  },
  {
   "cell_type": "code",
   "execution_count": null,
   "metadata": {},
   "outputs": [],
   "source": [
    "; MAKE-PATHNAME\n",
    "; MERGE-PATHNAMES\n",
    "; ENOUGH-NAMESTRING"
   ]
  },
  {
   "cell_type": "code",
   "execution_count": 34,
   "metadata": {},
   "outputs": [
    {
     "data": {
      "text/plain": [
       "#P\"/foo/bar/baz.txt\""
      ]
     },
     "execution_count": 34,
     "metadata": {},
     "output_type": "execute_result"
    }
   ],
   "source": [
    "(make-pathname :directory '(:absolute \"foo\" \"bar\")\n",
    "               :name \"baz\"\n",
    "               :type \"txt\")"
   ]
  },
  {
   "cell_type": "code",
   "execution_count": 37,
   "metadata": {},
   "outputs": [
    {
     "data": {
      "text/plain": [
       "#P\"/foo/bar/baz.html\""
      ]
     },
     "execution_count": 37,
     "metadata": {},
     "output_type": "execute_result"
    },
    {
     "data": {
      "text/plain": [
       "#P\"backups/baz.txt\""
      ]
     },
     "execution_count": 37,
     "metadata": {},
     "output_type": "execute_result"
    }
   ],
   "source": [
    "(make-pathname :type \"html\" :defaults #p\"/foo/bar/baz.txt\")\n",
    "(make-pathname :directory '(:relative \"backups\") :defaults #p\"/foo/bar/baz.txt\")"
   ]
  },
  {
   "cell_type": "code",
   "execution_count": 38,
   "metadata": {},
   "outputs": [
    {
     "data": {
      "text/plain": [
       "#P\"/www/html/foo/bar.html\""
      ]
     },
     "execution_count": 38,
     "metadata": {},
     "output_type": "execute_result"
    },
    {
     "data": {
      "text/plain": [
       "#P\"www/html/foo/bar.html\""
      ]
     },
     "execution_count": 38,
     "metadata": {},
     "output_type": "execute_result"
    }
   ],
   "source": [
    "(merge-pathnames #p\"foo/bar.html\" #p\"/www/html/\")\n",
    "(merge-pathnames #p\"foo/bar.html\" #p\"www/html/\")"
   ]
  },
  {
   "cell_type": "code",
   "execution_count": 39,
   "metadata": {},
   "outputs": [
    {
     "data": {
      "text/plain": [
       "\"html/foo/bar.html\""
      ]
     },
     "execution_count": 39,
     "metadata": {},
     "output_type": "execute_result"
    }
   ],
   "source": [
    "(enough-namestring #p\"/www/html/foo/bar.html\" #p\"/www/\")"
   ]
  },
  {
   "cell_type": "code",
   "execution_count": 41,
   "metadata": {},
   "outputs": [
    {
     "data": {
      "text/plain": [
       "#P\"/Users/zhoujiagen/Google Drive/workcache/jupyter-notebook/CommonLisp/foo.txt\""
      ]
     },
     "execution_count": 41,
     "metadata": {},
     "output_type": "execute_result"
    }
   ],
   "source": [
    "(merge-pathnames #p\"foo.txt\")"
   ]
  },
  {
   "cell_type": "code",
   "execution_count": 42,
   "metadata": {},
   "outputs": [
    {
     "data": {
      "text/plain": [
       "#P\"/foo/bar\""
      ]
     },
     "execution_count": 42,
     "metadata": {},
     "output_type": "execute_result"
    },
    {
     "data": {
      "text/plain": [
       "#P\"/foo/bar/\""
      ]
     },
     "execution_count": 42,
     "metadata": {},
     "output_type": "execute_result"
    }
   ],
   "source": [
    "; 目录名\n",
    "(make-pathname :directory '(:absolute \"foo\") :name \"bar\") ; file form\n",
    "(make-pathname :directory '(:absolute \"foo\" \"bar\")) ; firectory form"
   ]
  },
  {
   "cell_type": "markdown",
   "metadata": {},
   "source": [
    "# 与文件系统交互"
   ]
  },
  {
   "cell_type": "code",
   "execution_count": null,
   "metadata": {},
   "outputs": [],
   "source": [
    "; PROBE-FILE\n",
    "; DIRECTORY\n",
    "; DELETE-FILE, RENAME-FILE\n",
    "; ENSURE-DIRECTORIES-EXIST\n",
    "\n",
    "; FILE-WRITE-DATE, FILE-AUTHOR\n",
    "; FILE-LENGTH, FILE-POSITION"
   ]
  },
  {
   "cell_type": "code",
   "execution_count": 47,
   "metadata": {},
   "outputs": [
    {
     "data": {
      "text/plain": [
       "#P\"/Users/zhoujiagen/Google Drive/workcache/jupyter-notebook/CommonLisp/data/name.txt\""
      ]
     },
     "execution_count": 47,
     "metadata": {},
     "output_type": "execute_result"
    },
    {
     "data": {
      "text/plain": [
       "NIL"
      ]
     },
     "execution_count": 47,
     "metadata": {},
     "output_type": "execute_result"
    }
   ],
   "source": [
    "(probe-file #p\"data/name.txt\")\n",
    "(probe-file #p\"data/name1.txt\")"
   ]
  },
  {
   "cell_type": "code",
   "execution_count": 53,
   "metadata": {},
   "outputs": [
    {
     "data": {
      "text/plain": [
       "(#P\"/Users/zhoujiagen/Google Drive/workcache/jupyter-notebook/.DS_Store\"\n",
       " #P\"/Users/zhoujiagen/Google Drive/workcache/jupyter-notebook/.ipynb_checkpoints/\"\n",
       " #P\"/Users/zhoujiagen/Google Drive/workcache/jupyter-notebook/CommonLisp/\"\n",
       " #P\"/Users/zhoujiagen/Google Drive/workcache/jupyter-notebook/Ethereum/\"\n",
       " #P\"/Users/zhoujiagen/Google Drive/workcache/jupyter-notebook/SQL/\"\n",
       " #P\"/Users/zhoujiagen/Google Drive/workcache/jupyter-notebook/Shell/\"\n",
       " #P\"/Users/zhoujiagen/Google Drive/workcache/jupyter-notebook/python/\"\n",
       " #P\"/Users/zhoujiagen/Google Drive/workcache/jupyter-notebook/scala/\")"
      ]
     },
     "execution_count": 53,
     "metadata": {},
     "output_type": "execute_result"
    }
   ],
   "source": [
    "(directory #p\"../*\")"
   ]
  },
  {
   "cell_type": "code",
   "execution_count": 54,
   "metadata": {},
   "outputs": [
    {
     "data": {
      "text/plain": [
       "3774650413"
      ]
     },
     "execution_count": 54,
     "metadata": {},
     "output_type": "execute_result"
    },
    {
     "data": {
      "text/plain": [
       "\"zhoujiagen\""
      ]
     },
     "execution_count": 54,
     "metadata": {},
     "output_type": "execute_result"
    }
   ],
   "source": [
    "(file-write-date #p\"data/name.txt\")\n",
    "(file-author #p\"data/name.txt\")"
   ]
  },
  {
   "cell_type": "code",
   "execution_count": 59,
   "metadata": {},
   "outputs": [
    {
     "data": {
      "text/plain": [
       "1"
      ]
     },
     "execution_count": 59,
     "metadata": {},
     "output_type": "execute_result"
    },
    {
     "name": "stdout",
     "output_type": "stream",
     "text": [
      "\n",
      "40 \n",
      "0 \n",
      "1 "
     ]
    }
   ],
   "source": [
    "(with-open-file (in #p\"data/name.txt\")\n",
    "    (print (file-length in))\n",
    "    (print (file-position in))\n",
    "    (read-char in)\n",
    "    (print (file-position in)))"
   ]
  },
  {
   "cell_type": "markdown",
   "metadata": {},
   "source": [
    "# 其他IO类型"
   ]
  },
  {
   "cell_type": "code",
   "execution_count": null,
   "metadata": {},
   "outputs": [],
   "source": [
    "; STRING-STREAM\n",
    "; MAKE-STRING-INPUT-STREAM\n",
    "; MAKE-STRING-OUTPUT-STREAM\n",
    "\n",
    "; WITH-INPUT-FROM-STRING\n",
    "; WITH-OUTPUT-TO-STRING"
   ]
  },
  {
   "cell_type": "code",
   "execution_count": 60,
   "metadata": {},
   "outputs": [
    {
     "data": {
      "text/plain": [
       "1.23"
      ]
     },
     "execution_count": 60,
     "metadata": {},
     "output_type": "execute_result"
    }
   ],
   "source": [
    "(let ((s (make-string-input-stream \"1.23\")))\n",
    "     (unwind-protect (read s)\n",
    "                     (close s)))"
   ]
  },
  {
   "cell_type": "code",
   "execution_count": 61,
   "metadata": {},
   "outputs": [
    {
     "data": {
      "text/plain": [
       "1.23"
      ]
     },
     "execution_count": 61,
     "metadata": {},
     "output_type": "execute_result"
    }
   ],
   "source": [
    "(with-input-from-string (s \"1.23\")\n",
    "    (read s))"
   ]
  },
  {
   "cell_type": "code",
   "execution_count": 62,
   "metadata": {},
   "outputs": [
    {
     "data": {
      "text/plain": [
       "\"hello, world (1 2 3)\""
      ]
     },
     "execution_count": 62,
     "metadata": {},
     "output_type": "execute_result"
    }
   ],
   "source": [
    "(with-output-to-string (out)\n",
    "    (format out \"hello, world \")\n",
    "    (format out \"~s\" '(1 2 3)))"
   ]
  },
  {
   "cell_type": "code",
   "execution_count": null,
   "metadata": {},
   "outputs": [],
   "source": [
    "; BROADCASE-STREAM, MAKE-BROADCAST-STREAM\n",
    "; CONCATENATED-STREAM, MAKE-CONCATENATED-STREAM\n",
    "; TWO-WAY-STREAM, MAKE-TWO-WAY-STREAM\n",
    "; ECHO-STREAM, MAKE-ECHO-STREAM"
   ]
  },
  {
   "cell_type": "code",
   "execution_count": null,
   "metadata": {},
   "outputs": [],
   "source": []
  },
  {
   "cell_type": "code",
   "execution_count": null,
   "metadata": {},
   "outputs": [],
   "source": []
  },
  {
   "cell_type": "code",
   "execution_count": null,
   "metadata": {},
   "outputs": [],
   "source": []
  }
 ],
 "metadata": {
  "kernelspec": {
   "display_name": "Common Lisp",
   "language": "common-lisp",
   "name": "common-lisp"
  },
  "language_info": {
   "codemirror_mode": "text/x-common-lisp",
   "file_extension": ".lisp",
   "mimetype": "text/x-common-lisp",
   "name": "common-lisp",
   "pygments_lexer": "common-lisp",
   "version": "1.5.5"
  },
  "toc": {
   "base_numbering": 1,
   "nav_menu": {},
   "number_sections": true,
   "sideBar": true,
   "skip_h1_title": false,
   "title_cell": "Table of Contents",
   "title_sidebar": "Contents",
   "toc_cell": false,
   "toc_position": {},
   "toc_section_display": true,
   "toc_window_display": true
  }
 },
 "nbformat": 4,
 "nbformat_minor": 2
}
