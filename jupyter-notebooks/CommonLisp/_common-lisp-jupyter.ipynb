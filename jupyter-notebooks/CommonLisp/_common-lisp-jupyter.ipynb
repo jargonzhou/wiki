{
 "cells": [
  {
   "cell_type": "markdown",
   "metadata": {},
   "source": [
    "- common-lisp-jupyter: A Common Lisp kernel for Jupyter along with a library for building Jupyter kernels, based on Maxima-Jupyter by Robert Dodier which was based on cl-jupyter by Frederic Peschanski.\n",
    "  - https://github.com/yitzchak/common-lisp-jupyter\n",
    "  - https://yitzchak.github.io/common-lisp-jupyter/"
   ]
  },
  {
   "cell_type": "code",
   "execution_count": 1,
   "metadata": {
    "vscode": {
     "languageId": "commonlisp"
    }
   },
   "outputs": [
    {
     "data": {
      "text/plain": [
       "2"
      ]
     },
     "execution_count": 1,
     "metadata": {},
     "output_type": "execute_result"
    }
   ],
   "source": [
    "(+ 1 1)"
   ]
  },
  {
   "cell_type": "code",
   "execution_count": 2,
   "metadata": {
    "vscode": {
     "languageId": "commonlisp"
    }
   },
   "outputs": [
    {
     "data": {
      "text/plain": [
       "NIL"
      ]
     },
     "execution_count": 2,
     "metadata": {},
     "output_type": "execute_result"
    },
    {
     "name": "stdout",
     "output_type": "stream",
     "text": [
      "Hello, Common Lisp!\n"
     ]
    }
   ],
   "source": [
    "(format t \"~a~%\" \"Hello, Common Lisp!\")"
   ]
  },
  {
   "cell_type": "markdown",
   "metadata": {},
   "source": [
    "# Help"
   ]
  },
  {
   "cell_type": "code",
   "execution_count": null,
   "metadata": {
    "vscode": {
     "languageId": "commonlisp"
    }
   },
   "outputs": [
    {
     "data": {
      "text/plain": [
       "(1 2 3)"
      ]
     },
     "execution_count": 1,
     "metadata": {},
     "output_type": "execute_result"
    },
    {
     "name": "stdout",
     "output_type": "stream",
     "text": [
      "SIMPLE-WARNING: undefined variable: COMMON-LISP-USER::X\n",
      "SIMPLE-WARNING: undefined variable: COMMON-LISP-USER::X\n",
      "\n",
      "(1 2 3)\n",
      "  [list]\n"
     ]
    }
   ],
   "source": [
    "(setf x (list 1 2 3))\n",
    "\n",
    "(describe x)\n",
    "\n",
    "; an interactive version of describe\n",
    "; (inspect x)"
   ]
  },
  {
   "cell_type": "markdown",
   "metadata": {},
   "source": [
    "# shasht\n",
    "- https://github.com/yitzchak/shasht\n",
    "Common Lisp JSON reading and writing for the Kzinti."
   ]
  },
  {
   "cell_type": "code",
   "execution_count": 3,
   "metadata": {
    "vscode": {
     "languageId": "commonlisp"
    }
   },
   "outputs": [
    {
     "name": "stdout",
     "output_type": "stream",
     "text": [
      "To load \"shasht\":\n",
      "  Load 1 ASDF system:\n",
      "    shasht\n"
     ]
    },
    {
     "data": {
      "text/plain": [
       "(:SHASHT)"
      ]
     },
     "execution_count": 3,
     "metadata": {},
     "output_type": "execute_result"
    },
    {
     "name": "stdout",
     "output_type": "stream",
     "text": [
      "\n",
      "; Loading \"shasht\"\n",
      "\n"
     ]
    }
   ],
   "source": [
    "(ql:quickload :shasht)"
   ]
  },
  {
   "cell_type": "code",
   "execution_count": 4,
   "metadata": {
    "vscode": {
     "languageId": "commonlisp"
    }
   },
   "outputs": [
    {
     "data": {
      "text/plain": [
       "(:OBJECT-PLIST \"foo\" \"bar\" \"quux\" 1.23)"
      ]
     },
     "execution_count": 4,
     "metadata": {},
     "output_type": "execute_result"
    },
    {
     "name": "stdout",
     "output_type": "stream",
     "text": [
      "{\n",
      "  \"foo\": \"bar\",\n",
      "  \"quux\": 1.23\n",
      "}"
     ]
    }
   ],
   "source": [
    "(shasht:write-json `(:object-plist \"foo\" \"bar\" \"quux\" 1.23) t)"
   ]
  },
  {
   "cell_type": "code",
   "execution_count": 5,
   "metadata": {
    "vscode": {
     "languageId": "commonlisp"
    }
   },
   "outputs": [
    {
     "data": {
      "application/json": {
       "foo": "bar",
       "quux": {
        "a": 1,
        "b": 2
       }
      }
     },
     "metadata": {
      "application/json": {
       "expanded": true
      }
     },
     "output_type": "display_data"
    }
   ],
   "source": [
    "(jupyter:json `(:object-plist \"foo\" \"bar\" \"quux\" (:object-plist \"a\" 1 \"b\" 2)) :expanded t :display t :id \"a\")"
   ]
  },
  {
   "cell_type": "markdown",
   "metadata": {},
   "source": [
    "# Debug"
   ]
  },
  {
   "cell_type": "code",
   "execution_count": null,
   "metadata": {
    "vscode": {
     "languageId": "commonlisp"
    }
   },
   "outputs": [
    {
     "data": {
      "text/plain": [
       "NIL"
      ]
     },
     "execution_count": 6,
     "metadata": {},
     "output_type": "execute_result"
    },
    {
     "data": {
      "text/plain": [
       "FU"
      ]
     },
     "execution_count": 6,
     "metadata": {},
     "output_type": "execute_result"
    },
    {
     "name": "stdout",
     "output_type": "stream",
     "text": [
      "SB-INT:SIMPLE-STYLE-WARNING: DECLAIM where DECLARE was probably intended\n",
      "SIMPLE-WARNING: undefined variable: COMMON-LISP-USER::Y\n"
     ]
    }
   ],
   "source": [
    "; quicklisp\\dists\\quicklisp\\software\\common-lisp-jupyter-20241012-git\\examples\\debug.ipynb\n",
    "(declaim (optimize (debug 3)\n",
    "                   (safety 3)\n",
    "                   (speed 0)))\n",
    "\n",
    "(defun fu (x)\n",
    "  (print \"1\")\n",
    "  (break)\n",
    "  (print \"2\")\n",
    "  (+ x y))"
   ]
  },
  {
   "cell_type": "code",
   "execution_count": 7,
   "metadata": {
    "vscode": {
     "languageId": "commonlisp"
    }
   },
   "outputs": [
    {
     "name": "stdout",
     "output_type": "stream",
     "text": [
      "\n",
      "\"1\" Resuming thread #<THREAD tid=12260 \"SHELL Thread\" RUNNING {1103A87A53}>\n",
      "\n",
      "Type HELP for debugger help, or (SB-EXT:EXIT) to exit from SBCL.\n",
      "\n",
      "\n",
      "restarts (invokable by number or by possibly-abbreviated name):\n",
      "\n",
      "  0: [CONTINUE] Return from BREAK.\n",
      "\n",
      "  1: [ABORT   ] abort thread (#<THREAD tid=12260 \"SHELL Thread\" RUNNING {1103A87A53}>)\n",
      "\n",
      "(FU 7)\n",
      "   source: (BREAK)\n",
      "0] "
     ]
    },
    {
     "name": "stderr",
     "output_type": "stream",
     "text": [
      "\n",
      "\n",
      "debugger invoked on a SIMPLE-CONDITION in thread\n",
      "#<THREAD tid=12260 \"SHELL Thread\" RUNNING {1103A87A53}>:\n",
      "  break\n",
      "UNBOUND-VARIABLE: The variable Y is unbound.\n",
      "\n"
     ]
    },
    {
     "ename": "UNBOUND-VARIABLE",
     "evalue": "The variable Y is unbound.",
     "output_type": "error",
     "traceback": [
      "0: (FU 7)",
      "1: ((LAMBDA NIL :IN \"C:/Users/zhouj/AppData/Local/Temp/E2C591AEC6FE48B9252B2C0E04464607-1752523104.lisp\"))",
      "2: (JUPYTER/COMMON-LISP::EVAL-AND-PRINT (FU 7) 0 NIL)",
      "3: ((:METHOD JUPYTER:EVALUATE-FORM (JUPYTER/COMMON-LISP:KERNEL T T T)) #<unused argument> #<FORM-TRACKING-STREAM for \"file C:\\\\Users\\\\zhouj\\\\AppData\\\\Local\\\\Temp\\\\E2C591AEC6FE48B9252B2C0E04464607-1752523104.lisp\" {1102996B53}> CELL:1752523104.LISP.NEWEST NIL #<unused argument> #<unused argument>)",
      "4: (JUPYTER/COMMON-LISP::REPL (fu 7)\n; (step (fu 7))\n\n\n;; 0: [CONTINUE] Return from BREAK. CELL:1752523104.LISP.NEWEST NIL)",
      "5: ((:METHOD JUPYTER:EVALUATE-CODE (JUPYTER/COMMON-LISP:KERNEL T)) #<unused argument> (fu 7)\n; (step (fu 7))\n\n\n;; 0: [CONTINUE] Return from BREAK. CELL:1752523104.LISP.NEWEST NIL)",
      "6: (JUPYTER::HANDLE-EXECUTE-REQUEST)",
      "7: (JUPYTER::RUN-SHELL #<KERNEL {1102892B73}>)",
      "8: ((LABELS BORDEAUX-THREADS::%BINDING-DEFAULT-SPECIALS-WRAPPER :IN BORDEAUX-THREADS::BINDING-DEFAULT-SPECIALS))",
      "9: ((FLET SB-UNIX::BODY :IN SB-THREAD::RUN))",
      "10: ((FLET \"WITHOUT-INTERRUPTS-BODY-\" :IN SB-THREAD::RUN))",
      "11: ((FLET SB-UNIX::BODY :IN SB-THREAD::RUN))",
      "12: ((FLET \"WITHOUT-INTERRUPTS-BODY-\" :IN SB-THREAD::RUN))",
      "13: (SB-THREAD::RUN)",
      "14: (\"foreign function: #x140045AB5\")",
      "15: (\"foreign function: #x14000A14A\")"
     ]
    },
    {
     "name": "stdout",
     "output_type": "stream",
     "text": [
      "\n",
      "\"2\" "
     ]
    }
   ],
   "source": [
    "(fu 7)\n",
    "; (step (fu 7))\n",
    "\n",
    "\n",
    ";; 0: [CONTINUE] Return from BREAK."
   ]
  },
  {
   "cell_type": "markdown",
   "metadata": {},
   "source": [
    "# Lisp Image"
   ]
  },
  {
   "cell_type": "code",
   "execution_count": 4,
   "metadata": {
    "vscode": {
     "languageId": "commonlisp"
    }
   },
   "outputs": [
    {
     "data": {
      "text/plain": [
       "(\"SB-INTROSPECT\" \"URI\" \"IRONCLAD\" \"SB-ROTATE-BYTE\" \"SB-BSD-SOCKETS\" \"SB-POSIX\"\n",
       " \"ASDF\" \"asdf\" \"UIOP\" \"uiop\")"
      ]
     },
     "execution_count": 4,
     "metadata": {},
     "output_type": "execute_result"
    }
   ],
   "source": [
    "; WARN: The variable *modules* is deprecated.\n",
    "*modules*"
   ]
  },
  {
   "cell_type": "code",
   "execution_count": null,
   "metadata": {
    "vscode": {
     "languageId": "commonlisp"
    }
   },
   "outputs": [
    {
     "data": {
      "text/plain": [
       "#<PACKAGE \"COMMON-LISP-USER\">"
      ]
     },
     "execution_count": 3,
     "metadata": {},
     "output_type": "execute_result"
    }
   ],
   "source": [
    "; current package\n",
    "*package*"
   ]
  },
  {
   "cell_type": "code",
   "execution_count": null,
   "metadata": {
    "vscode": {
     "languageId": "commonlisp"
    }
   },
   "outputs": [
    {
     "data": {
      "text/plain": [
       "(:GRAY-STREAMS-LINE-LENGTH :GRAY-STREAMS-INTERACTIVE\n",
       " :GRAY-STREAMS-FILE-POSITION/OPTIONAL :GRAY-STREAMS-FILE-POSITION\n",
       " :GRAY-STREAMS-SEQUENCE/OPTIONAL :GRAY-STREAMS-SEQUENCE\n",
       " :GRAY-STREAMS-DIRECTIONP :IRONCLAD-ASSEMBLY :IRONCLAD-SB-VM-EA\n",
       " :IRONCLAD-FAST-MOD64-ARITHMETIC :IRONCLAD-FAST-MOD32-ARITHMETIC :CLOSER-MOP\n",
       " :BORDEAUX-THREADS :GLOBAL-VARS CFFI-FEATURES:FLAT-NAMESPACE\n",
       " CFFI-FEATURES:X86-64 CFFI-FEATURES:WINDOWS :CFFI CFFI-SYS::FLAT-NAMESPACE\n",
       " :WINDOWS ALEXANDRIA::SEQUENCE-EMPTYP :THREAD-SUPPORT :QUICKLISP :ASDF3.3\n",
       " :ASDF3.2 :ASDF3.1 :ASDF3 :ASDF2 :ASDF :OS-WINDOWS :NON-BASE-CHARS-EXIST-P\n",
       " :ASDF-UNICODE :ARENA-ALLOCATOR :X86-64 :GENCGC :64-BIT :ANSI-CL :COMMON-LISP\n",
       " :IEEE-FLOATING-POINT :LITTLE-ENDIAN :PACKAGE-LOCAL-NICKNAMES :SB-LDB\n",
       " :SB-PACKAGE-LOCKS :SB-SAFEPOINT :SB-THREAD :SB-UNICODE :SBCL :WIN32)"
      ]
     },
     "execution_count": 5,
     "metadata": {},
     "output_type": "execute_result"
    }
   ],
   "source": [
    "; features\n",
    "*features*"
   ]
  },
  {
   "cell_type": "code",
   "execution_count": null,
   "metadata": {
    "vscode": {
     "languageId": "commonlisp"
    }
   },
   "outputs": [
    {
     "data": {
      "text/plain": [
       "#P\"d:/GoogleDrive/code/jupyter-notebooks/CommonLisp/\""
      ]
     },
     "execution_count": 6,
     "metadata": {},
     "output_type": "execute_result"
    }
   ],
   "source": [
    "; a pathname, used as the default whenever a function needs a default pathname and one is not supplied.\n",
    "*default-pathname-defaults*"
   ]
  },
  {
   "cell_type": "code",
   "execution_count": 8,
   "metadata": {
    "vscode": {
     "languageId": "commonlisp"
    }
   },
   "outputs": [
    {
     "data": {
      "text/plain": [
       "#P\"CELL:41854328.LISP.NEWEST\""
      ]
     },
     "execution_count": 8,
     "metadata": {},
     "output_type": "execute_result"
    },
    {
     "data": {
      "text/plain": [
       "#P\"C:/Users/zhouj/AppData/Local/Temp/7C24D9A04C0A4F313801ECF03F997FE3-41854328.lisp\""
      ]
     },
     "execution_count": 8,
     "metadata": {},
     "output_type": "execute_result"
    }
   ],
   "source": [
    "*load-pathname*\n",
    "*load-truename*"
   ]
  },
  {
   "cell_type": "markdown",
   "metadata": {},
   "source": [
    "# Profiling"
   ]
  },
  {
   "cell_type": "code",
   "execution_count": 1,
   "metadata": {
    "vscode": {
     "languageId": "commonlisp"
    }
   },
   "outputs": [
    {
     "data": {
      "text/plain": [
       "6"
      ]
     },
     "execution_count": 1,
     "metadata": {},
     "output_type": "execute_result"
    },
    {
     "data": {
      "text/plain": [
       "6"
      ]
     },
     "execution_count": 1,
     "metadata": {},
     "output_type": "execute_result"
    },
    {
     "name": "stdout",
     "output_type": "stream",
     "text": [
      "\n",
      "Evaluation took:\n",
      "  0.000 seconds of real time\n",
      "  0.000002 seconds of total run time (0.000001 user, 0.000001 system)\n",
      "  100.00% CPU\n",
      "  546 processor cycles\n",
      "  0 bytes consed\n",
      "  \n",
      "\n",
      "Evaluation took:\n",
      "  0.000 seconds of real time\n",
      "  0.000001 seconds of total run time (0.000001 user, 0.000000 system)\n",
      "  100.00% CPU\n",
      "  522 processor cycles\n",
      "  0 bytes consed\n",
      "  \n"
     ]
    }
   ],
   "source": [
    "(time (apply #'+ '(1 2 3)))\n",
    "(time (reduce #'+ '(1 2 3)))"
   ]
  },
  {
   "cell_type": "code",
   "execution_count": null,
   "metadata": {
    "vscode": {
     "languageId": "commonlisp"
    }
   },
   "outputs": [],
   "source": [
    "(require :sb-sprof)"
   ]
  }
 ],
 "metadata": {
  "kernelspec": {
   "display_name": "Common Lisp",
   "language": "common-lisp",
   "name": "common-lisp"
  },
  "language_info": {
   "codemirror_mode": "text/x-common-lisp",
   "file_extension": ".lisp",
   "mimetype": "text/x-common-lisp",
   "name": "common-lisp",
   "pygments_lexer": "common-lisp",
   "version": "2.4.10"
  },
  "toc": {
   "base_numbering": 1,
   "nav_menu": {},
   "number_sections": true,
   "sideBar": true,
   "skip_h1_title": false,
   "title_cell": "Table of Contents",
   "title_sidebar": "Contents",
   "toc_cell": false,
   "toc_position": {},
   "toc_section_display": true,
   "toc_window_display": false
  }
 },
 "nbformat": 4,
 "nbformat_minor": 4
}
