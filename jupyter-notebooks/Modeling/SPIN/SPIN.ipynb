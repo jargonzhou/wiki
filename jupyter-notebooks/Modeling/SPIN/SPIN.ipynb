{
 "cells": [
  {
   "cell_type": "markdown",
   "metadata": {},
   "source": [
    "# SPIN\n",
    "* https://spinroot.com/spin/whatispin.html\n",
    "\n",
    "## Books\n",
    "\n",
    "- Mordechai Ben-Ari. **Principles of the Spin Model Checker**. Springer-Verlag: 2008. http://www.weizmann.ac.il/sci-tea/benari/software\n",
    "- SMC: Gerard J. Holzmann. **The Spin Model Checker: Primer and Reference Manual**. Addison-Wesley: 2004.\n",
    "- PCDP: Mordechai Ben-Ari. **Principles of Concurrent and Distributed Programming**, Second Edition. Addison-Wesley: 2006.\n",
    "\n",
    "## More \n",
    "* [Promela.ipynb](./Promela.ipynb)"
   ]
  },
  {
   "cell_type": "markdown",
   "metadata": {},
   "source": [
    "## Tools"
   ]
  },
  {
   "cell_type": "markdown",
   "metadata": {},
   "source": [
    "* VSCode plugin: Promela for VS, SPIN Promela language\n",
    "\n",
    "* JSPIN\n",
    "\n",
    "jSpin, developed by Moti Ben-Ari, is an alternative to the iSpin GUI written in Java instead of Tcl/Tk. It is meant as a teaching aid.\n",
    "\n",
    "https://github.com/motib/jspin\n",
    "\n",
    "```shell\n",
    "# D:\\workspace\\rtfsc\\jspin\n",
    "$ java -jar jspin.jar\n",
    "\n",
    "# 配置文件: config.cfg\n",
    "```\n",
    "\n",
    "* SPINSPIDER\n",
    "\n",
    "SPINSPIDER is a software tool for automatically generating the state transition diagram of a PROMELA program.\n",
    "\n",
    "When SPIN performs a verification, it searches the full state space and sufficient information is available on the search to enable the construction of the state diagram.\n",
    "\n",
    "SPINSPIDER works with four input files:\n",
    "\n",
    "(1) the PROMELA source file, <br/>\n",
    "(2) the debug file obtained by running a verification of the program with the `-DCHECK` option and with a never claim that prints out the program counters and variable values,<br/>\n",
    "(3) the statement file obtained by running a verification with the `-d` option,<br/>\n",
    "(4) the trail file of a computation.\n",
    "\n",
    "\n",
    "* VN: Visualizing nondeterminism"
   ]
  },
  {
   "cell_type": "markdown",
   "metadata": {},
   "source": [
    "# Installation\n",
    "\n",
    "Windows: `~\\bin\\pc_spin651\\spin.exe`\n",
    "\n",
    "WSL:\n",
    "\n",
    "```shell\n",
    "$ mv spin651_linux64 spin\n",
    "$ mv spin /usr/local/bin/\n",
    "$ which spin\n",
    "/usr/local/bin/spin\n",
    "$ spin -V\n",
    "Spin Version 6.5.1 -- 20 December 2019\n",
    "```"
   ]
  },
  {
   "cell_type": "markdown",
   "metadata": {},
   "source": [
    "# Help"
   ]
  },
  {
   "cell_type": "code",
   "execution_count": 21,
   "metadata": {},
   "outputs": [
    {
     "name": "stdout",
     "output_type": "stream",
     "text": [
      "use: spin [-option] ... [-option] file\n",
      "\tNote: file must always be the last argument\n",
      "\t-A apply slicing algorithm\n",
      "\t-a generate a verifier in pan.c\n",
      "\t-B no final state details in simulations\n",
      "\t-b don't execute printfs in simulation\n",
      "\t-C print channel access info (combine with -g etc.)\n",
      "\t-c columnated -s -r simulation output\n",
      "\t-d produce symbol-table information\n",
      "\t-Dyyy pass -Dyyy to the preprocessor\n",
      "\t-Eyyy pass yyy to the preprocessor\n",
      "\t-e compute synchronous product of multiple never claims (modified by -L)\n",
      "\t-f \"..formula..\"  translate LTL into never claim\n",
      "\t-F file  like -f, but with the LTL formula stored in a 1-line file\n",
      "\t-g print all global variables\n",
      "\t-h at end of run, print value of seed for random nr generator used\n",
      "\t-i interactive (random simulation)\n",
      "\t-I show result of inlining and preprocessing\n",
      "\t-J reverse eval order of nested unlesses\n",
      "\t-jN skip the first N steps in simulation trail\n",
      "\t-k fname use the trailfile stored in file fname, see also -t\n",
      "\t-L when using -e, use strict language intersection\n",
      "\t-l print all local variables\n",
      "\t-M generate msc-flow in tcl/tk format\n",
      "\t-m lose msgs sent to full queues\n",
      "\t-N fname use never claim stored in file fname\n",
      "\t-nN seed for random nr generator\n",
      "\t-O use old scope rules (pre 5.3.0)\n",
      "\t-o1 turn off dataflow-optimizations in verifier\n",
      "\t-o2 don't hide write-only variables in verifier\n",
      "\t-o3 turn off statement merging in verifier\n",
      "\t-o4 turn on rendezvous optiomizations in verifier\n",
      "\t-o5 turn on case caching (reduces size of pan.m, but affects reachability reports)\n",
      "\t-o6 revert to the old rules for interpreting priority tags (pre version 6.2)\n",
      "\t-o7 revert to the old rules for semi-colon usage (pre version 6.3)\n",
      "\t-Pxxx use xxx for preprocessing\n",
      "\t-p print all statements\n",
      "\t-pp pretty-print (reformat) stdin, write stdout\n",
      "\t-qN suppress io for queue N in printouts\n",
      "\t-r print receive events\n",
      "\t-replay  replay an error trail-file found earlier\n",
      "\t\tif the model contains embedded c-code, the ./pan executable is used\n",
      "\t\totherwise spin itself is used to replay the trailfile\n",
      "\t\tnote that pan recognizes different runtime options than spin itself\n",
      "\t-run  (or -search) generate a verifier, and compile and run it\n",
      "\t      options before -search are interpreted by spin to parse the input\n",
      "\t      options following a -search are used to compile and run the verifier pan\n",
      "\t\t    valid options that can follow a -search argument include:\n",
      "\t\t    -bfs\tperform a breadth-first search\n",
      "\t\t    -bfspar\tperform a parallel breadth-first search\n",
      "\t\t    -dfspar\tperform a parallel depth-first search, same as -DNCORE=4\n",
      "\t\t    -bcs\tuse the bounded-context-switching algorithm\n",
      "\t\t    -bitstate\tor -bit, use bitstate storage\n",
      "\t\t    -biterateN,M use bitstate with iterative search refinement (-w18..-w35)\n",
      "\t\t\t\tperform N randomized runs and increment -w every M runs\n",
      "\t\t\t\tdefault value for N is 10, default for M is 1\n",
      "\t\t\t\t(use N,N to keep -w fixed for all runs)\n",
      "\t\t\t\t(add -w to see which commands will be executed)\n",
      "\t\t\t\t(add -W if ./pan exists and need not be recompiled)\n",
      "\t\t    -swarmN,M like -biterate, but running all iterations in parallel\n",
      "\t\t    -link file.c  link executable pan to file.c\n",
      "\t\t    -collapse\tuse collapse state compression\n",
      "\t\t    -noreduce\tdo not use partial order reduction\n",
      "\t\t    -hc  \tuse hash-compact storage\n",
      "\t\t    -noclaim\tignore all ltl and never claims\n",
      "\t\t    -p_permute\tuse process scheduling order random permutation\n",
      "\t\t    -p_rotateN\tuse process scheduling order rotation by N\n",
      "\t\t    -p_reverse\tuse process scheduling order reversal\n",
      "\t\t    -rhash      randomly pick one of the -p_... options\n",
      "\t\t    -ltl p\tverify the ltl property named p\n",
      "\t\t    -safety\tcompile for safety properties only\n",
      "\t\t    -i\t    \tuse the dfs iterative shortening algorithm\n",
      "\t\t    -a\t    \tsearch for acceptance cycles\n",
      "\t\t    -l\t    \tsearch for non-progress cycles\n",
      "\t\tsimilarly, a -D... parameter can be specified to modify the compilation\n",
      "\t\tand any valid runtime pan argument can be specified for the verification\n",
      "\t-S1 and -S2 separate pan source for claim and model\n",
      "\t-s print send events\n",
      "\t-T do not indent printf output\n",
      "\t-t[N] follow [Nth] simulation trail, see also -k\n",
      "\t-Uyyy pass -Uyyy to the preprocessor\n",
      "\t-uN stop a simulation run after N steps\n",
      "\t-v verbose, more warnings\n",
      "\t-w very verbose (when combined with -l or -g)\n",
      "\t-[XYZ] reserved for use by xspin interface\n",
      "\t-V print version number and exit\n"
     ]
    }
   ],
   "source": [
    "!spin --help"
   ]
  },
  {
   "cell_type": "markdown",
   "metadata": {},
   "source": [
    "# Book PSMC: Principles of the Spin Model Checker\n",
    "\n",
    "convention:\n",
    "- SMC: Gerard J. Holzmann. The Spin Model Checker: Primer and Reference Manual. Addison-Wesley, Reading, MA, 2004.\n",
    "- MLCS: Mordechai Ben-Ari. Mathematical Logic for Computer Science (Second Edition). Springer, London, 2001.\n",
    "- PCDP: M. Ben-Ari. Principles of Concurrent and Distributed Programming (Second Edition). Addison-Wesley, Harlow, UK, 2006."
   ]
  },
  {
   "cell_type": "markdown",
   "metadata": {},
   "source": [
    "| #   | Title                               | Progress | Description |\n",
    "| :-- | :---------------------------------- | :------- | :---------- |\n",
    "| 1   | Sequential Programming in PROMELA   | 100%     | 2022-12-21  |\n",
    "| 2   | Verification of Sequential Programs | 100%     | 2022-12-22  |\n",
    "| 3   | Concurrency                         | 100%     | 2022-12-26  |\n",
    "| 4   | Synchronization                     | 100%     | 2022-12-27  |\n",
    "| 5   | Verification with Temporal Logic    | 100%     | 2022-12-28  |\n",
    "| 6   | Data and Program Structures         | 100%     | 2022-12-28  |\n",
    "| 7   | Channels                            | 100%     | 2022-12-28  |\n",
    "| 8   | Nondeterminism                      | 100%     | 2022-12-28  |\n",
    "| 9   | Advanced Topics in PROMELA          | 100%     | 2022-12-29  |\n",
    "| 10  | Advanced Topics in SPIN             | 100%     | 2022-12-29  |\n",
    "| 11  | Case Studies                        | xxx%     | yyyy-mm-dd  |"
   ]
  },
  {
   "cell_type": "code",
   "execution_count": 15,
   "metadata": {},
   "outputs": [
    {
     "name": "stdout",
     "output_type": "stream",
     "text": [
      "/mnt/d/GoogleDrive/wiki/jupyter-notebooks/Modeling/SPIN/PSMC\n"
     ]
    }
   ],
   "source": [
    "%cd /mnt/d/GoogleDrive/wiki/jupyter-notebooks/Modeling/SPIN/PSMC"
   ]
  },
  {
   "cell_type": "markdown",
   "metadata": {},
   "source": [
    "##  1. Sequential Programming in PROMELA"
   ]
  },
  {
   "cell_type": "code",
   "execution_count": 24,
   "metadata": {},
   "outputs": [
    {
     "name": "stdout",
     "output_type": "stream",
     "text": [
      "/mnt/d/GoogleDrive/wiki/jupyter-notebooks/Modeling/SPIN/PSMC/ch01\n"
     ]
    }
   ],
   "source": [
    "%cd /mnt/d/GoogleDrive/wiki/jupyter-notebooks/Modeling/SPIN/PSMC/ch01"
   ]
  },
  {
   "cell_type": "markdown",
   "metadata": {},
   "source": [
    "SPIN是一个模型检测器(model checker): 一个验证物理系统, 特别是计算机系统的软件工具.\n",
    "\n",
    "1. 编写描述系统行为的模型\n",
    "2. 描述表达系统行为需求的正确性属性(correctness properties)\n",
    "3. 运行模型检测器以检查模型是否保持正确性属性, 如果不保持, 提供反例(counterexample): 不满足正确性属性的计算(computation)."
   ]
  },
  {
   "cell_type": "markdown",
   "metadata": {},
   "source": [
    "Listing 1.1. Reversing digits\n",
    "\n",
    "构造: \n",
    "- 赋值语句\n",
    "- 表达式\n",
    "- 进程: active proctype\n",
    "- 注释 /* */, //\n",
    "- printf"
   ]
  },
  {
   "cell_type": "markdown",
   "metadata": {},
   "source": [
    "模拟模式(simulation mode): SPIN编译和执行PROMELA程序.\n",
    "\n",
    "- 限制模拟运行的步数: spin -uN\n",
    "- 过滤输出: jSPIN MSC配置\n",
    "- Promela输入: STDIN channel"
   ]
  },
  {
   "cell_type": "code",
   "execution_count": 25,
   "metadata": {},
   "outputs": [
    {
     "name": "stdout",
     "output_type": "stream",
     "text": [
      "      value = 123,reversed = 321\n",
      "1 process created\n"
     ]
    }
   ],
   "source": [
    "!spin reversing_digits.pml"
   ]
  },
  {
   "cell_type": "markdown",
   "metadata": {},
   "source": [
    "数值数据类型: bit, bool, byte, short, int, unsigned\n",
    "- 尽量使用较少位的类型, 以避免验证中状态数量爆炸.\n",
    "\n",
    "没有: 字符类型, 字符串变量, 浮点数类型\n",
    "\n",
    "没有: 显式类型转换\n",
    "- 算术先隐式转换成int, 赋值时再隐式转换成变量的类型."
   ]
  },
  {
   "cell_type": "markdown",
   "metadata": {},
   "source": [
    "操作符\n",
    "\n",
    "\n",
    "Table 1.2. Operators in Promela\n",
    "\n",
    "```\n",
    "Precedence Operator Associativity Name\n",
    "14 () left parentheses\n",
    "14 [ ] left array indexing\n",
    "14 . left field selection\n",
    "13 ! right logical negation\n",
    "13 ~ right bitwise complementation\n",
    "13 ++, -- right increment, decrement\n",
    "12 *, /, % left multiplication, division, modulo\n",
    "11 +, - left addition, subtraction\n",
    "10 <<, >> left left and right bitwise shift\n",
    "9 <, <=, >, >= left arithmetic relational operators\n",
    "8 ==, != left equality, inequality\n",
    "7 & left bitwise and\n",
    "6 ^ left bitwise exclusive or\n",
    "5 | left bitwise inclusive or\n",
    "4 && left logical and\n",
    "3 || left logical or\n",
    "2 ( -> : ) right conditional expression\n",
    "1 = right assignment\n",
    "```\n",
    "\n",
    "表达式\n",
    "- PROMELA中表达式必须是无副作用的.\n",
    "- PROMELA与C语言的差异\n",
    "  - 赋值语句不是表达式\n",
    "  - `++`, `--`在赋值语句中只能用作后缀操作符, 不能用在赋值语句右侧的表达式中\n",
    "  - 没有前缀`++`, `--`\n",
    "\n",
    "```promela\n",
    "b++ // ok\n",
    "\n",
    "a = b++ // error\n",
    "```\n",
    "\n",
    "局部变量: \n",
    "- 作用域是其声明的进程\n",
    "- 所有局部变量声明隐式的移动到进程的开始处\n",
    "\n",
    "符号名:\n",
    "- `#define N 10`: 数值的符号\n",
    "- `mtype`: 值的助记名\n",
    "  - 使用`%e`格式描述符/`printm`输出, 出现在程序的trace中\n",
    "  - 一个程序中只有唯一的一组名称\n"
   ]
  },
  {
   "cell_type": "markdown",
   "metadata": {},
   "source": [
    "控制语句:\n",
    "- guarded commands: 表达不确定性\n",
    "- location counter: 记录下一个执行的指令地址的寄存器\n",
    "- control point: 控制点, 指令的地址\n",
    "- 分类:\n",
    "  * sequence: 顺序, 使用`;`分隔\n",
    "  * selection: 选择\n",
    "  * repetition: 重复\n",
    "  * jump 跳转\n",
    "  * `unless`\n",
    "\n",
    "\n",
    "选择语句:\n",
    "- `if`: `:: <guard> -> <statements>`\n",
    " - `<guard>`和`<statements>`之间可能存在interleaving(交错)\n",
    " - `else`: 所有其他`<guard>`求值为false时才执行\n",
    " - 所有`<guard>`求值为false时, 进程阻塞直到某个`<guard>`求值为true.\n",
    " - `skip`: `<statements>`为空\n",
    "- conditional expression: `max = (a > b -> a : b)`\n",
    "  - 必须有`()`, 该赋值是原子语句 \n",
    "\n",
    "\n",
    "重复语句:\n",
    "- `do`: 与`if`类似\n",
    "  - `break`L 结束循环\n",
    "\n",
    "宏: 见6.3.2节\n",
    "\n",
    "跳转语句:\n",
    "- `goto`"
   ]
  },
  {
   "cell_type": "markdown",
   "metadata": {},
   "source": [
    "##  2. Verification of Sequential Programs"
   ]
  },
  {
   "cell_type": "code",
   "execution_count": 26,
   "metadata": {},
   "outputs": [
    {
     "name": "stdout",
     "output_type": "stream",
     "text": [
      "/mnt/d/GoogleDrive/wiki/jupyter-notebooks/Modeling/SPIN/PSMC/ch02\n"
     ]
    }
   ],
   "source": [
    "%cd /mnt/d/GoogleDrive/wiki/jupyter-notebooks/Modeling/SPIN/PSMC/ch02"
   ]
  },
  {
   "cell_type": "markdown",
   "metadata": {},
   "source": [
    "- 程序的状态state: 变量的值, location counter\n",
    "- 程序的计算computation:\n",
    "- 程序的状态空间state space\n",
    "\n",
    "断言assertion\n",
    "- `assert`\n",
    "- precondition, invariant, postcondition"
   ]
  },
  {
   "cell_type": "markdown",
   "metadata": {},
   "source": [
    "SPIN验证步骤:\n",
    "- 从PROMELA源码生成验证器源码(C语言): `spin -a xxx.pml`\n",
    "- 编译验证器 `pan`\n",
    "- 执行验证器, 生成报告(错误时生成踪迹文件)\n",
    "\n",
    "\n",
    "`pan`的参数:\n",
    "- `-e`: 创建所有错误的踪迹(trail)\n",
    "- `-cN`: 在第N次错误时停止. `-c0`忽略所有错误不产生踪迹文件.\n",
    "\n",
    "踪迹文件: SPIN的guided模拟模式运行以重构计算\n",
    "- `spin -t xxx.pml`\n",
    "\n",
    "SPIN显示模拟中数据:\n",
    "- `-p`: statements, 进程执行的语句\n",
    "- `-g`: globals, 全局变量的值\n",
    "- `-l`: locals, 局部变量的值\n",
    "- `-s`: send, channel中执行的发送指令\n",
    "- `-r`: receive, channel中执行的接收指令"
   ]
  },
  {
   "cell_type": "code",
   "execution_count": null,
   "metadata": {},
   "outputs": [
    {
     "name": "stdout",
     "output_type": "stream",
     "text": [
      "pan:1: assertion violated ( ((a>=b)) ? ((max==a)) : ((max==b)) ) (at depth 0)\n",
      "pan: wrote max-error.pml.trail\n",
      "\n",
      "(Spin Version 6.5.1 -- 20 December 2019)\n",
      "Warning: Search not completed\n",
      "\t+ Partial Order Reduction\n",
      "\n",
      "Full statespace search for:\n",
      "\tnever claim         \t- (none specified)\n",
      "\tassertion violations\t+\n",
      "\tacceptance   cycles \t- (not selected)\n",
      "\tinvalid end states\t+\n",
      "\n",
      "State-vector 24 byte, depth reached 2, errors: 1\n",
      "        3 states, stored\n",
      "        0 states, matched\n",
      "        3 transitions (= stored+matched)\n",
      "        0 atomic steps\n",
      "hash conflicts:         0 (resolved)\n",
      "\n",
      "Stats on memory usage (in Megabytes):\n",
      "    0.000\tequivalent memory usage for states (stored*(State-vector + overhead))\n",
      "    0.292\tactual memory usage for states\n",
      "  128.000\tmemory used for hash table (-w24)\n",
      "    0.534\tmemory used for DFS stack (-m10000)\n",
      "  128.730\ttotal actual memory usage\n",
      "\n",
      "\n",
      "\n",
      "pan: elapsed time 0.01 seconds\n"
     ]
    }
   ],
   "source": [
    "!spin -a max-error.pml\n",
    "# -w: disable warnning message\n",
    "!gcc -w -o pan pan.c\n",
    "!./pan"
   ]
  },
  {
   "cell_type": "code",
   "execution_count": null,
   "metadata": {},
   "outputs": [
    {
     "name": "stdout",
     "output_type": "stream",
     "text": [
      "\u001b[01m\u001b[Kpan.c:\u001b[m\u001b[K In function ‘\u001b[01m\u001b[Kmake_trail\u001b[m\u001b[K’:\n",
      "\u001b[01m\u001b[Kpan.c:1891:33:\u001b[m\u001b[K \u001b[01;35m\u001b[Kwarning: \u001b[m\u001b[K‘\u001b[01m\u001b[K%d\u001b[m\u001b[K’ directive writing between 1 and 10 bytes into a region of size between 1 and 512 [\u001b[01;35m\u001b[K\u001b]8;;https://gcc.gnu.org/onlinedocs/gcc/Warning-Options.html#index-Wformat-overflow=\u0007-Wformat-overflow=\u001b]8;;\u0007\u001b[m\u001b[K]\n",
      " 1891 |                 sprintf(fnm, \"%s\u001b[01;35m\u001b[K%d\u001b[m\u001b[K.%s\",\n",
      "      |                                 \u001b[01;35m\u001b[K^~\u001b[m\u001b[K\n",
      "\u001b[01m\u001b[Kpan.c:1891:30:\u001b[m\u001b[K \u001b[01;36m\u001b[Knote: \u001b[m\u001b[Kdirective argument in the range [1, 2147483647]\n",
      " 1891 |                 sprintf(fnm, \u001b[01;36m\u001b[K\"%s%d.%s\"\u001b[m\u001b[K,\n",
      "      |                              \u001b[01;36m\u001b[K^~~~~~~~~\u001b[m\u001b[K\n",
      "In file included from \u001b[01m\u001b[K/usr/include/stdio.h:894\u001b[m\u001b[K,\n",
      "                 from \u001b[01m\u001b[Kpan.c:7\u001b[m\u001b[K:\n",
      "\u001b[01m\u001b[K/usr/include/x86_64-linux-gnu/bits/stdio2.h:38:10:\u001b[m\u001b[K \u001b[01;36m\u001b[Knote: \u001b[m\u001b[K‘\u001b[01m\u001b[K__builtin___sprintf_chk\u001b[m\u001b[K’ output 3 or more bytes (assuming 523) into a destination of size 512\n",
      "   38 |   return \u001b[01;36m\u001b[K__builtin___sprintf_chk (__s, __USE_FORTIFY_LEVEL - 1,\u001b[m\u001b[K\n",
      "      |          \u001b[01;36m\u001b[K^~~~~~~~~~~~~~~~~~~~~~~~~~~~~~~~~~~~~~~~~~~~~~~~~~~~~~\u001b[m\u001b[K\n",
      "   39 | \u001b[01;36m\u001b[K                                  __glibc_objsize (__s), __fmt,\u001b[m\u001b[K\n",
      "      |                                   \u001b[01;36m\u001b[K~~~~~~~~~~~~~~~~~~~~~~~~~~~~~\u001b[m\u001b[K\n",
      "   40 | \u001b[01;36m\u001b[K                                  __va_arg_pack ())\u001b[m\u001b[K;\n",
      "      |                                   \u001b[01;36m\u001b[K~~~~~~~~~~~~~~~~~\u001b[m\u001b[K\n",
      "\u001b[01m\u001b[Kpan.c:1899:36:\u001b[m\u001b[K \u001b[01;35m\u001b[Kwarning: \u001b[m\u001b[K‘\u001b[01m\u001b[K__builtin___sprintf_chk\u001b[m\u001b[K’ may write a terminating nul past the end of the destination [\u001b[01;35m\u001b[K\u001b]8;;https://gcc.gnu.org/onlinedocs/gcc/Warning-Options.html#index-Wformat-overflow=\u0007-Wformat-overflow=\u001b]8;;\u0007\u001b[m\u001b[K]\n",
      " 1899 |                 sprintf(fnm, \"%s.%s\u001b[01;35m\u001b[K\"\u001b[m\u001b[K, MyFile, tprefix);\n",
      "      |                                    \u001b[01;35m\u001b[K^\u001b[m\u001b[K\n",
      "In file included from \u001b[01m\u001b[K/usr/include/stdio.h:894\u001b[m\u001b[K,\n",
      "                 from \u001b[01m\u001b[Kpan.c:7\u001b[m\u001b[K:\n",
      "\u001b[01m\u001b[K/usr/include/x86_64-linux-gnu/bits/stdio2.h:38:10:\u001b[m\u001b[K \u001b[01;36m\u001b[Knote: \u001b[m\u001b[K‘\u001b[01m\u001b[K__builtin___sprintf_chk\u001b[m\u001b[K’ output 2 or more bytes (assuming 513) into a destination of size 512\n",
      "   38 |   return \u001b[01;36m\u001b[K__builtin___sprintf_chk (__s, __USE_FORTIFY_LEVEL - 1,\u001b[m\u001b[K\n",
      "      |          \u001b[01;36m\u001b[K^~~~~~~~~~~~~~~~~~~~~~~~~~~~~~~~~~~~~~~~~~~~~~~~~~~~~~\u001b[m\u001b[K\n",
      "   39 | \u001b[01;36m\u001b[K                                  __glibc_objsize (__s), __fmt,\u001b[m\u001b[K\n",
      "      |                                   \u001b[01;36m\u001b[K~~~~~~~~~~~~~~~~~~~~~~~~~~~~~\u001b[m\u001b[K\n",
      "   40 | \u001b[01;36m\u001b[K                                  __va_arg_pack ())\u001b[m\u001b[K;\n",
      "      |                                   \u001b[01;36m\u001b[K~~~~~~~~~~~~~~~~~\u001b[m\u001b[K\n",
      "\u001b[01m\u001b[Kpan.c:1906:49:\u001b[m\u001b[K \u001b[01;35m\u001b[Kwarning: \u001b[m\u001b[K‘\u001b[01m\u001b[K%d\u001b[m\u001b[K’ directive writing between 1 and 10 bytes into a region of size between 1 and 512 [\u001b[01;35m\u001b[K\u001b]8;;https://gcc.gnu.org/onlinedocs/gcc/Warning-Options.html#index-Wformat-overflow=\u0007-Wformat-overflow=\u001b]8;;\u0007\u001b[m\u001b[K]\n",
      " 1906 |                                 sprintf(fnm, \"%s\u001b[01;35m\u001b[K%d\u001b[m\u001b[K.%s\",\n",
      "      |                                                 \u001b[01;35m\u001b[K^~\u001b[m\u001b[K\n",
      "\u001b[01m\u001b[Kpan.c:1906:46:\u001b[m\u001b[K \u001b[01;36m\u001b[Knote: \u001b[m\u001b[Kdirective argument in the range [1, 2147483646]\n",
      " 1906 |                                 sprintf(fnm, \u001b[01;36m\u001b[K\"%s%d.%s\"\u001b[m\u001b[K,\n",
      "      |                                              \u001b[01;36m\u001b[K^~~~~~~~~\u001b[m\u001b[K\n",
      "In file included from \u001b[01m\u001b[K/usr/include/stdio.h:894\u001b[m\u001b[K,\n",
      "                 from \u001b[01m\u001b[Kpan.c:7\u001b[m\u001b[K:\n",
      "\u001b[01m\u001b[K/usr/include/x86_64-linux-gnu/bits/stdio2.h:38:10:\u001b[m\u001b[K \u001b[01;36m\u001b[Knote: \u001b[m\u001b[K‘\u001b[01m\u001b[K__builtin___sprintf_chk\u001b[m\u001b[K’ output 3 or more bytes (assuming 523) into a destination of size 512\n",
      "   38 |   return \u001b[01;36m\u001b[K__builtin___sprintf_chk (__s, __USE_FORTIFY_LEVEL - 1,\u001b[m\u001b[K\n",
      "      |          \u001b[01;36m\u001b[K^~~~~~~~~~~~~~~~~~~~~~~~~~~~~~~~~~~~~~~~~~~~~~~~~~~~~~\u001b[m\u001b[K\n",
      "   39 | \u001b[01;36m\u001b[K                                  __glibc_objsize (__s), __fmt,\u001b[m\u001b[K\n",
      "      |                                   \u001b[01;36m\u001b[K~~~~~~~~~~~~~~~~~~~~~~~~~~~~~\u001b[m\u001b[K\n",
      "   40 | \u001b[01;36m\u001b[K                                  __va_arg_pack ())\u001b[m\u001b[K;\n",
      "      |                                   \u001b[01;36m\u001b[K~~~~~~~~~~~~~~~~~\u001b[m\u001b[K\n",
      "\u001b[01m\u001b[Kpan.c:1909:52:\u001b[m\u001b[K \u001b[01;35m\u001b[Kwarning: \u001b[m\u001b[K‘\u001b[01m\u001b[K__builtin___sprintf_chk\u001b[m\u001b[K’ may write a terminating nul past the end of the destination [\u001b[01;35m\u001b[K\u001b]8;;https://gcc.gnu.org/onlinedocs/gcc/Warning-Options.html#index-Wformat-overflow=\u0007-Wformat-overflow=\u001b]8;;\u0007\u001b[m\u001b[K]\n",
      " 1909 |                                 sprintf(fnm, \"%s.%s\u001b[01;35m\u001b[K\"\u001b[m\u001b[K, MyFile, tprefix);\n",
      "      |                                                    \u001b[01;35m\u001b[K^\u001b[m\u001b[K\n",
      "In file included from \u001b[01m\u001b[K/usr/include/stdio.h:894\u001b[m\u001b[K,\n",
      "                 from \u001b[01m\u001b[Kpan.c:7\u001b[m\u001b[K:\n",
      "\u001b[01m\u001b[K/usr/include/x86_64-linux-gnu/bits/stdio2.h:38:10:\u001b[m\u001b[K \u001b[01;36m\u001b[Knote: \u001b[m\u001b[K‘\u001b[01m\u001b[K__builtin___sprintf_chk\u001b[m\u001b[K’ output 2 or more bytes (assuming 513) into a destination of size 512\n",
      "   38 |   return \u001b[01;36m\u001b[K__builtin___sprintf_chk (__s, __USE_FORTIFY_LEVEL - 1,\u001b[m\u001b[K\n",
      "      |          \u001b[01;36m\u001b[K^~~~~~~~~~~~~~~~~~~~~~~~~~~~~~~~~~~~~~~~~~~~~~~~~~~~~~\u001b[m\u001b[K\n",
      "   39 | \u001b[01;36m\u001b[K                                  __glibc_objsize (__s), __fmt,\u001b[m\u001b[K\n",
      "      |                                   \u001b[01;36m\u001b[K~~~~~~~~~~~~~~~~~~~~~~~~~~~~~\u001b[m\u001b[K\n",
      "   40 | \u001b[01;36m\u001b[K                                  __va_arg_pack ())\u001b[m\u001b[K;\n",
      "      |                                   \u001b[01;36m\u001b[K~~~~~~~~~~~~~~~~~\u001b[m\u001b[K\n",
      "\u001b[01m\u001b[Kpan.c:\u001b[m\u001b[K In function ‘\u001b[01m\u001b[Kfindtrail\u001b[m\u001b[K’:\n",
      "\u001b[01m\u001b[Kpan.c:1495:42:\u001b[m\u001b[K \u001b[01;35m\u001b[Kwarning: \u001b[m\u001b[K‘\u001b[01m\u001b[K%s\u001b[m\u001b[K’ directive writing 5 bytes into a region of size between 0 and 511 [\u001b[01;35m\u001b[K\u001b]8;;https://gcc.gnu.org/onlinedocs/gcc/Warning-Options.html#index-Wformat-overflow=\u0007-Wformat-overflow=\u001b]8;;\u0007\u001b[m\u001b[K]\n",
      " 1467 |         tprefix = \u001b[32m\u001b[K\"trail\"\u001b[m\u001b[K;\n",
      "      |                   \u001b[32m\u001b[K~~~~~~~\u001b[m\u001b[K                 \n",
      "......\n",
      " 1495 |                 {       sprintf(fnm, \"%s.\u001b[01;35m\u001b[K%s\u001b[m\u001b[K\", MyFile, tprefix);\n",
      "      |                                          \u001b[01;35m\u001b[K^~\u001b[m\u001b[K\n",
      "In file included from \u001b[01m\u001b[K/usr/include/stdio.h:894\u001b[m\u001b[K,\n",
      "                 from \u001b[01m\u001b[Kpan.c:7\u001b[m\u001b[K:\n",
      "\u001b[01m\u001b[K/usr/include/x86_64-linux-gnu/bits/stdio2.h:38:10:\u001b[m\u001b[K \u001b[01;36m\u001b[Knote: \u001b[m\u001b[K‘\u001b[01m\u001b[K__builtin___sprintf_chk\u001b[m\u001b[K’ output between 7 and 518 bytes into a destination of size 512\n",
      "   38 |   return \u001b[01;36m\u001b[K__builtin___sprintf_chk (__s, __USE_FORTIFY_LEVEL - 1,\u001b[m\u001b[K\n",
      "      |          \u001b[01;36m\u001b[K^~~~~~~~~~~~~~~~~~~~~~~~~~~~~~~~~~~~~~~~~~~~~~~~~~~~~~\u001b[m\u001b[K\n",
      "   39 | \u001b[01;36m\u001b[K                                  __glibc_objsize (__s), __fmt,\u001b[m\u001b[K\n",
      "      |                                   \u001b[01;36m\u001b[K~~~~~~~~~~~~~~~~~~~~~~~~~~~~~\u001b[m\u001b[K\n",
      "   40 | \u001b[01;36m\u001b[K                                  __va_arg_pack ())\u001b[m\u001b[K;\n",
      "      |                                   \u001b[01;36m\u001b[K~~~~~~~~~~~~~~~~~\u001b[m\u001b[K\n",
      "\u001b[01m\u001b[Kpan.c:1506:52:\u001b[m\u001b[K \u001b[01;35m\u001b[Kwarning: \u001b[m\u001b[K‘\u001b[01m\u001b[K__builtin___sprintf_chk\u001b[m\u001b[K’ may write a terminating nul past the end of the destination [\u001b[01;35m\u001b[K\u001b]8;;https://gcc.gnu.org/onlinedocs/gcc/Warning-Options.html#index-Wformat-overflow=\u0007-Wformat-overflow=\u001b]8;;\u0007\u001b[m\u001b[K]\n",
      " 1506 |                                 sprintf(fnm, \"%s.%s\u001b[01;35m\u001b[K\"\u001b[m\u001b[K, MyFile, tprefix);\n",
      "      |                                                    \u001b[01;35m\u001b[K^\u001b[m\u001b[K\n",
      "In file included from \u001b[01m\u001b[K/usr/include/stdio.h:894\u001b[m\u001b[K,\n",
      "                 from \u001b[01m\u001b[Kpan.c:7\u001b[m\u001b[K:\n",
      "\u001b[01m\u001b[K/usr/include/x86_64-linux-gnu/bits/stdio2.h:38:10:\u001b[m\u001b[K \u001b[01;36m\u001b[Knote: \u001b[m\u001b[K‘\u001b[01m\u001b[K__builtin___sprintf_chk\u001b[m\u001b[K’ output 2 or more bytes (assuming 513) into a destination of size 512\n",
      "   38 |   return \u001b[01;36m\u001b[K__builtin___sprintf_chk (__s, __USE_FORTIFY_LEVEL - 1,\u001b[m\u001b[K\n",
      "      |          \u001b[01;36m\u001b[K^~~~~~~~~~~~~~~~~~~~~~~~~~~~~~~~~~~~~~~~~~~~~~~~~~~~~~\u001b[m\u001b[K\n",
      "   39 | \u001b[01;36m\u001b[K                                  __glibc_objsize (__s), __fmt,\u001b[m\u001b[K\n",
      "      |                                   \u001b[01;36m\u001b[K~~~~~~~~~~~~~~~~~~~~~~~~~~~~~\u001b[m\u001b[K\n",
      "   40 | \u001b[01;36m\u001b[K                                  __va_arg_pack ())\u001b[m\u001b[K;\n",
      "      |                                   \u001b[01;36m\u001b[K~~~~~~~~~~~~~~~~~\u001b[m\u001b[K\n",
      "\u001b[01m\u001b[Kpan.c:1506:52:\u001b[m\u001b[K \u001b[01;35m\u001b[Kwarning: \u001b[m\u001b[K‘\u001b[01m\u001b[K__builtin___sprintf_chk\u001b[m\u001b[K’ may write a terminating nul past the end of the destination [\u001b[01;35m\u001b[K\u001b]8;;https://gcc.gnu.org/onlinedocs/gcc/Warning-Options.html#index-Wformat-overflow=\u0007-Wformat-overflow=\u001b]8;;\u0007\u001b[m\u001b[K]\n",
      " 1506 |                                 sprintf(fnm, \"%s.%s\u001b[01;35m\u001b[K\"\u001b[m\u001b[K, MyFile, tprefix);\n",
      "      |                                                    \u001b[01;35m\u001b[K^\u001b[m\u001b[K\n",
      "In file included from \u001b[01m\u001b[K/usr/include/stdio.h:894\u001b[m\u001b[K,\n",
      "                 from \u001b[01m\u001b[Kpan.c:7\u001b[m\u001b[K:\n",
      "\u001b[01m\u001b[K/usr/include/x86_64-linux-gnu/bits/stdio2.h:38:10:\u001b[m\u001b[K \u001b[01;36m\u001b[Knote: \u001b[m\u001b[K‘\u001b[01m\u001b[K__builtin___sprintf_chk\u001b[m\u001b[K’ output 2 or more bytes (assuming 513) into a destination of size 512\n",
      "   38 |   return \u001b[01;36m\u001b[K__builtin___sprintf_chk (__s, __USE_FORTIFY_LEVEL - 1,\u001b[m\u001b[K\n",
      "      |          \u001b[01;36m\u001b[K^~~~~~~~~~~~~~~~~~~~~~~~~~~~~~~~~~~~~~~~~~~~~~~~~~~~~~\u001b[m\u001b[K\n",
      "   39 | \u001b[01;36m\u001b[K                                  __glibc_objsize (__s), __fmt,\u001b[m\u001b[K\n",
      "      |                                   \u001b[01;36m\u001b[K~~~~~~~~~~~~~~~~~~~~~~~~~~~~~\u001b[m\u001b[K\n",
      "   40 | \u001b[01;36m\u001b[K                                  __va_arg_pack ())\u001b[m\u001b[K;\n",
      "      |                                   \u001b[01;36m\u001b[K~~~~~~~~~~~~~~~~~\u001b[m\u001b[K\n",
      "\u001b[01m\u001b[Kpan.c:1471:43:\u001b[m\u001b[K \u001b[01;35m\u001b[Kwarning: \u001b[m\u001b[K‘\u001b[01m\u001b[K.\u001b[m\u001b[K’ directive writing 1 byte into a region of size between 0 and 511 [\u001b[01;35m\u001b[K\u001b]8;;https://gcc.gnu.org/onlinedocs/gcc/Warning-Options.html#index-Wformat-overflow=\u0007-Wformat-overflow=\u001b]8;;\u0007\u001b[m\u001b[K]\n",
      " 1471 |                 {       sprintf(fnm, \"%s%d\u001b[01;35m\u001b[K.\u001b[m\u001b[K%s\",\n",
      "      |                                           \u001b[01;35m\u001b[K^\u001b[m\u001b[K\n",
      "In file included from \u001b[01m\u001b[K/usr/include/stdio.h:894\u001b[m\u001b[K,\n",
      "                 from \u001b[01m\u001b[Kpan.c:7\u001b[m\u001b[K:\n",
      "\u001b[01m\u001b[K/usr/include/x86_64-linux-gnu/bits/stdio2.h:38:10:\u001b[m\u001b[K \u001b[01;36m\u001b[Knote: \u001b[m\u001b[K‘\u001b[01m\u001b[K__builtin___sprintf_chk\u001b[m\u001b[K’ output between 8 and 529 bytes into a destination of size 512\n",
      "   38 |   return \u001b[01;36m\u001b[K__builtin___sprintf_chk (__s, __USE_FORTIFY_LEVEL - 1,\u001b[m\u001b[K\n",
      "      |          \u001b[01;36m\u001b[K^~~~~~~~~~~~~~~~~~~~~~~~~~~~~~~~~~~~~~~~~~~~~~~~~~~~~~\u001b[m\u001b[K\n",
      "   39 | \u001b[01;36m\u001b[K                                  __glibc_objsize (__s), __fmt,\u001b[m\u001b[K\n",
      "      |                                   \u001b[01;36m\u001b[K~~~~~~~~~~~~~~~~~~~~~~~~~~~~~\u001b[m\u001b[K\n",
      "   40 | \u001b[01;36m\u001b[K                                  __va_arg_pack ())\u001b[m\u001b[K;\n",
      "      |                                   \u001b[01;36m\u001b[K~~~~~~~~~~~~~~~~~\u001b[m\u001b[K\n",
      "\u001b[01m\u001b[Kpan.c:1483:51:\u001b[m\u001b[K \u001b[01;35m\u001b[Kwarning: \u001b[m\u001b[K‘\u001b[01m\u001b[K.\u001b[m\u001b[K’ directive writing 1 byte into a region of size between 0 and 511 [\u001b[01;35m\u001b[K\u001b]8;;https://gcc.gnu.org/onlinedocs/gcc/Warning-Options.html#index-Wformat-overflow=\u0007-Wformat-overflow=\u001b]8;;\u0007\u001b[m\u001b[K]\n",
      " 1483 |                                 sprintf(fnm, \"%s%d\u001b[01;35m\u001b[K.\u001b[m\u001b[K%s\",\n",
      "      |                                                   \u001b[01;35m\u001b[K^\u001b[m\u001b[K\n",
      "In file included from \u001b[01m\u001b[K/usr/include/stdio.h:894\u001b[m\u001b[K,\n",
      "                 from \u001b[01m\u001b[Kpan.c:7\u001b[m\u001b[K:\n",
      "\u001b[01m\u001b[K/usr/include/x86_64-linux-gnu/bits/stdio2.h:38:10:\u001b[m\u001b[K \u001b[01;36m\u001b[Knote: \u001b[m\u001b[K‘\u001b[01m\u001b[K__builtin___sprintf_chk\u001b[m\u001b[K’ output 3 or more bytes (assuming 514) into a destination of size 512\n",
      "   38 |   return \u001b[01;36m\u001b[K__builtin___sprintf_chk (__s, __USE_FORTIFY_LEVEL - 1,\u001b[m\u001b[K\n",
      "      |          \u001b[01;36m\u001b[K^~~~~~~~~~~~~~~~~~~~~~~~~~~~~~~~~~~~~~~~~~~~~~~~~~~~~~\u001b[m\u001b[K\n",
      "   39 | \u001b[01;36m\u001b[K                                  __glibc_objsize (__s), __fmt,\u001b[m\u001b[K\n",
      "      |                                   \u001b[01;36m\u001b[K~~~~~~~~~~~~~~~~~~~~~~~~~~~~~\u001b[m\u001b[K\n",
      "   40 | \u001b[01;36m\u001b[K                                  __va_arg_pack ())\u001b[m\u001b[K;\n",
      "      |                                   \u001b[01;36m\u001b[K~~~~~~~~~~~~~~~~~\u001b[m\u001b[K\n",
      "\u001b[01m\u001b[Kpan.c:1483:51:\u001b[m\u001b[K \u001b[01;35m\u001b[Kwarning: \u001b[m\u001b[K‘\u001b[01m\u001b[K.\u001b[m\u001b[K’ directive writing 1 byte into a region of size between 0 and 511 [\u001b[01;35m\u001b[K\u001b]8;;https://gcc.gnu.org/onlinedocs/gcc/Warning-Options.html#index-Wformat-overflow=\u0007-Wformat-overflow=\u001b]8;;\u0007\u001b[m\u001b[K]\n",
      " 1483 |                                 sprintf(fnm, \"%s%d\u001b[01;35m\u001b[K.\u001b[m\u001b[K%s\",\n",
      "      |                                                   \u001b[01;35m\u001b[K^\u001b[m\u001b[K\n",
      "In file included from \u001b[01m\u001b[K/usr/include/stdio.h:894\u001b[m\u001b[K,\n",
      "                 from \u001b[01m\u001b[Kpan.c:7\u001b[m\u001b[K:\n",
      "\u001b[01m\u001b[K/usr/include/x86_64-linux-gnu/bits/stdio2.h:38:10:\u001b[m\u001b[K \u001b[01;36m\u001b[Knote: \u001b[m\u001b[K‘\u001b[01m\u001b[K__builtin___sprintf_chk\u001b[m\u001b[K’ output 3 or more bytes (assuming 514) into a destination of size 512\n",
      "   38 |   return \u001b[01;36m\u001b[K__builtin___sprintf_chk (__s, __USE_FORTIFY_LEVEL - 1,\u001b[m\u001b[K\n",
      "      |          \u001b[01;36m\u001b[K^~~~~~~~~~~~~~~~~~~~~~~~~~~~~~~~~~~~~~~~~~~~~~~~~~~~~~\u001b[m\u001b[K\n",
      "   39 | \u001b[01;36m\u001b[K                                  __glibc_objsize (__s), __fmt,\u001b[m\u001b[K\n",
      "      |                                   \u001b[01;36m\u001b[K~~~~~~~~~~~~~~~~~~~~~~~~~~~~~\u001b[m\u001b[K\n",
      "   40 | \u001b[01;36m\u001b[K                                  __va_arg_pack ())\u001b[m\u001b[K;\n",
      "      |                                   \u001b[01;36m\u001b[K~~~~~~~~~~~~~~~~~\u001b[m\u001b[K\n",
      "\u001b[01m\u001b[Kpan.c:1545:34:\u001b[m\u001b[K \u001b[01;35m\u001b[Kwarning: \u001b[m\u001b[K‘\u001b[01m\u001b[K%s\u001b[m\u001b[K’ directive writing 5 bytes into a region of size between 0 and 511 [\u001b[01;35m\u001b[K\u001b]8;;https://gcc.gnu.org/onlinedocs/gcc/Warning-Options.html#index-Wformat-overflow=\u0007-Wformat-overflow=\u001b]8;;\u0007\u001b[m\u001b[K]\n",
      " 1532 |         tprefix = \u001b[32m\u001b[K\"trail\"\u001b[m\u001b[K;\n",
      "      |                   \u001b[32m\u001b[K~~~~~~~\u001b[m\u001b[K         \n",
      "......\n",
      " 1545 |         {       sprintf(fnm, \"%s.\u001b[01;35m\u001b[K%s\u001b[m\u001b[K\", MyFile, tprefix);\n",
      "      |                                  \u001b[01;35m\u001b[K^~\u001b[m\u001b[K\n",
      "In file included from \u001b[01m\u001b[K/usr/include/stdio.h:894\u001b[m\u001b[K,\n",
      "                 from \u001b[01m\u001b[Kpan.c:7\u001b[m\u001b[K:\n",
      "\u001b[01m\u001b[K/usr/include/x86_64-linux-gnu/bits/stdio2.h:38:10:\u001b[m\u001b[K \u001b[01;36m\u001b[Knote: \u001b[m\u001b[K‘\u001b[01m\u001b[K__builtin___sprintf_chk\u001b[m\u001b[K’ output between 7 and 518 bytes into a destination of size 512\n",
      "   38 |   return \u001b[01;36m\u001b[K__builtin___sprintf_chk (__s, __USE_FORTIFY_LEVEL - 1,\u001b[m\u001b[K\n",
      "      |          \u001b[01;36m\u001b[K^~~~~~~~~~~~~~~~~~~~~~~~~~~~~~~~~~~~~~~~~~~~~~~~~~~~~~\u001b[m\u001b[K\n",
      "   39 | \u001b[01;36m\u001b[K                                  __glibc_objsize (__s), __fmt,\u001b[m\u001b[K\n",
      "      |                                   \u001b[01;36m\u001b[K~~~~~~~~~~~~~~~~~~~~~~~~~~~~~\u001b[m\u001b[K\n",
      "   40 | \u001b[01;36m\u001b[K                                  __va_arg_pack ())\u001b[m\u001b[K;\n",
      "      |                                   \u001b[01;36m\u001b[K~~~~~~~~~~~~~~~~~\u001b[m\u001b[K\n",
      "\u001b[01m\u001b[Kpan.c:1549:44:\u001b[m\u001b[K \u001b[01;35m\u001b[Kwarning: \u001b[m\u001b[K‘\u001b[01m\u001b[K__builtin___sprintf_chk\u001b[m\u001b[K’ may write a terminating nul past the end of the destination [\u001b[01;35m\u001b[K\u001b]8;;https://gcc.gnu.org/onlinedocs/gcc/Warning-Options.html#index-Wformat-overflow=\u0007-Wformat-overflow=\u001b]8;;\u0007\u001b[m\u001b[K]\n",
      " 1549 |                         sprintf(fnm, \"%s.%s\u001b[01;35m\u001b[K\"\u001b[m\u001b[K, MyFile, tprefix);\n",
      "      |                                            \u001b[01;35m\u001b[K^\u001b[m\u001b[K\n",
      "In file included from \u001b[01m\u001b[K/usr/include/stdio.h:894\u001b[m\u001b[K,\n",
      "                 from \u001b[01m\u001b[Kpan.c:7\u001b[m\u001b[K:\n",
      "\u001b[01m\u001b[K/usr/include/x86_64-linux-gnu/bits/stdio2.h:38:10:\u001b[m\u001b[K \u001b[01;36m\u001b[Knote: \u001b[m\u001b[K‘\u001b[01m\u001b[K__builtin___sprintf_chk\u001b[m\u001b[K’ output 2 or more bytes (assuming 513) into a destination of size 512\n",
      "   38 |   return \u001b[01;36m\u001b[K__builtin___sprintf_chk (__s, __USE_FORTIFY_LEVEL - 1,\u001b[m\u001b[K\n",
      "      |          \u001b[01;36m\u001b[K^~~~~~~~~~~~~~~~~~~~~~~~~~~~~~~~~~~~~~~~~~~~~~~~~~~~~~\u001b[m\u001b[K\n",
      "   39 | \u001b[01;36m\u001b[K                                  __glibc_objsize (__s), __fmt,\u001b[m\u001b[K\n",
      "      |                                   \u001b[01;36m\u001b[K~~~~~~~~~~~~~~~~~~~~~~~~~~~~~\u001b[m\u001b[K\n",
      "   40 | \u001b[01;36m\u001b[K                                  __va_arg_pack ())\u001b[m\u001b[K;\n",
      "      |                                   \u001b[01;36m\u001b[K~~~~~~~~~~~~~~~~~\u001b[m\u001b[K\n",
      "\u001b[01m\u001b[Kpan.c:1535:35:\u001b[m\u001b[K \u001b[01;35m\u001b[Kwarning: \u001b[m\u001b[K‘\u001b[01m\u001b[K.\u001b[m\u001b[K’ directive writing 1 byte into a region of size between 0 and 511 [\u001b[01;35m\u001b[K\u001b]8;;https://gcc.gnu.org/onlinedocs/gcc/Warning-Options.html#index-Wformat-overflow=\u0007-Wformat-overflow=\u001b]8;;\u0007\u001b[m\u001b[K]\n",
      " 1535 |         {       sprintf(fnm, \"%s%d\u001b[01;35m\u001b[K.\u001b[m\u001b[K%s\", MyFile, whichtrail, tprefix);\n",
      "      |                                   \u001b[01;35m\u001b[K^\u001b[m\u001b[K\n",
      "In file included from \u001b[01m\u001b[K/usr/include/stdio.h:894\u001b[m\u001b[K,\n",
      "                 from \u001b[01m\u001b[Kpan.c:7\u001b[m\u001b[K:\n",
      "\u001b[01m\u001b[K/usr/include/x86_64-linux-gnu/bits/stdio2.h:38:10:\u001b[m\u001b[K \u001b[01;36m\u001b[Knote: \u001b[m\u001b[K‘\u001b[01m\u001b[K__builtin___sprintf_chk\u001b[m\u001b[K’ output between 8 and 529 bytes into a destination of size 512\n",
      "   38 |   return \u001b[01;36m\u001b[K__builtin___sprintf_chk (__s, __USE_FORTIFY_LEVEL - 1,\u001b[m\u001b[K\n",
      "      |          \u001b[01;36m\u001b[K^~~~~~~~~~~~~~~~~~~~~~~~~~~~~~~~~~~~~~~~~~~~~~~~~~~~~~\u001b[m\u001b[K\n",
      "   39 | \u001b[01;36m\u001b[K                                  __glibc_objsize (__s), __fmt,\u001b[m\u001b[K\n",
      "      |                                   \u001b[01;36m\u001b[K~~~~~~~~~~~~~~~~~~~~~~~~~~~~~\u001b[m\u001b[K\n",
      "   40 | \u001b[01;36m\u001b[K                                  __va_arg_pack ())\u001b[m\u001b[K;\n",
      "      |                                   \u001b[01;36m\u001b[K~~~~~~~~~~~~~~~~~\u001b[m\u001b[K\n",
      "\u001b[01m\u001b[Kpan.c:1539:43:\u001b[m\u001b[K \u001b[01;35m\u001b[Kwarning: \u001b[m\u001b[K‘\u001b[01m\u001b[K.\u001b[m\u001b[K’ directive writing 1 byte into a region of size between 0 and 511 [\u001b[01;35m\u001b[K\u001b]8;;https://gcc.gnu.org/onlinedocs/gcc/Warning-Options.html#index-Wformat-overflow=\u0007-Wformat-overflow=\u001b]8;;\u0007\u001b[m\u001b[K]\n",
      " 1539 |                         sprintf(fnm, \"%s%d\u001b[01;35m\u001b[K.\u001b[m\u001b[K%s\",\n",
      "      |                                           \u001b[01;35m\u001b[K^\u001b[m\u001b[K\n",
      "In file included from \u001b[01m\u001b[K/usr/include/stdio.h:894\u001b[m\u001b[K,\n",
      "                 from \u001b[01m\u001b[Kpan.c:7\u001b[m\u001b[K:\n",
      "\u001b[01m\u001b[K/usr/include/x86_64-linux-gnu/bits/stdio2.h:38:10:\u001b[m\u001b[K \u001b[01;36m\u001b[Knote: \u001b[m\u001b[K‘\u001b[01m\u001b[K__builtin___sprintf_chk\u001b[m\u001b[K’ output 3 or more bytes (assuming 514) into a destination of size 512\n",
      "   38 |   return \u001b[01;36m\u001b[K__builtin___sprintf_chk (__s, __USE_FORTIFY_LEVEL - 1,\u001b[m\u001b[K\n",
      "      |          \u001b[01;36m\u001b[K^~~~~~~~~~~~~~~~~~~~~~~~~~~~~~~~~~~~~~~~~~~~~~~~~~~~~~\u001b[m\u001b[K\n",
      "   39 | \u001b[01;36m\u001b[K                                  __glibc_objsize (__s), __fmt,\u001b[m\u001b[K\n",
      "      |                                   \u001b[01;36m\u001b[K~~~~~~~~~~~~~~~~~~~~~~~~~~~~~\u001b[m\u001b[K\n",
      "   40 | \u001b[01;36m\u001b[K                                  __va_arg_pack ())\u001b[m\u001b[K;\n",
      "      |                                   \u001b[01;36m\u001b[K~~~~~~~~~~~~~~~~~\u001b[m\u001b[K\n",
      "pan:1: assertion violated ( ((a>=b)) ? ((max==a)) : ((max==b)) ) (at depth 0)\n",
      "pan: wrote max-error.pml.trail\n",
      "\n",
      "(Spin Version 6.5.1 -- 20 December 2019)\n",
      "Warning: Search not completed\n",
      "\t+ Partial Order Reduction\n",
      "\n",
      "Full statespace search for:\n",
      "\tnever claim         \t- (none specified)\n",
      "\tassertion violations\t+\n",
      "\tcycle checks       \t- (disabled by -DSAFETY)\n",
      "\tinvalid end states\t+\n",
      "\n",
      "State-vector 24 byte, depth reached 2, errors: 1\n",
      "        3 states, stored\n",
      "        0 states, matched\n",
      "        3 transitions (= stored+matched)\n",
      "        0 atomic steps\n",
      "hash conflicts:         0 (resolved)\n",
      "\n",
      "Stats on memory usage (in Megabytes):\n",
      "    0.000\tequivalent memory usage for states (stored*(State-vector + overhead))\n",
      "    0.292\tactual memory usage for states\n",
      "  128.000\tmemory used for hash table (-w24)\n",
      "    0.534\tmemory used for DFS stack (-m10000)\n",
      "  128.730\ttotal actual memory usage\n",
      "\n",
      "\n",
      "\n",
      "pan: elapsed time 0 seconds\n"
     ]
    }
   ],
   "source": [
    "# 验证: 上面的3步合并为1步\n",
    "# TODO: mute gcc warning\n",
    "!spin -run max-error.pml"
   ]
  },
  {
   "cell_type": "code",
   "execution_count": null,
   "metadata": {},
   "outputs": [
    {
     "name": "stdout",
     "output_type": "stream",
     "text": [
      "spin: max-error.pml:7, Error: assertion violated\n",
      "spin: text of failed assertion: assert(( ((a>=b)) -> ((max==a)) : ((max==b)) ))\n",
      "spin: trail ends after 1 steps\n",
      "#processes: 1\n",
      "  1:\tproc  0 (P:1) max-error.pml:8 (state 8) <valid end state>\n",
      "1 process created\n"
     ]
    }
   ],
   "source": [
    "# follow simulation trail\n",
    "!spin -t max-error.pml"
   ]
  },
  {
   "cell_type": "code",
   "execution_count": null,
   "metadata": {},
   "outputs": [
    {
     "name": "stdout",
     "output_type": "stream",
     "text": [
      "  1:\tproc  0 (P:1) max-error.pml:5 (state 3)\t[((b>=a))]\n",
      "  1:\tproc  0 (P:1) max-error.pml:5 (state 4)\t[max = (b+1)]\n",
      "\t\tP(0):max = 6\n",
      "spin: max-error.pml:7, Error: assertion violated\n",
      "spin: text of failed assertion: assert(( ((a>=b)) -> ((max==a)) : ((max==b)) ))\n",
      "  1:\tproc  0 (P:1) max-error.pml:7 (state 7)\t[assert(( ((a>=b)) -> ((max==a)) : ((max==b)) ))]\n",
      "\t\tP(0):max = 6\n",
      "spin: trail ends after 1 steps\n",
      "#processes: 1\n",
      "  1:\tproc  0 (P:1) max-error.pml:8 (state 8) <valid end state>\n",
      "\t\tP(0):max = 6\n",
      "\t\tP(0):b = 5\n",
      "\t\tP(0):a = 5\n",
      "1 process created\n"
     ]
    }
   ],
   "source": [
    "# 显示trail中更多信息\n",
    "!spin -t -p -g -l max-error.pml"
   ]
  },
  {
   "cell_type": "code",
   "execution_count": 39,
   "metadata": {},
   "outputs": [],
   "source": [
    "# 清理\n",
    "!rm -f pan.* pan *.trail"
   ]
  },
  {
   "cell_type": "code",
   "execution_count": 41,
   "metadata": {},
   "outputs": [
    {
     "name": "stdout",
     "output_type": "stream",
     "text": [
      "  0:\tproc  - (:root:) creates proc  0 (P)\n",
      "  1:\tproc  0 (P:1) max-error.pml:5 (state 3)\t[((b>=a))]\n",
      "  2:\tproc  0 (P:1) max-error.pml:5 (state 4)\t[max = (b+1)]\n",
      "\t\tP(0):max = 6\n",
      "  3:\tproc  0 (P:1) max-error.pml:7 (state 6)\t[.(goto)]\n",
      "spin: max-error.pml:7, Error: assertion violated\n",
      "spin: text of failed assertion: assert(( ((a>=b)) -> ((max==a)) : ((max==b)) ))\n",
      "#processes: 1\n",
      "  4:\tproc  0 (P:1) max-error.pml:7 (state 7)\n",
      "\t\tP(0):max = 6\n",
      "\t\tP(0):b = 5\n",
      "\t\tP(0):a = 5\n",
      "1 process created\n"
     ]
    }
   ],
   "source": [
    "!spin -p -g -l max-error.pml"
   ]
  },
  {
   "cell_type": "markdown",
   "metadata": {},
   "source": [
    "##  3. Concurrency\n",
    "##  4. Synchronization\n",
    "##  5. Verification with Temporal Logic\n",
    "##  6. Data and Program Structures\n",
    "##  7. Channels\n",
    "##  8. Nondeterminism\n",
    "##  9. Advanced Topics in PROMELA\n",
    "##  10. Advanced Topics in SPIN\n",
    "##  11. Case Studies"
   ]
  },
  {
   "cell_type": "markdown",
   "metadata": {},
   "source": [
    "## Supplementary Material on Spin Version 6\n",
    "\n",
    "> supplementary material: https://extras.springer.com/?query=978-1-84628-769-5\n",
    "\n",
    "- the `for`-statement.\n",
    "- the `select`-statement.\n",
    "- `inline` definitions now create a new scope for variable declarations.\n",
    "- the LTL formula can be written within the PROMELA program.\n",
    "\n",
    "```promela\n",
    "ltl mutex { []!(csp && csq) }\n",
    "ltl nostarvation { []<>csp }\n",
    "\n",
    "// no longer necessary to define symbols\n",
    "ltl { [](critical <= 1) }\n",
    "// a remote reference is considered an expression\n",
    "ltl { []!(P@cs && Q@cs) }\n",
    "// temporal operators can be given as keywords\n",
    "ltl mutex { always !(csp && csq) }\n",
    "ltl nostarvation { always eventually csp }\n",
    "```\n",
    "\n",
    "```shell\n",
    "pan -N mutex\n",
    "```"
   ]
  },
  {
   "cell_type": "markdown",
   "metadata": {},
   "source": [
    "# Book PCDP: Principles of Concurrent and Distributed Programming"
   ]
  },
  {
   "cell_type": "code",
   "execution_count": 1,
   "metadata": {},
   "outputs": [
    {
     "name": "stdout",
     "output_type": "stream",
     "text": [
      "/mnt/d/GoogleDrive/wiki/jupyter-notebooks/Modeling/SPIN/PCDP\n"
     ]
    }
   ],
   "source": [
    "%cd /mnt/d/GoogleDrive/wiki/jupyter-notebooks/Modeling/SPIN/PCDP"
   ]
  },
  {
   "cell_type": "markdown",
   "metadata": {},
   "source": [
    "## 1. What is Concurrent Programming?"
   ]
  },
  {
   "cell_type": "markdown",
   "metadata": {},
   "source": [
    "## 2. The Concurrent Programming Abstraction"
   ]
  },
  {
   "cell_type": "markdown",
   "metadata": {},
   "source": [
    "- 并发执行: 原子语句的交错(interleaving)\n",
    "- 任意的交错\n",
    "- 原子语句\n",
    "- 正确性(correctness)\n",
    "- 公平性(fairness)\n",
    "- 机器码指令: 寄存器机器, 栈机器\n",
    "- 易失性(volatile)变量, 非原子变量\n",
    "\n",
    "\n",
    "A **concurrent program** consists of a finite set of\n",
    "(sequential) processes. The processes are\n",
    "written using a finite set of **atomic statements**.\n",
    "The execution of a concurrent program\n",
    "proceeds by executing a sequence of the\n",
    "atomic statements obtained by **arbitrarily\n",
    "interleaving** the atomic statements from the\n",
    "processes. A **computation** is an execution\n",
    "sequence that can occur as a result of the\n",
    "interleaving. Computations are also called\n",
    "**scenarios**.\n",
    "\n",
    "During a computation the **control pointer** of a\n",
    "process indicates the next statement that can\n",
    "be executed by that process. Each process\n",
    "has its own control pointer.\n",
    "\n",
    "The **state** of a (concurrent) algorithm is a\n",
    "tuple consisting of one element for each\n",
    "process that is a label from that process, and\n",
    "one element for each global or local variable\n",
    "that is a value whose type is the same as the\n",
    "type of the variable.\n",
    "\n",
    "Let s1 and s2 be states. There is a **transition**\n",
    "between s1 and s2 if executing a statement in\n",
    "state s1 changes the state to s2. The statement\n",
    "executed must be one of those pointed to by a\n",
    "control pointer in s1.\n",
    "\n",
    "A **state diagram** is a graph defined inductively.\n",
    "The initial state diagram contains a single node\n",
    "labeled with the initial state. If state s1 labels a\n",
    "node in the state diagram, and if there is a\n",
    "transition from s1 to s2, then there is a node\n",
    "labeled s2 in the state diagram and a directed\n",
    "edge from s1 to s2.\n",
    "For each state, there is only one node labeled\n",
    "with that state.\n",
    "The set of **reachable states** is the set of states\n",
    "in a state diagram.\n",
    "\n",
    "\n",
    "**Safety properties** The property must always be\n",
    "true.\n",
    "**Liveness properties** The property must eventually\n",
    "become true.\n",
    "\n",
    "\n",
    "linear temporal logic (LTL)\n",
    "Branching temporal logic: CTL is a branching temporal logic \n",
    "\n",
    "LTL is used in this book\n",
    "\n",
    "\n",
    "A scenario is (**weakly**) **fair** if at any state in the\n",
    "scenario, a statement that is continually\n",
    "enabled eventually appears in the scenario."
   ]
  },
  {
   "cell_type": "markdown",
   "metadata": {},
   "source": [
    "工具, 语言\n",
    "- BACI并发模拟器: Ben-Ari Concurrency Interpreter\n",
    "- Ada\n",
    "- Java\n",
    "- PROMELA"
   ]
  },
  {
   "cell_type": "markdown",
   "metadata": {},
   "source": [
    "Algorithm 2.1. Trivial concurrent program\n",
    "\n",
    "convention: \n",
    "Each labeled line represents an atomic\n",
    "statement.\n",
    "\n",
    "Algorithm 2.2. Trivial sequential program\n",
    "Algorithm 2.3. Atomic assignment statements\n",
    "Algorithm 2.4. Assignment statements with one global reference\n",
    "\n",
    "assumption:\n",
    "Assignment statements are atomic\n",
    "statements, as are evaluations of boolean\n",
    "conditions in control statements.\n",
    "\n",
    "Algorithm 2.5. Stop the loop\n",
    "\n",
    "Algorithm 2.6. Assignment statement for a register machine\n",
    "Algorithm 2.7. Assignment statement for a stack machine"
   ]
  },
  {
   "cell_type": "markdown",
   "metadata": {},
   "source": [
    "An occurrence of a variable v is defined to be\n",
    "**critical reference**: (a) if it is assigned to in one\n",
    "process and has an occurrence in another\n",
    "process, or (b) if it has an occurrence in an\n",
    "expression in one process and is assigned to in\n",
    "another.\n",
    "A program satisfies the **limited-criticalreference (LCR)** restriction if each statement\n",
    "contains at most one critical reference."
   ]
  },
  {
   "cell_type": "markdown",
   "metadata": {},
   "source": [
    "Algorithm 2.8. Volatile variables\n",
    "\n",
    "Specifying a variable as\n",
    "**volatile** instructs the compiler to load and store the\n",
    "value of the variable at each use, rather than attempt\n",
    "to optimize away these loads and stores.\n",
    "Concurrency may also affect computations with\n",
    "multiword variables. "
   ]
  },
  {
   "cell_type": "markdown",
   "metadata": {},
   "source": [
    "Algorithm 2.9. Concurrent counting algorithm\n",
    "\n",
    "```\n",
    "integer n <- 0\n",
    "-\n",
    "p                    | q\n",
    "    integer temp     |     integer temp\n",
    "p1: do 10 times      | q1: do 10 times\n",
    "p2:   temp <- n      | q2:    temp <- n\n",
    "p3:   n <- temp + 1  | q3:    n <- temp + 1\n",
    "```"
   ]
  },
  {
   "cell_type": "code",
   "execution_count": null,
   "metadata": {},
   "outputs": [
    {
     "name": "stdout",
     "output_type": "stream",
     "text": [
      "      MSC: The value is 14\n",
      "3 processes created\n"
     ]
    }
   ],
   "source": [
    "# Listing 2.5. A Promela program for the counting algorithm\n",
    "!spin l2.5-counting-algo.pml"
   ]
  },
  {
   "cell_type": "markdown",
   "metadata": {},
   "source": [
    "## 3. The Critical Section Problem"
   ]
  },
  {
   "cell_type": "markdown",
   "metadata": {},
   "source": [
    "问题定义和假设:\n",
    "\n",
    "- Each of N processes is executing in a infinite loop a sequence of\n",
    "statements that can be divided into two subsequences: the **critical\n",
    "section** and the non-critical section.\n",
    "\n",
    "- The correctness specifications required of any solution are:\n",
    "  - **Mutual exclusion** Statements from the critical sections of two\n",
    "or more processes must not be interleaved.\n",
    "  - **Freedom from deadlock** If some processes are trying to enter\n",
    "their critical sections, then one of them must eventually\n",
    "succeed.\n",
    "  - **Freedom from (individual) starvation** If any process tries to\n",
    "enter its critical section, then that process must eventually\n",
    "succeed.\n",
    "\n",
    "- A synchronization mechanism must be provided to ensure that the\n",
    "correctness requirements are met. The synchronization mechanism\n",
    "consists of additional statements that are placed before and after\n",
    "the critical section. The statements placed before the critical section\n",
    "are called the **preprotocol** and those after it are called the\n",
    "**postprotocol**. \n",
    "\n",
    "- The protocols may require local or global variables, but we assume\n",
    "that no variables used in the critical and non-critical sections are\n",
    "used in the protocols, and vice versa.\n",
    "- The critical section must **progress**, that is, once a process starts to\n",
    "execute the statements of its critical section, it must eventually\n",
    "finish executing those statements.\n",
    "关键区域中必须有进展.\n",
    "- The non-critical section need not progress, that is, if the control\n",
    "pointer of a process is at or in its non-critical section, the process\n",
    "may terminate or enter an infinite loop and not leave the noncritical section.\n",
    "非关键区域中可以没有进展."
   ]
  },
  {
   "cell_type": "markdown",
   "metadata": {},
   "source": [
    "Algorithm 3.1. Critical section problem\n",
    "\n",
    "Algorithm 3.2. First attempt\n",
    "\n",
    "```\n",
    "integer turn <- 1\n",
    "\n",
    "p: \n",
    "loop forever\n",
    "p1: non-critical section\n",
    "p2: await turn = 1           // 等待: 我的机会\n",
    "p3: critical section\n",
    "p4: turn <- 2               // 他的机会\n",
    "\n",
    "q:\n",
    "loop forever\n",
    "q1: non-critical section\n",
    "q2: await turn = 2\n",
    "q3: critical section\n",
    "q4: turn <- 1\n",
    "```\n",
    "\n",
    "`turn`作为进入关键区域的权限: 值表示哪个进程持有资源.\n",
    "\n",
    "\n",
    "Algorithm 3.3. History in a sequential algorithm\n",
    "Algorithm 3.4. History in a concurrent algorithm\n",
    "Algorithm 3.5. First attempt (abbreviated)\n",
    "\n",
    "使用状态图证明正确性\n",
    "- 互斥: YES\n",
    "- 无死锁: YES\n",
    "- 无饥饿: NO\n",
    "  - 非关键区域可以无进展"
   ]
  },
  {
   "cell_type": "markdown",
   "metadata": {},
   "source": [
    "Algorithm 3.6. Second attempt\n",
    "\n",
    "```\n",
    "boolean wantp <- false, wantq <- false\n",
    "-\n",
    "p:\n",
    "loop forever\n",
    "p1: non-critical section\n",
    "p2: await wantq = false     // 等待: 他不要\n",
    "p3: wantp <- true           // 我要\n",
    "p4: critical section\n",
    "p5: wantp <- false          // 我不要\n",
    "\n",
    "q:\n",
    "loop forever\n",
    "q1: non-critical section\n",
    "q2: await wantp = false\n",
    "q3: wantq <- true\n",
    "q4: critical section\n",
    "q5: wantq <- false\n",
    "```\n",
    "\n",
    "Algorithm 3.7. Second attempt (abbreviated)\n",
    "\n",
    "正确性:\n",
    "- 互斥: NO"
   ]
  },
  {
   "cell_type": "markdown",
   "metadata": {},
   "source": [
    "Algorithm 3.8. Third attempt\n",
    "\n",
    "```\n",
    "boolean wantp <- false, wantq <- false\n",
    "-\n",
    "p:\n",
    "loop forever\n",
    "p1: non-critical section\n",
    "p2: wantp <- true         // 我要\n",
    "p3: await wantq = false   // 等待: 他不要\n",
    "p4: critical section\n",
    "p5: wantp <- false        // 我不要\n",
    "\n",
    "q:\n",
    "loop forever\n",
    "q1: non-critical section\n",
    "q2: wantq <- true\n",
    "q3: await wantp = false\n",
    "q4: critical section\n",
    "q5: wantq <- false\n",
    "```\n",
    "\n",
    "正确性:\n",
    "- 互斥: YES\n",
    "- 无死锁: NO\n",
    "  - 不可出节点: 活锁"
   ]
  },
  {
   "cell_type": "markdown",
   "metadata": {},
   "source": [
    "Algorithm 3.9. Fourth attempt\n",
    "\n",
    "```\n",
    "boolean wantp <- false, wantq <- false\n",
    "-\n",
    "p:\n",
    "loop forever\n",
    "p1: non-critical section\n",
    "p2: wantp <- true          // 我要\n",
    "p3: while wantq            // 他要时\n",
    "p4:   wantp <- false       //   我不要\n",
    "p5:   wantp <- true        //   我要\n",
    "p6: critical section\n",
    "p7: wantp <- false         // 我不要\n",
    "\n",
    "q:\n",
    "loop forever\n",
    "q1: non-critical section\n",
    "q2: wantq true\n",
    "q3: while wantp\n",
    "q4:   wantq <- false\n",
    "q5:   wantq <- true\n",
    "q6: critical section\n",
    "q7: wantq <- false\n",
    "```\n",
    "\n",
    "正确性:\n",
    "- 互斥: YES\n",
    "- 无死锁: YES\n",
    "- 无饥饿: NO\n",
    "  - 存在环"
   ]
  },
  {
   "cell_type": "markdown",
   "metadata": {},
   "source": [
    "Algorithm 3.10. Dekker's algorithm\n",
    "\n",
    "```\n",
    "boolean wantp <- false, wantq <- false\n",
    "integer turn <- 1\n",
    "-\n",
    "p:\n",
    "loop forever\n",
    "p1: non-critical section\n",
    "p2: wantp <- true          // 我要\n",
    "p3: while wantq            // 他要时\n",
    "p4:   if turn = 2          //   他的机会\n",
    "p5:     wantp <- false     //     我不要\n",
    "p6:     await turn = 1     //     等待: 我的机会\n",
    "p7:     wantp <- true      //     我要\n",
    "p8: critical section\n",
    "p9: turn <- 2             // 机会给他\n",
    "p10: wantp <- false       // 我不要\n",
    "\n",
    "q:\n",
    "loop forever\n",
    "q1: non-critical section\n",
    "q2: wantq <- true\n",
    "q3: while wantp\n",
    "q4:   if turn = 1\n",
    "q5:     wantq <- false\n",
    "q6:     await turn = 2\n",
    "q7:     wantq <- true\n",
    "q8: critical section\n",
    "q9: turn <- 1\n",
    "q10: wantq false\n",
    "```"
   ]
  },
  {
   "cell_type": "markdown",
   "metadata": {},
   "source": [
    "## 4. Verification of Concurrent Programs"
   ]
  },
  {
   "cell_type": "markdown",
   "metadata": {},
   "source": [
    "- the specification of correctness properties: 正确性属性的描述\n",
    "- inductive proof: 归纳证明\n",
    "- invariant: 不变量\n",
    "- a system of temporal logic: 时态逻辑的系统\n",
    "  - deductive: 推论的, 演绎的\n",
    "    - 在所有计算的状态上归纳\n",
    "    - 只需要考虑能修改公式中原子命题真值的语句\n",
    "  - specify correctness properties for model checkers\n",
    "  - tools: SPIN, STeP, TLA\n",
    "\n",
    "示例: the third attemp satisfies the mutual exclusion property\n",
    "\n",
    "A Deductive Proof of Dekker's Algorithm\n",
    "- 进展: 如果计算在一个状态满足A, 则计算必须进展到另一个状态满足B.\n",
    "- 假设: 所有计算是weakly fair的.\n",
    "- 赋值语句: 持有进展.\n",
    "- 关键区域: 必须持有进展.\n",
    "- 非关键区域: 不需要持有进展.\n",
    "- 控制语句: \n",
    "  - 证明选择了某一个分支: `p4 /\\ [](turn = 2) -> <> p5`\n",
    "\n",
    "进展的证明规则:\n",
    "- (a) []A -> <>B\n",
    "- (b) <>[]A\n",
    "结论: `<>B`\n",
    "\n",
    "证明: 无饥饿\n",
    "- 假设: `q`总是尝试进入关键区域 `[]<> ~ q1`\n",
    "- `p2 -> <>P8`\n",
    "\n",
    "\n",
    "the Promela Modeling Language"
   ]
  },
  {
   "cell_type": "code",
   "execution_count": 3,
   "metadata": {},
   "outputs": [
    {
     "name": "stdout",
     "output_type": "stream",
     "text": [
      "\u001b[01m\u001b[Kpan.c:\u001b[m\u001b[K In function ‘\u001b[01m\u001b[Kmake_trail\u001b[m\u001b[K’:\n",
      "\u001b[01m\u001b[Kpan.c:1942:33:\u001b[m\u001b[K \u001b[01;35m\u001b[Kwarning: \u001b[m\u001b[K‘\u001b[01m\u001b[K%d\u001b[m\u001b[K’ directive writing between 1 and 10 bytes into a region of size between 1 and 512 [\u001b[01;35m\u001b[K\u001b]8;;https://gcc.gnu.org/onlinedocs/gcc/Warning-Options.html#index-Wformat-overflow=\u0007-Wformat-overflow=\u001b]8;;\u0007\u001b[m\u001b[K]\n",
      " 1942 |                 sprintf(fnm, \"%s\u001b[01;35m\u001b[K%d\u001b[m\u001b[K.%s\",\n",
      "      |                                 \u001b[01;35m\u001b[K^~\u001b[m\u001b[K\n",
      "\u001b[01m\u001b[Kpan.c:1942:30:\u001b[m\u001b[K \u001b[01;36m\u001b[Knote: \u001b[m\u001b[Kdirective argument in the range [1, 2147483647]\n",
      " 1942 |                 sprintf(fnm, \u001b[01;36m\u001b[K\"%s%d.%s\"\u001b[m\u001b[K,\n",
      "      |                              \u001b[01;36m\u001b[K^~~~~~~~~\u001b[m\u001b[K\n",
      "In file included from \u001b[01m\u001b[K/usr/include/stdio.h:894\u001b[m\u001b[K,\n",
      "                 from \u001b[01m\u001b[Kpan.c:7\u001b[m\u001b[K:\n",
      "\u001b[01m\u001b[K/usr/include/x86_64-linux-gnu/bits/stdio2.h:38:10:\u001b[m\u001b[K \u001b[01;36m\u001b[Knote: \u001b[m\u001b[K‘\u001b[01m\u001b[K__builtin___sprintf_chk\u001b[m\u001b[K’ output 3 or more bytes (assuming 523) into a destination of size 512\n",
      "   38 |   return \u001b[01;36m\u001b[K__builtin___sprintf_chk (__s, __USE_FORTIFY_LEVEL - 1,\u001b[m\u001b[K\n",
      "      |          \u001b[01;36m\u001b[K^~~~~~~~~~~~~~~~~~~~~~~~~~~~~~~~~~~~~~~~~~~~~~~~~~~~~~\u001b[m\u001b[K\n",
      "   39 | \u001b[01;36m\u001b[K                                  __glibc_objsize (__s), __fmt,\u001b[m\u001b[K\n",
      "      |                                   \u001b[01;36m\u001b[K~~~~~~~~~~~~~~~~~~~~~~~~~~~~~\u001b[m\u001b[K\n",
      "   40 | \u001b[01;36m\u001b[K                                  __va_arg_pack ())\u001b[m\u001b[K;\n",
      "      |                                   \u001b[01;36m\u001b[K~~~~~~~~~~~~~~~~~\u001b[m\u001b[K\n",
      "\u001b[01m\u001b[Kpan.c:1950:36:\u001b[m\u001b[K \u001b[01;35m\u001b[Kwarning: \u001b[m\u001b[K‘\u001b[01m\u001b[K__builtin___sprintf_chk\u001b[m\u001b[K’ may write a terminating nul past the end of the destination [\u001b[01;35m\u001b[K\u001b]8;;https://gcc.gnu.org/onlinedocs/gcc/Warning-Options.html#index-Wformat-overflow=\u0007-Wformat-overflow=\u001b]8;;\u0007\u001b[m\u001b[K]\n",
      " 1950 |                 sprintf(fnm, \"%s.%s\u001b[01;35m\u001b[K\"\u001b[m\u001b[K, MyFile, tprefix);\n",
      "      |                                    \u001b[01;35m\u001b[K^\u001b[m\u001b[K\n",
      "In file included from \u001b[01m\u001b[K/usr/include/stdio.h:894\u001b[m\u001b[K,\n",
      "                 from \u001b[01m\u001b[Kpan.c:7\u001b[m\u001b[K:\n",
      "\u001b[01m\u001b[K/usr/include/x86_64-linux-gnu/bits/stdio2.h:38:10:\u001b[m\u001b[K \u001b[01;36m\u001b[Knote: \u001b[m\u001b[K‘\u001b[01m\u001b[K__builtin___sprintf_chk\u001b[m\u001b[K’ output 2 or more bytes (assuming 513) into a destination of size 512\n",
      "   38 |   return \u001b[01;36m\u001b[K__builtin___sprintf_chk (__s, __USE_FORTIFY_LEVEL - 1,\u001b[m\u001b[K\n",
      "      |          \u001b[01;36m\u001b[K^~~~~~~~~~~~~~~~~~~~~~~~~~~~~~~~~~~~~~~~~~~~~~~~~~~~~~\u001b[m\u001b[K\n",
      "   39 | \u001b[01;36m\u001b[K                                  __glibc_objsize (__s), __fmt,\u001b[m\u001b[K\n",
      "      |                                   \u001b[01;36m\u001b[K~~~~~~~~~~~~~~~~~~~~~~~~~~~~~\u001b[m\u001b[K\n",
      "   40 | \u001b[01;36m\u001b[K                                  __va_arg_pack ())\u001b[m\u001b[K;\n",
      "      |                                   \u001b[01;36m\u001b[K~~~~~~~~~~~~~~~~~\u001b[m\u001b[K\n",
      "\u001b[01m\u001b[Kpan.c:1957:49:\u001b[m\u001b[K \u001b[01;35m\u001b[Kwarning: \u001b[m\u001b[K‘\u001b[01m\u001b[K%d\u001b[m\u001b[K’ directive writing between 1 and 10 bytes into a region of size between 1 and 512 [\u001b[01;35m\u001b[K\u001b]8;;https://gcc.gnu.org/onlinedocs/gcc/Warning-Options.html#index-Wformat-overflow=\u0007-Wformat-overflow=\u001b]8;;\u0007\u001b[m\u001b[K]\n",
      " 1957 |                                 sprintf(fnm, \"%s\u001b[01;35m\u001b[K%d\u001b[m\u001b[K.%s\",\n",
      "      |                                                 \u001b[01;35m\u001b[K^~\u001b[m\u001b[K\n",
      "\u001b[01m\u001b[Kpan.c:1957:46:\u001b[m\u001b[K \u001b[01;36m\u001b[Knote: \u001b[m\u001b[Kdirective argument in the range [1, 2147483646]\n",
      " 1957 |                                 sprintf(fnm, \u001b[01;36m\u001b[K\"%s%d.%s\"\u001b[m\u001b[K,\n",
      "      |                                              \u001b[01;36m\u001b[K^~~~~~~~~\u001b[m\u001b[K\n",
      "In file included from \u001b[01m\u001b[K/usr/include/stdio.h:894\u001b[m\u001b[K,\n",
      "                 from \u001b[01m\u001b[Kpan.c:7\u001b[m\u001b[K:\n",
      "\u001b[01m\u001b[K/usr/include/x86_64-linux-gnu/bits/stdio2.h:38:10:\u001b[m\u001b[K \u001b[01;36m\u001b[Knote: \u001b[m\u001b[K‘\u001b[01m\u001b[K__builtin___sprintf_chk\u001b[m\u001b[K’ output 3 or more bytes (assuming 523) into a destination of size 512\n",
      "   38 |   return \u001b[01;36m\u001b[K__builtin___sprintf_chk (__s, __USE_FORTIFY_LEVEL - 1,\u001b[m\u001b[K\n",
      "      |          \u001b[01;36m\u001b[K^~~~~~~~~~~~~~~~~~~~~~~~~~~~~~~~~~~~~~~~~~~~~~~~~~~~~~\u001b[m\u001b[K\n",
      "   39 | \u001b[01;36m\u001b[K                                  __glibc_objsize (__s), __fmt,\u001b[m\u001b[K\n",
      "      |                                   \u001b[01;36m\u001b[K~~~~~~~~~~~~~~~~~~~~~~~~~~~~~\u001b[m\u001b[K\n",
      "   40 | \u001b[01;36m\u001b[K                                  __va_arg_pack ())\u001b[m\u001b[K;\n",
      "      |                                   \u001b[01;36m\u001b[K~~~~~~~~~~~~~~~~~\u001b[m\u001b[K\n",
      "\u001b[01m\u001b[Kpan.c:1960:52:\u001b[m\u001b[K \u001b[01;35m\u001b[Kwarning: \u001b[m\u001b[K‘\u001b[01m\u001b[K__builtin___sprintf_chk\u001b[m\u001b[K’ may write a terminating nul past the end of the destination [\u001b[01;35m\u001b[K\u001b]8;;https://gcc.gnu.org/onlinedocs/gcc/Warning-Options.html#index-Wformat-overflow=\u0007-Wformat-overflow=\u001b]8;;\u0007\u001b[m\u001b[K]\n",
      " 1960 |                                 sprintf(fnm, \"%s.%s\u001b[01;35m\u001b[K\"\u001b[m\u001b[K, MyFile, tprefix);\n",
      "      |                                                    \u001b[01;35m\u001b[K^\u001b[m\u001b[K\n",
      "In file included from \u001b[01m\u001b[K/usr/include/stdio.h:894\u001b[m\u001b[K,\n",
      "                 from \u001b[01m\u001b[Kpan.c:7\u001b[m\u001b[K:\n",
      "\u001b[01m\u001b[K/usr/include/x86_64-linux-gnu/bits/stdio2.h:38:10:\u001b[m\u001b[K \u001b[01;36m\u001b[Knote: \u001b[m\u001b[K‘\u001b[01m\u001b[K__builtin___sprintf_chk\u001b[m\u001b[K’ output 2 or more bytes (assuming 513) into a destination of size 512\n",
      "   38 |   return \u001b[01;36m\u001b[K__builtin___sprintf_chk (__s, __USE_FORTIFY_LEVEL - 1,\u001b[m\u001b[K\n",
      "      |          \u001b[01;36m\u001b[K^~~~~~~~~~~~~~~~~~~~~~~~~~~~~~~~~~~~~~~~~~~~~~~~~~~~~~\u001b[m\u001b[K\n",
      "   39 | \u001b[01;36m\u001b[K                                  __glibc_objsize (__s), __fmt,\u001b[m\u001b[K\n",
      "      |                                   \u001b[01;36m\u001b[K~~~~~~~~~~~~~~~~~~~~~~~~~~~~~\u001b[m\u001b[K\n",
      "   40 | \u001b[01;36m\u001b[K                                  __va_arg_pack ())\u001b[m\u001b[K;\n",
      "      |                                   \u001b[01;36m\u001b[K~~~~~~~~~~~~~~~~~\u001b[m\u001b[K\n",
      "\u001b[01m\u001b[Kpan.c:\u001b[m\u001b[K In function ‘\u001b[01m\u001b[Kfindtrail\u001b[m\u001b[K’:\n",
      "\u001b[01m\u001b[Kpan.c:1546:42:\u001b[m\u001b[K \u001b[01;35m\u001b[Kwarning: \u001b[m\u001b[K‘\u001b[01m\u001b[K%s\u001b[m\u001b[K’ directive writing 5 bytes into a region of size between 0 and 511 [\u001b[01;35m\u001b[K\u001b]8;;https://gcc.gnu.org/onlinedocs/gcc/Warning-Options.html#index-Wformat-overflow=\u0007-Wformat-overflow=\u001b]8;;\u0007\u001b[m\u001b[K]\n",
      " 1518 |         tprefix = \u001b[32m\u001b[K\"trail\"\u001b[m\u001b[K;\n",
      "      |                   \u001b[32m\u001b[K~~~~~~~\u001b[m\u001b[K                 \n",
      "......\n",
      " 1546 |                 {       sprintf(fnm, \"%s.\u001b[01;35m\u001b[K%s\u001b[m\u001b[K\", MyFile, tprefix);\n",
      "      |                                          \u001b[01;35m\u001b[K^~\u001b[m\u001b[K\n",
      "In file included from \u001b[01m\u001b[K/usr/include/stdio.h:894\u001b[m\u001b[K,\n",
      "                 from \u001b[01m\u001b[Kpan.c:7\u001b[m\u001b[K:\n",
      "\u001b[01m\u001b[K/usr/include/x86_64-linux-gnu/bits/stdio2.h:38:10:\u001b[m\u001b[K \u001b[01;36m\u001b[Knote: \u001b[m\u001b[K‘\u001b[01m\u001b[K__builtin___sprintf_chk\u001b[m\u001b[K’ output between 7 and 518 bytes into a destination of size 512\n",
      "   38 |   return \u001b[01;36m\u001b[K__builtin___sprintf_chk (__s, __USE_FORTIFY_LEVEL - 1,\u001b[m\u001b[K\n",
      "      |          \u001b[01;36m\u001b[K^~~~~~~~~~~~~~~~~~~~~~~~~~~~~~~~~~~~~~~~~~~~~~~~~~~~~~\u001b[m\u001b[K\n",
      "   39 | \u001b[01;36m\u001b[K                                  __glibc_objsize (__s), __fmt,\u001b[m\u001b[K\n",
      "      |                                   \u001b[01;36m\u001b[K~~~~~~~~~~~~~~~~~~~~~~~~~~~~~\u001b[m\u001b[K\n",
      "   40 | \u001b[01;36m\u001b[K                                  __va_arg_pack ())\u001b[m\u001b[K;\n",
      "      |                                   \u001b[01;36m\u001b[K~~~~~~~~~~~~~~~~~\u001b[m\u001b[K\n",
      "\u001b[01m\u001b[Kpan.c:1557:52:\u001b[m\u001b[K \u001b[01;35m\u001b[Kwarning: \u001b[m\u001b[K‘\u001b[01m\u001b[K__builtin___sprintf_chk\u001b[m\u001b[K’ may write a terminating nul past the end of the destination [\u001b[01;35m\u001b[K\u001b]8;;https://gcc.gnu.org/onlinedocs/gcc/Warning-Options.html#index-Wformat-overflow=\u0007-Wformat-overflow=\u001b]8;;\u0007\u001b[m\u001b[K]\n",
      " 1557 |                                 sprintf(fnm, \"%s.%s\u001b[01;35m\u001b[K\"\u001b[m\u001b[K, MyFile, tprefix);\n",
      "      |                                                    \u001b[01;35m\u001b[K^\u001b[m\u001b[K\n",
      "In file included from \u001b[01m\u001b[K/usr/include/stdio.h:894\u001b[m\u001b[K,\n",
      "                 from \u001b[01m\u001b[Kpan.c:7\u001b[m\u001b[K:\n",
      "\u001b[01m\u001b[K/usr/include/x86_64-linux-gnu/bits/stdio2.h:38:10:\u001b[m\u001b[K \u001b[01;36m\u001b[Knote: \u001b[m\u001b[K‘\u001b[01m\u001b[K__builtin___sprintf_chk\u001b[m\u001b[K’ output 2 or more bytes (assuming 513) into a destination of size 512\n",
      "   38 |   return \u001b[01;36m\u001b[K__builtin___sprintf_chk (__s, __USE_FORTIFY_LEVEL - 1,\u001b[m\u001b[K\n",
      "      |          \u001b[01;36m\u001b[K^~~~~~~~~~~~~~~~~~~~~~~~~~~~~~~~~~~~~~~~~~~~~~~~~~~~~~\u001b[m\u001b[K\n",
      "   39 | \u001b[01;36m\u001b[K                                  __glibc_objsize (__s), __fmt,\u001b[m\u001b[K\n",
      "      |                                   \u001b[01;36m\u001b[K~~~~~~~~~~~~~~~~~~~~~~~~~~~~~\u001b[m\u001b[K\n",
      "   40 | \u001b[01;36m\u001b[K                                  __va_arg_pack ())\u001b[m\u001b[K;\n",
      "      |                                   \u001b[01;36m\u001b[K~~~~~~~~~~~~~~~~~\u001b[m\u001b[K\n",
      "\u001b[01m\u001b[Kpan.c:1557:52:\u001b[m\u001b[K \u001b[01;35m\u001b[Kwarning: \u001b[m\u001b[K‘\u001b[01m\u001b[K__builtin___sprintf_chk\u001b[m\u001b[K’ may write a terminating nul past the end of the destination [\u001b[01;35m\u001b[K\u001b]8;;https://gcc.gnu.org/onlinedocs/gcc/Warning-Options.html#index-Wformat-overflow=\u0007-Wformat-overflow=\u001b]8;;\u0007\u001b[m\u001b[K]\n",
      " 1557 |                                 sprintf(fnm, \"%s.%s\u001b[01;35m\u001b[K\"\u001b[m\u001b[K, MyFile, tprefix);\n",
      "      |                                                    \u001b[01;35m\u001b[K^\u001b[m\u001b[K\n",
      "In file included from \u001b[01m\u001b[K/usr/include/stdio.h:894\u001b[m\u001b[K,\n",
      "                 from \u001b[01m\u001b[Kpan.c:7\u001b[m\u001b[K:\n",
      "\u001b[01m\u001b[K/usr/include/x86_64-linux-gnu/bits/stdio2.h:38:10:\u001b[m\u001b[K \u001b[01;36m\u001b[Knote: \u001b[m\u001b[K‘\u001b[01m\u001b[K__builtin___sprintf_chk\u001b[m\u001b[K’ output 2 or more bytes (assuming 513) into a destination of size 512\n",
      "   38 |   return \u001b[01;36m\u001b[K__builtin___sprintf_chk (__s, __USE_FORTIFY_LEVEL - 1,\u001b[m\u001b[K\n",
      "      |          \u001b[01;36m\u001b[K^~~~~~~~~~~~~~~~~~~~~~~~~~~~~~~~~~~~~~~~~~~~~~~~~~~~~~\u001b[m\u001b[K\n",
      "   39 | \u001b[01;36m\u001b[K                                  __glibc_objsize (__s), __fmt,\u001b[m\u001b[K\n",
      "      |                                   \u001b[01;36m\u001b[K~~~~~~~~~~~~~~~~~~~~~~~~~~~~~\u001b[m\u001b[K\n",
      "   40 | \u001b[01;36m\u001b[K                                  __va_arg_pack ())\u001b[m\u001b[K;\n",
      "      |                                   \u001b[01;36m\u001b[K~~~~~~~~~~~~~~~~~\u001b[m\u001b[K\n",
      "\u001b[01m\u001b[Kpan.c:1522:43:\u001b[m\u001b[K \u001b[01;35m\u001b[Kwarning: \u001b[m\u001b[K‘\u001b[01m\u001b[K.\u001b[m\u001b[K’ directive writing 1 byte into a region of size between 0 and 511 [\u001b[01;35m\u001b[K\u001b]8;;https://gcc.gnu.org/onlinedocs/gcc/Warning-Options.html#index-Wformat-overflow=\u0007-Wformat-overflow=\u001b]8;;\u0007\u001b[m\u001b[K]\n",
      " 1522 |                 {       sprintf(fnm, \"%s%d\u001b[01;35m\u001b[K.\u001b[m\u001b[K%s\",\n",
      "      |                                           \u001b[01;35m\u001b[K^\u001b[m\u001b[K\n",
      "In file included from \u001b[01m\u001b[K/usr/include/stdio.h:894\u001b[m\u001b[K,\n",
      "                 from \u001b[01m\u001b[Kpan.c:7\u001b[m\u001b[K:\n",
      "\u001b[01m\u001b[K/usr/include/x86_64-linux-gnu/bits/stdio2.h:38:10:\u001b[m\u001b[K \u001b[01;36m\u001b[Knote: \u001b[m\u001b[K‘\u001b[01m\u001b[K__builtin___sprintf_chk\u001b[m\u001b[K’ output between 8 and 529 bytes into a destination of size 512\n",
      "   38 |   return \u001b[01;36m\u001b[K__builtin___sprintf_chk (__s, __USE_FORTIFY_LEVEL - 1,\u001b[m\u001b[K\n",
      "      |          \u001b[01;36m\u001b[K^~~~~~~~~~~~~~~~~~~~~~~~~~~~~~~~~~~~~~~~~~~~~~~~~~~~~~\u001b[m\u001b[K\n",
      "   39 | \u001b[01;36m\u001b[K                                  __glibc_objsize (__s), __fmt,\u001b[m\u001b[K\n",
      "      |                                   \u001b[01;36m\u001b[K~~~~~~~~~~~~~~~~~~~~~~~~~~~~~\u001b[m\u001b[K\n",
      "   40 | \u001b[01;36m\u001b[K                                  __va_arg_pack ())\u001b[m\u001b[K;\n",
      "      |                                   \u001b[01;36m\u001b[K~~~~~~~~~~~~~~~~~\u001b[m\u001b[K\n",
      "\u001b[01m\u001b[Kpan.c:1534:51:\u001b[m\u001b[K \u001b[01;35m\u001b[Kwarning: \u001b[m\u001b[K‘\u001b[01m\u001b[K.\u001b[m\u001b[K’ directive writing 1 byte into a region of size between 0 and 511 [\u001b[01;35m\u001b[K\u001b]8;;https://gcc.gnu.org/onlinedocs/gcc/Warning-Options.html#index-Wformat-overflow=\u0007-Wformat-overflow=\u001b]8;;\u0007\u001b[m\u001b[K]\n",
      " 1534 |                                 sprintf(fnm, \"%s%d\u001b[01;35m\u001b[K.\u001b[m\u001b[K%s\",\n",
      "      |                                                   \u001b[01;35m\u001b[K^\u001b[m\u001b[K\n",
      "In file included from \u001b[01m\u001b[K/usr/include/stdio.h:894\u001b[m\u001b[K,\n",
      "                 from \u001b[01m\u001b[Kpan.c:7\u001b[m\u001b[K:\n",
      "\u001b[01m\u001b[K/usr/include/x86_64-linux-gnu/bits/stdio2.h:38:10:\u001b[m\u001b[K \u001b[01;36m\u001b[Knote: \u001b[m\u001b[K‘\u001b[01m\u001b[K__builtin___sprintf_chk\u001b[m\u001b[K’ output 3 or more bytes (assuming 514) into a destination of size 512\n",
      "   38 |   return \u001b[01;36m\u001b[K__builtin___sprintf_chk (__s, __USE_FORTIFY_LEVEL - 1,\u001b[m\u001b[K\n",
      "      |          \u001b[01;36m\u001b[K^~~~~~~~~~~~~~~~~~~~~~~~~~~~~~~~~~~~~~~~~~~~~~~~~~~~~~\u001b[m\u001b[K\n",
      "   39 | \u001b[01;36m\u001b[K                                  __glibc_objsize (__s), __fmt,\u001b[m\u001b[K\n",
      "      |                                   \u001b[01;36m\u001b[K~~~~~~~~~~~~~~~~~~~~~~~~~~~~~\u001b[m\u001b[K\n",
      "   40 | \u001b[01;36m\u001b[K                                  __va_arg_pack ())\u001b[m\u001b[K;\n",
      "      |                                   \u001b[01;36m\u001b[K~~~~~~~~~~~~~~~~~\u001b[m\u001b[K\n",
      "\u001b[01m\u001b[Kpan.c:1534:51:\u001b[m\u001b[K \u001b[01;35m\u001b[Kwarning: \u001b[m\u001b[K‘\u001b[01m\u001b[K.\u001b[m\u001b[K’ directive writing 1 byte into a region of size between 0 and 511 [\u001b[01;35m\u001b[K\u001b]8;;https://gcc.gnu.org/onlinedocs/gcc/Warning-Options.html#index-Wformat-overflow=\u0007-Wformat-overflow=\u001b]8;;\u0007\u001b[m\u001b[K]\n",
      " 1534 |                                 sprintf(fnm, \"%s%d\u001b[01;35m\u001b[K.\u001b[m\u001b[K%s\",\n",
      "      |                                                   \u001b[01;35m\u001b[K^\u001b[m\u001b[K\n",
      "In file included from \u001b[01m\u001b[K/usr/include/stdio.h:894\u001b[m\u001b[K,\n",
      "                 from \u001b[01m\u001b[Kpan.c:7\u001b[m\u001b[K:\n",
      "\u001b[01m\u001b[K/usr/include/x86_64-linux-gnu/bits/stdio2.h:38:10:\u001b[m\u001b[K \u001b[01;36m\u001b[Knote: \u001b[m\u001b[K‘\u001b[01m\u001b[K__builtin___sprintf_chk\u001b[m\u001b[K’ output 3 or more bytes (assuming 514) into a destination of size 512\n",
      "   38 |   return \u001b[01;36m\u001b[K__builtin___sprintf_chk (__s, __USE_FORTIFY_LEVEL - 1,\u001b[m\u001b[K\n",
      "      |          \u001b[01;36m\u001b[K^~~~~~~~~~~~~~~~~~~~~~~~~~~~~~~~~~~~~~~~~~~~~~~~~~~~~~\u001b[m\u001b[K\n",
      "   39 | \u001b[01;36m\u001b[K                                  __glibc_objsize (__s), __fmt,\u001b[m\u001b[K\n",
      "      |                                   \u001b[01;36m\u001b[K~~~~~~~~~~~~~~~~~~~~~~~~~~~~~\u001b[m\u001b[K\n",
      "   40 | \u001b[01;36m\u001b[K                                  __va_arg_pack ())\u001b[m\u001b[K;\n",
      "      |                                   \u001b[01;36m\u001b[K~~~~~~~~~~~~~~~~~\u001b[m\u001b[K\n",
      "\u001b[01m\u001b[Kpan.c:1596:34:\u001b[m\u001b[K \u001b[01;35m\u001b[Kwarning: \u001b[m\u001b[K‘\u001b[01m\u001b[K%s\u001b[m\u001b[K’ directive writing 5 bytes into a region of size between 0 and 511 [\u001b[01;35m\u001b[K\u001b]8;;https://gcc.gnu.org/onlinedocs/gcc/Warning-Options.html#index-Wformat-overflow=\u0007-Wformat-overflow=\u001b]8;;\u0007\u001b[m\u001b[K]\n",
      " 1583 |         tprefix = \u001b[32m\u001b[K\"trail\"\u001b[m\u001b[K;\n",
      "      |                   \u001b[32m\u001b[K~~~~~~~\u001b[m\u001b[K         \n",
      "......\n",
      " 1596 |         {       sprintf(fnm, \"%s.\u001b[01;35m\u001b[K%s\u001b[m\u001b[K\", MyFile, tprefix);\n",
      "      |                                  \u001b[01;35m\u001b[K^~\u001b[m\u001b[K\n",
      "In file included from \u001b[01m\u001b[K/usr/include/stdio.h:894\u001b[m\u001b[K,\n",
      "                 from \u001b[01m\u001b[Kpan.c:7\u001b[m\u001b[K:\n",
      "\u001b[01m\u001b[K/usr/include/x86_64-linux-gnu/bits/stdio2.h:38:10:\u001b[m\u001b[K \u001b[01;36m\u001b[Knote: \u001b[m\u001b[K‘\u001b[01m\u001b[K__builtin___sprintf_chk\u001b[m\u001b[K’ output between 7 and 518 bytes into a destination of size 512\n",
      "   38 |   return \u001b[01;36m\u001b[K__builtin___sprintf_chk (__s, __USE_FORTIFY_LEVEL - 1,\u001b[m\u001b[K\n",
      "      |          \u001b[01;36m\u001b[K^~~~~~~~~~~~~~~~~~~~~~~~~~~~~~~~~~~~~~~~~~~~~~~~~~~~~~\u001b[m\u001b[K\n",
      "   39 | \u001b[01;36m\u001b[K                                  __glibc_objsize (__s), __fmt,\u001b[m\u001b[K\n",
      "      |                                   \u001b[01;36m\u001b[K~~~~~~~~~~~~~~~~~~~~~~~~~~~~~\u001b[m\u001b[K\n",
      "   40 | \u001b[01;36m\u001b[K                                  __va_arg_pack ())\u001b[m\u001b[K;\n",
      "      |                                   \u001b[01;36m\u001b[K~~~~~~~~~~~~~~~~~\u001b[m\u001b[K\n",
      "\u001b[01m\u001b[Kpan.c:1600:44:\u001b[m\u001b[K \u001b[01;35m\u001b[Kwarning: \u001b[m\u001b[K‘\u001b[01m\u001b[K__builtin___sprintf_chk\u001b[m\u001b[K’ may write a terminating nul past the end of the destination [\u001b[01;35m\u001b[K\u001b]8;;https://gcc.gnu.org/onlinedocs/gcc/Warning-Options.html#index-Wformat-overflow=\u0007-Wformat-overflow=\u001b]8;;\u0007\u001b[m\u001b[K]\n",
      " 1600 |                         sprintf(fnm, \"%s.%s\u001b[01;35m\u001b[K\"\u001b[m\u001b[K, MyFile, tprefix);\n",
      "      |                                            \u001b[01;35m\u001b[K^\u001b[m\u001b[K\n",
      "In file included from \u001b[01m\u001b[K/usr/include/stdio.h:894\u001b[m\u001b[K,\n",
      "                 from \u001b[01m\u001b[Kpan.c:7\u001b[m\u001b[K:\n",
      "\u001b[01m\u001b[K/usr/include/x86_64-linux-gnu/bits/stdio2.h:38:10:\u001b[m\u001b[K \u001b[01;36m\u001b[Knote: \u001b[m\u001b[K‘\u001b[01m\u001b[K__builtin___sprintf_chk\u001b[m\u001b[K’ output 2 or more bytes (assuming 513) into a destination of size 512\n",
      "   38 |   return \u001b[01;36m\u001b[K__builtin___sprintf_chk (__s, __USE_FORTIFY_LEVEL - 1,\u001b[m\u001b[K\n",
      "      |          \u001b[01;36m\u001b[K^~~~~~~~~~~~~~~~~~~~~~~~~~~~~~~~~~~~~~~~~~~~~~~~~~~~~~\u001b[m\u001b[K\n",
      "   39 | \u001b[01;36m\u001b[K                                  __glibc_objsize (__s), __fmt,\u001b[m\u001b[K\n",
      "      |                                   \u001b[01;36m\u001b[K~~~~~~~~~~~~~~~~~~~~~~~~~~~~~\u001b[m\u001b[K\n",
      "   40 | \u001b[01;36m\u001b[K                                  __va_arg_pack ())\u001b[m\u001b[K;\n",
      "      |                                   \u001b[01;36m\u001b[K~~~~~~~~~~~~~~~~~\u001b[m\u001b[K\n",
      "\u001b[01m\u001b[Kpan.c:1586:35:\u001b[m\u001b[K \u001b[01;35m\u001b[Kwarning: \u001b[m\u001b[K‘\u001b[01m\u001b[K.\u001b[m\u001b[K’ directive writing 1 byte into a region of size between 0 and 511 [\u001b[01;35m\u001b[K\u001b]8;;https://gcc.gnu.org/onlinedocs/gcc/Warning-Options.html#index-Wformat-overflow=\u0007-Wformat-overflow=\u001b]8;;\u0007\u001b[m\u001b[K]\n",
      " 1586 |         {       sprintf(fnm, \"%s%d\u001b[01;35m\u001b[K.\u001b[m\u001b[K%s\", MyFile, whichtrail, tprefix);\n",
      "      |                                   \u001b[01;35m\u001b[K^\u001b[m\u001b[K\n",
      "In file included from \u001b[01m\u001b[K/usr/include/stdio.h:894\u001b[m\u001b[K,\n",
      "                 from \u001b[01m\u001b[Kpan.c:7\u001b[m\u001b[K:\n",
      "\u001b[01m\u001b[K/usr/include/x86_64-linux-gnu/bits/stdio2.h:38:10:\u001b[m\u001b[K \u001b[01;36m\u001b[Knote: \u001b[m\u001b[K‘\u001b[01m\u001b[K__builtin___sprintf_chk\u001b[m\u001b[K’ output between 8 and 529 bytes into a destination of size 512\n",
      "   38 |   return \u001b[01;36m\u001b[K__builtin___sprintf_chk (__s, __USE_FORTIFY_LEVEL - 1,\u001b[m\u001b[K\n",
      "      |          \u001b[01;36m\u001b[K^~~~~~~~~~~~~~~~~~~~~~~~~~~~~~~~~~~~~~~~~~~~~~~~~~~~~~\u001b[m\u001b[K\n",
      "   39 | \u001b[01;36m\u001b[K                                  __glibc_objsize (__s), __fmt,\u001b[m\u001b[K\n",
      "      |                                   \u001b[01;36m\u001b[K~~~~~~~~~~~~~~~~~~~~~~~~~~~~~\u001b[m\u001b[K\n",
      "   40 | \u001b[01;36m\u001b[K                                  __va_arg_pack ())\u001b[m\u001b[K;\n",
      "      |                                   \u001b[01;36m\u001b[K~~~~~~~~~~~~~~~~~\u001b[m\u001b[K\n",
      "\u001b[01m\u001b[Kpan.c:1590:43:\u001b[m\u001b[K \u001b[01;35m\u001b[Kwarning: \u001b[m\u001b[K‘\u001b[01m\u001b[K.\u001b[m\u001b[K’ directive writing 1 byte into a region of size between 0 and 511 [\u001b[01;35m\u001b[K\u001b]8;;https://gcc.gnu.org/onlinedocs/gcc/Warning-Options.html#index-Wformat-overflow=\u0007-Wformat-overflow=\u001b]8;;\u0007\u001b[m\u001b[K]\n",
      " 1590 |                         sprintf(fnm, \"%s%d\u001b[01;35m\u001b[K.\u001b[m\u001b[K%s\",\n",
      "      |                                           \u001b[01;35m\u001b[K^\u001b[m\u001b[K\n",
      "In file included from \u001b[01m\u001b[K/usr/include/stdio.h:894\u001b[m\u001b[K,\n",
      "                 from \u001b[01m\u001b[Kpan.c:7\u001b[m\u001b[K:\n",
      "\u001b[01m\u001b[K/usr/include/x86_64-linux-gnu/bits/stdio2.h:38:10:\u001b[m\u001b[K \u001b[01;36m\u001b[Knote: \u001b[m\u001b[K‘\u001b[01m\u001b[K__builtin___sprintf_chk\u001b[m\u001b[K’ output 3 or more bytes (assuming 514) into a destination of size 512\n",
      "   38 |   return \u001b[01;36m\u001b[K__builtin___sprintf_chk (__s, __USE_FORTIFY_LEVEL - 1,\u001b[m\u001b[K\n",
      "      |          \u001b[01;36m\u001b[K^~~~~~~~~~~~~~~~~~~~~~~~~~~~~~~~~~~~~~~~~~~~~~~~~~~~~~\u001b[m\u001b[K\n",
      "   39 | \u001b[01;36m\u001b[K                                  __glibc_objsize (__s), __fmt,\u001b[m\u001b[K\n",
      "      |                                   \u001b[01;36m\u001b[K~~~~~~~~~~~~~~~~~~~~~~~~~~~~~\u001b[m\u001b[K\n",
      "   40 | \u001b[01;36m\u001b[K                                  __va_arg_pack ())\u001b[m\u001b[K;\n",
      "      |                                   \u001b[01;36m\u001b[K~~~~~~~~~~~~~~~~~\u001b[m\u001b[K\n",
      "\n",
      "(Spin Version 6.5.1 -- 20 December 2019)\n",
      "\t+ Partial Order Reduction\n",
      "\n",
      "Full statespace search for:\n",
      "\tnever claim         \t- (none specified)\n",
      "\tassertion violations\t+\n",
      "\tcycle checks       \t- (disabled by -DSAFETY)\n",
      "\tinvalid end states\t+\n",
      "\n",
      "State-vector 28 byte, depth reached 52, errors: 0\n",
      "      166 states, stored\n",
      "      129 states, matched\n",
      "      295 transitions (= stored+matched)\n",
      "        0 atomic steps\n",
      "hash conflicts:         0 (resolved)\n",
      "\n",
      "Stats on memory usage (in Megabytes):\n",
      "    0.009\tequivalent memory usage for states (stored*(State-vector + overhead))\n",
      "    0.288\tactual memory usage for states\n",
      "  128.000\tmemory used for hash table (-w24)\n",
      "    0.534\tmemory used for DFS stack (-m10000)\n",
      "  128.730\ttotal actual memory usage\n",
      "\n",
      "\n",
      "unreached in proctype p\n",
      "\tl4.1-dekker-algo-safety.pml:64, state 24, \"-end-\"\n",
      "\t(1 of 24 states)\n",
      "unreached in proctype q\n",
      "\tl4.1-dekker-algo-safety.pml:86, state 24, \"-end-\"\n",
      "\t(1 of 24 states)\n",
      "\n",
      "pan: elapsed time 0 seconds\n"
     ]
    }
   ],
   "source": [
    "# Listing 4.1. Dekker's algorithm in Promela\n",
    "!spin -run -safety l4.1-dekker-algo-safety.pml"
   ]
  },
  {
   "cell_type": "markdown",
   "metadata": {},
   "source": [
    "## 5. Advanced Algorithms for the Critical Section Problem"
   ]
  },
  {
   "cell_type": "markdown",
   "metadata": {},
   "source": [
    "## 6. Semaphores"
   ]
  },
  {
   "cell_type": "markdown",
   "metadata": {},
   "source": [
    "## 7. Monitors"
   ]
  },
  {
   "cell_type": "markdown",
   "metadata": {},
   "source": [
    "## 8. Channels"
   ]
  },
  {
   "cell_type": "markdown",
   "metadata": {},
   "source": [
    "## 9. Spaces"
   ]
  },
  {
   "cell_type": "markdown",
   "metadata": {},
   "source": [
    "## 10. Distributed Algorithms"
   ]
  },
  {
   "cell_type": "markdown",
   "metadata": {},
   "source": [
    "## 11. Global Properties"
   ]
  },
  {
   "cell_type": "markdown",
   "metadata": {},
   "source": [
    "## 12. Consensus"
   ]
  },
  {
   "cell_type": "markdown",
   "metadata": {},
   "source": [
    "## 13. Real-Time Systems"
   ]
  },
  {
   "cell_type": "markdown",
   "metadata": {},
   "source": [
    "## A. The Pseudocode Notation"
   ]
  },
  {
   "cell_type": "markdown",
   "metadata": {},
   "source": [
    "## B. Review of Mathematical Logic"
   ]
  },
  {
   "cell_type": "markdown",
   "metadata": {},
   "source": [
    "## C. Concurrent Programming Problems"
   ]
  },
  {
   "cell_type": "markdown",
   "metadata": {},
   "source": [
    "## D. Software Tools"
   ]
  },
  {
   "cell_type": "markdown",
   "metadata": {},
   "source": [
    "- BACI, jBACI\n",
    "- Spin, jSpin\n",
    "- DAJ: https://github.com/motib/daj\n",
    "\n",
    "\n",
    "Spin, jSpin:\n",
    "- 验证过程: 生成验证器, 执行验证器, 无错误或有错误(生成踪迹文件)\n",
    "  - 是否将LTL公式翻译为never claim\n",
    "```\n",
    "-f \"..formula..\"  translate LTL into never claim\n",
    "```\n",
    "- 三种模式\n",
    "  - safety: 用于验证安全性属性(例如无死锁), 断言和不变量(例如使用`[]`公式表达的)\n",
    "  - acceptance: 用于验证活跃性属性(例如使用`<>`公式表达式的无饥饿)\n",
    "  - non-progress: 另一种验证活跃性属性的方法, 不显式编写LTL公式.\n",
    "```\n",
    "-run\n",
    "\t\t    -safety\tcompile for safety properties only\n",
    "\t\t    -a\t    \tsearch for acceptance cycles\n",
    "\t\t    -l\t    \tsearch for non-progress cycles\n",
    "```\n",
    "- 可以选择验证时是否假设weak fairness."
   ]
  }
 ],
 "metadata": {
  "kernelspec": {
   "display_name": "Python 3",
   "language": "python",
   "name": "python3"
  },
  "language_info": {
   "codemirror_mode": {
    "name": "ipython",
    "version": 3
   },
   "file_extension": ".py",
   "mimetype": "text/x-python",
   "name": "python",
   "nbconvert_exporter": "python",
   "pygments_lexer": "ipython3",
   "version": "3.12.7"
  }
 },
 "nbformat": 4,
 "nbformat_minor": 2
}
